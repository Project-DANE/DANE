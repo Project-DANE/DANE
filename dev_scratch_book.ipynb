{
 "cells": [
  {
   "cell_type": "code",
   "execution_count": 1,
   "id": "eb27f452",
   "metadata": {},
   "outputs": [],
   "source": [
    "import pandas as pd\n",
    "import numpy as np\n",
    "\n",
    "import matplotlib.pyplot as plt\n",
    "import seaborn as sns\n",
    "\n",
    "import wrangle as w\n",
    "import explore as e\n",
    "\n",
    "import scipy.stats as stats\n",
    "from sklearn.model_selection import train_test_split\n",
    "from sklearn.preprocessing import StandardScaler\n",
    "from sklearn.ensemble import RandomForestClassifier\n",
    "from sklearn.linear_model import LogisticRegression\n",
    "from sklearn.neighbors import KNeighborsClassifier\n",
    "from sklearn.metrics import classification_report\n",
    "from sklearn.metrics import confusion_matrix\n",
    "\n",
    "pd.set_option('display.max_rows', None)\n",
    "pd.set_option('display.max_columns', None)"
   ]
  },
  {
   "cell_type": "code",
   "execution_count": 2,
   "id": "3bb00913",
   "metadata": {},
   "outputs": [],
   "source": [
    "\n",
    "# to pull: git pull origin main\n",
    "# to go to branch: git checkout dev_branch"
   ]
  },
  {
   "cell_type": "code",
   "execution_count": 3,
   "id": "95cf2994",
   "metadata": {},
   "outputs": [],
   "source": [
    "# df = pd.read_csv('cws_residents.csv')"
   ]
  },
  {
   "cell_type": "code",
   "execution_count": 4,
   "id": "cb30de98",
   "metadata": {},
   "outputs": [],
   "source": [
    "df = w.get_cws_data()"
   ]
  },
  {
   "cell_type": "code",
   "execution_count": 5,
   "id": "23eddcc2",
   "metadata": {},
   "outputs": [
    {
     "data": {
      "text/html": [
       "<div>\n",
       "<style scoped>\n",
       "    .dataframe tbody tr th:only-of-type {\n",
       "        vertical-align: middle;\n",
       "    }\n",
       "\n",
       "    .dataframe tbody tr th {\n",
       "        vertical-align: top;\n",
       "    }\n",
       "\n",
       "    .dataframe thead th {\n",
       "        text-align: right;\n",
       "    }\n",
       "</style>\n",
       "<table border=\"1\" class=\"dataframe\">\n",
       "  <thead>\n",
       "    <tr style=\"text-align: right;\">\n",
       "      <th></th>\n",
       "      <th>id</th>\n",
       "      <th>total_charges</th>\n",
       "      <th>amount_paid</th>\n",
       "      <th>open</th>\n",
       "      <th>charge_code</th>\n",
       "      <th>description</th>\n",
       "      <th>prop_id</th>\n",
       "      <th>charge_name</th>\n",
       "      <th>sStatus</th>\n",
       "      <th>rent</th>\n",
       "      <th>term</th>\n",
       "      <th>monthly_inc</th>\n",
       "      <th>GuarantorRequired</th>\n",
       "      <th>total_inc</th>\n",
       "      <th>Recommendation</th>\n",
       "      <th>age</th>\n",
       "      <th>risk_score</th>\n",
       "      <th>reason</th>\n",
       "      <th>bad_resident</th>\n",
       "    </tr>\n",
       "  </thead>\n",
       "  <tbody>\n",
       "    <tr>\n",
       "      <th>0</th>\n",
       "      <td>3946</td>\n",
       "      <td>75.00</td>\n",
       "      <td>75.00</td>\n",
       "      <td>0</td>\n",
       "      <td>131</td>\n",
       "      <td>Uncllctbl key, remote fees</td>\n",
       "      <td>136</td>\n",
       "      <td>Uncllctbl key, remote fees</td>\n",
       "      <td>Current</td>\n",
       "      <td>1311</td>\n",
       "      <td>15</td>\n",
       "      <td>52500</td>\n",
       "      <td>False</td>\n",
       "      <td>666000</td>\n",
       "      <td>Accept</td>\n",
       "      <td>33</td>\n",
       "      <td>745</td>\n",
       "      <td>Insufficient period of Residence History</td>\n",
       "      <td>1</td>\n",
       "    </tr>\n",
       "    <tr>\n",
       "      <th>1</th>\n",
       "      <td>3962</td>\n",
       "      <td>13.66</td>\n",
       "      <td>13.66</td>\n",
       "      <td>0</td>\n",
       "      <td>112</td>\n",
       "      <td>Water 8/1/2021-9/1/2021</td>\n",
       "      <td>136</td>\n",
       "      <td>Utility-water charges</td>\n",
       "      <td>Current</td>\n",
       "      <td>1661</td>\n",
       "      <td>12</td>\n",
       "      <td>65000</td>\n",
       "      <td>False</td>\n",
       "      <td>889992</td>\n",
       "      <td>Accept with Conditions (Extra Deposit)</td>\n",
       "      <td>27</td>\n",
       "      <td>758</td>\n",
       "      <td>No Credit Experience</td>\n",
       "      <td>0</td>\n",
       "    </tr>\n",
       "    <tr>\n",
       "      <th>2</th>\n",
       "      <td>4050</td>\n",
       "      <td>46.17</td>\n",
       "      <td>46.17</td>\n",
       "      <td>0</td>\n",
       "      <td>155</td>\n",
       "      <td>Damage charges - Clean</td>\n",
       "      <td>136</td>\n",
       "      <td>Damage charges</td>\n",
       "      <td>Current</td>\n",
       "      <td>1412</td>\n",
       "      <td>12</td>\n",
       "      <td>48000</td>\n",
       "      <td>False</td>\n",
       "      <td>576000</td>\n",
       "      <td>Accept with Conditions (Extra Deposit)</td>\n",
       "      <td>33</td>\n",
       "      <td>666</td>\n",
       "      <td>Insufficient period of Residence History</td>\n",
       "      <td>1</td>\n",
       "    </tr>\n",
       "    <tr>\n",
       "      <th>3</th>\n",
       "      <td>4948</td>\n",
       "      <td>9.76</td>\n",
       "      <td>9.76</td>\n",
       "      <td>0</td>\n",
       "      <td>111</td>\n",
       "      <td>Sewer Charge</td>\n",
       "      <td>140</td>\n",
       "      <td>Utility-sewer charges</td>\n",
       "      <td>Current</td>\n",
       "      <td>1377</td>\n",
       "      <td>18</td>\n",
       "      <td>72000</td>\n",
       "      <td>False</td>\n",
       "      <td>0</td>\n",
       "      <td>A-Criminal History Meets Requirements</td>\n",
       "      <td>39</td>\n",
       "      <td>0</td>\n",
       "      <td>Meets All Property Requirements</td>\n",
       "      <td>0</td>\n",
       "    </tr>\n",
       "    <tr>\n",
       "      <th>4</th>\n",
       "      <td>5001</td>\n",
       "      <td>6.85</td>\n",
       "      <td>6.85</td>\n",
       "      <td>0</td>\n",
       "      <td>113</td>\n",
       "      <td>Sewer Base Charge</td>\n",
       "      <td>140</td>\n",
       "      <td>Utility-water flat base charges</td>\n",
       "      <td>Current</td>\n",
       "      <td>2199</td>\n",
       "      <td>13</td>\n",
       "      <td>0</td>\n",
       "      <td>True</td>\n",
       "      <td>54996</td>\n",
       "      <td>Accept with Conditions (Guarantor)</td>\n",
       "      <td>23</td>\n",
       "      <td>752</td>\n",
       "      <td>NaN</td>\n",
       "      <td>0</td>\n",
       "    </tr>\n",
       "  </tbody>\n",
       "</table>\n",
       "</div>"
      ],
      "text/plain": [
       "     id  total_charges  amount_paid  open  charge_code  \\\n",
       "0  3946          75.00        75.00     0          131   \n",
       "1  3962          13.66        13.66     0          112   \n",
       "2  4050          46.17        46.17     0          155   \n",
       "3  4948           9.76         9.76     0          111   \n",
       "4  5001           6.85         6.85     0          113   \n",
       "\n",
       "                  description  prop_id                      charge_name  \\\n",
       "0  Uncllctbl key, remote fees      136       Uncllctbl key, remote fees   \n",
       "1     Water 8/1/2021-9/1/2021      136            Utility-water charges   \n",
       "2      Damage charges - Clean      136                   Damage charges   \n",
       "3                Sewer Charge      140            Utility-sewer charges   \n",
       "4           Sewer Base Charge      140  Utility-water flat base charges   \n",
       "\n",
       "   sStatus  rent  term  monthly_inc  GuarantorRequired  total_inc  \\\n",
       "0  Current  1311    15        52500              False     666000   \n",
       "1  Current  1661    12        65000              False     889992   \n",
       "2  Current  1412    12        48000              False     576000   \n",
       "3  Current  1377    18        72000              False          0   \n",
       "4  Current  2199    13            0               True      54996   \n",
       "\n",
       "                           Recommendation  age  risk_score  \\\n",
       "0                                  Accept   33         745   \n",
       "1  Accept with Conditions (Extra Deposit)   27         758   \n",
       "2  Accept with Conditions (Extra Deposit)   33         666   \n",
       "3   A-Criminal History Meets Requirements   39           0   \n",
       "4      Accept with Conditions (Guarantor)   23         752   \n",
       "\n",
       "                                     reason  bad_resident  \n",
       "0  Insufficient period of Residence History             1  \n",
       "1                      No Credit Experience             0  \n",
       "2  Insufficient period of Residence History             1  \n",
       "3           Meets All Property Requirements             0  \n",
       "4                                       NaN             0  "
      ]
     },
     "execution_count": 5,
     "metadata": {},
     "output_type": "execute_result"
    }
   ],
   "source": [
    "df.head()"
   ]
  },
  {
   "cell_type": "code",
   "execution_count": 6,
   "id": "6ad9c4ca",
   "metadata": {},
   "outputs": [
    {
     "data": {
      "text/plain": [
       "(4999, 19)"
      ]
     },
     "execution_count": 6,
     "metadata": {},
     "output_type": "execute_result"
    }
   ],
   "source": [
    "df.shape"
   ]
  },
  {
   "cell_type": "code",
   "execution_count": 7,
   "id": "0e262652",
   "metadata": {},
   "outputs": [
    {
     "data": {
      "text/plain": [
       "4999"
      ]
     },
     "execution_count": 7,
     "metadata": {},
     "output_type": "execute_result"
    }
   ],
   "source": [
    "df.id.nunique()"
   ]
  },
  {
   "cell_type": "code",
   "execution_count": 8,
   "id": "c4c7af66",
   "metadata": {},
   "outputs": [
    {
     "data": {
      "text/plain": [
       "Index(['id', 'total_charges', 'amount_paid', 'open', 'charge_code',\n",
       "       'description', 'prop_id', 'charge_name', 'sStatus', 'rent', 'term',\n",
       "       'monthly_inc', 'GuarantorRequired', 'total_inc', 'Recommendation',\n",
       "       'age', 'risk_score', 'reason', 'bad_resident'],\n",
       "      dtype='object')"
      ]
     },
     "execution_count": 8,
     "metadata": {},
     "output_type": "execute_result"
    }
   ],
   "source": [
    "df.columns"
   ]
  },
  {
   "cell_type": "code",
   "execution_count": 9,
   "id": "7b304d19",
   "metadata": {},
   "outputs": [
    {
     "data": {
      "text/plain": [
       "id                     0\n",
       "total_charges          0\n",
       "amount_paid            0\n",
       "open                   0\n",
       "charge_code            0\n",
       "description            0\n",
       "prop_id                0\n",
       "charge_name            0\n",
       "sStatus                0\n",
       "rent                   0\n",
       "term                   0\n",
       "monthly_inc            0\n",
       "GuarantorRequired      0\n",
       "total_inc              0\n",
       "Recommendation         0\n",
       "age                    0\n",
       "risk_score             0\n",
       "reason               144\n",
       "bad_resident           0\n",
       "dtype: int64"
      ]
     },
     "execution_count": 9,
     "metadata": {},
     "output_type": "execute_result"
    }
   ],
   "source": [
    "df.isnull().sum()"
   ]
  },
  {
   "cell_type": "code",
   "execution_count": 10,
   "id": "25d1c2a8",
   "metadata": {},
   "outputs": [],
   "source": [
    "train, validate, test, X_train, y_train, X_val, y_val, X_test, y_test = w.train_vailidate_test_split(df, 'bad_resident', strat ='bad_resident')"
   ]
  },
  {
   "cell_type": "code",
   "execution_count": 11,
   "id": "fabc41b3",
   "metadata": {
    "scrolled": false
   },
   "outputs": [
    {
     "data": {
      "text/plain": [
       "((2799, 19), (1200, 19), (1000, 19))"
      ]
     },
     "execution_count": 11,
     "metadata": {},
     "output_type": "execute_result"
    }
   ],
   "source": [
    "train.shape, validate.shape, test.shape"
   ]
  },
  {
   "cell_type": "code",
   "execution_count": 20,
   "id": "636d4563",
   "metadata": {},
   "outputs": [
    {
     "data": {
      "text/plain": [
       "False    2437\n",
       "True      362\n",
       "Name: GuarantorRequired, dtype: int64"
      ]
     },
     "execution_count": 20,
     "metadata": {},
     "output_type": "execute_result"
    }
   ],
   "source": [
    "train.GuarantorRequired.value_counts()"
   ]
  },
  {
   "cell_type": "code",
   "execution_count": 21,
   "id": "bec0bad4",
   "metadata": {},
   "outputs": [
    {
     "data": {
      "text/plain": [
       "0    2692\n",
       "1     107\n",
       "Name: bad_resident, dtype: int64"
      ]
     },
     "execution_count": 21,
     "metadata": {},
     "output_type": "execute_result"
    }
   ],
   "source": [
    "train.bad_resident.value_counts()"
   ]
  },
  {
   "cell_type": "code",
   "execution_count": 22,
   "id": "19bd7daa",
   "metadata": {},
   "outputs": [],
   "source": [
    "def vis_countplot(col, train):\n",
    "    ''' takes in a column name and a dataframe and show countplot graph'''\n",
    "    \n",
    "    #plot countplot graph\n",
    "    sns.countplot(x=col, hue='bad_resident', data=train)\n",
    "    sns.despine()\n",
    "    plt.title('Gurrantor Required relationship with Resident Type')\n",
    "    plt.xlabel('Gurrantor Required')\n",
    "    plt.show()"
   ]
  },
  {
   "cell_type": "code",
   "execution_count": 23,
   "id": "20accb1d",
   "metadata": {},
   "outputs": [],
   "source": [
    "def chi_test(col, train):\n",
    "    '''takes in a column name and a dataframe and runs chi-square test to compare relationship of bad_resident \n",
    "    with a datframe attributes \n",
    "    '''\n",
    "    \n",
    "    # set alpha value to 0.05\n",
    "    alpha = 0.05\n",
    "    \n",
    "    # set null and alternative hypothesis \n",
    "    null_hypothesis = col + ' and bad_resident are independent'\n",
    "    alternative_hypothesis = col + ' and bad_resident are dependent'\n",
    "\n",
    "    # create an observed crosstab, or contingency table from a dataframe's two columns\n",
    "    observed = pd.crosstab(train[col], train.bad_resident)\n",
    "\n",
    "    # run chi-square test\n",
    "    chi2, p, degf, expected = stats.chi2_contingency(observed)\n",
    "\n",
    "    # print Null Hypothesis followed by a new line\n",
    "    print(f'Null Hypothesis: {null_hypothesis}\\n')\n",
    "\n",
    "    # print Alternative Hypothesis followed by a new line\n",
    "    print(f'Alternative Hypothesis: {alternative_hypothesis}\\n')\n",
    "\n",
    "    # print the chi2 value\n",
    "    print(f'chi^2 = {chi2}') \n",
    "\n",
    "    # print the p-value followed by a new line\n",
    "    print(f'p     = {p}\\n')\n",
    "\n",
    "    if p < alpha:\n",
    "        print(f'We reject null hypothesis')\n",
    "        print(f'There exists some relationship between {col} and bad_resident.')\n",
    "    else:\n",
    "        print(f'We fail to reject null hypothesis')\n",
    "        print(f'There appears to be no significant relationship between {col} and bad_resident.')"
   ]
  },
  {
   "cell_type": "code",
   "execution_count": 24,
   "id": "bea2dbc5",
   "metadata": {
    "scrolled": false
   },
   "outputs": [
    {
     "data": {
      "image/png": "[encoded data removed]",
      "text/plain": [
       "<Figure size 640x480 with 1 Axes>"
      ]
     },
     "metadata": {},
     "output_type": "display_data"
    }
   ],
   "source": [
    "vis_countplot('GuarantorRequired', train)"
   ]
  },
  {
   "cell_type": "code",
   "execution_count": 25,
   "id": "125314c8",
   "metadata": {},
   "outputs": [
    {
     "name": "stdout",
     "output_type": "stream",
     "text": [
      "Null Hypothesis: GuarantorRequired and bad_resident are independent\n",
      "\n",
      "Alternative Hypothesis: GuarantorRequired and bad_resident are dependent\n",
      "\n",
      "chi^2 = 0.15460781387865227\n",
      "p     = 0.6941702916474859\n",
      "\n",
      "We fail to reject null hypothesis\n",
      "There appears to be no significant relationship between GuarantorRequired and bad_resident.\n"
     ]
    }
   ],
   "source": [
    "chi_test('GuarantorRequired', train)"
   ]
  },
  {
   "cell_type": "code",
   "execution_count": 104,
   "id": "9bd9549b",
   "metadata": {},
   "outputs": [
    {
     "data": {
      "text/plain": [
       "False    2437\n",
       "True      362\n",
       "Name: GuarantorRequired, dtype: int64"
      ]
     },
     "execution_count": 104,
     "metadata": {},
     "output_type": "execute_result"
    }
   ],
   "source": [
    "train.GuarantorRequired.value_counts()"
   ]
  },
  {
   "cell_type": "code",
   "execution_count": 107,
   "id": "a82eefb3",
   "metadata": {},
   "outputs": [
    {
     "data": {
      "text/html": [
       "<div>\n",
       "<style scoped>\n",
       "    .dataframe tbody tr th:only-of-type {\n",
       "        vertical-align: middle;\n",
       "    }\n",
       "\n",
       "    .dataframe tbody tr th {\n",
       "        vertical-align: top;\n",
       "    }\n",
       "\n",
       "    .dataframe thead th {\n",
       "        text-align: right;\n",
       "    }\n",
       "</style>\n",
       "<table border=\"1\" class=\"dataframe\">\n",
       "  <thead>\n",
       "    <tr style=\"text-align: right;\">\n",
       "      <th></th>\n",
       "      <th>id</th>\n",
       "      <th>total_charges</th>\n",
       "      <th>amount_paid</th>\n",
       "      <th>open</th>\n",
       "      <th>charge_code</th>\n",
       "      <th>description</th>\n",
       "      <th>prop_id</th>\n",
       "      <th>charge_name</th>\n",
       "      <th>sStatus</th>\n",
       "      <th>rent</th>\n",
       "      <th>term</th>\n",
       "      <th>monthly_inc</th>\n",
       "      <th>GuarantorRequired</th>\n",
       "      <th>total_inc</th>\n",
       "      <th>Recommendation</th>\n",
       "      <th>age</th>\n",
       "      <th>risk_score</th>\n",
       "      <th>reason</th>\n",
       "      <th>bad_resident</th>\n",
       "    </tr>\n",
       "  </thead>\n",
       "  <tbody>\n",
       "    <tr>\n",
       "      <th>2707</th>\n",
       "      <td>63851</td>\n",
       "      <td>2.0</td>\n",
       "      <td>2.0</td>\n",
       "      <td>0</td>\n",
       "      <td>190</td>\n",
       "      <td>Pest control (02/2023)</td>\n",
       "      <td>126</td>\n",
       "      <td>Pest control</td>\n",
       "      <td>Current</td>\n",
       "      <td>1639</td>\n",
       "      <td>12</td>\n",
       "      <td>3900</td>\n",
       "      <td>False</td>\n",
       "      <td>0</td>\n",
       "      <td>A-Criminal History Meets Requirements</td>\n",
       "      <td>27</td>\n",
       "      <td>0</td>\n",
       "      <td>Meets All Property Requirements</td>\n",
       "      <td>0</td>\n",
       "    </tr>\n",
       "    <tr>\n",
       "      <th>4983</th>\n",
       "      <td>73919</td>\n",
       "      <td>1650.0</td>\n",
       "      <td>1650.0</td>\n",
       "      <td>0</td>\n",
       "      <td>21</td>\n",
       "      <td>Deposit (Amounts subject to screening results)</td>\n",
       "      <td>103</td>\n",
       "      <td>Deposit received</td>\n",
       "      <td>Current</td>\n",
       "      <td>1719</td>\n",
       "      <td>12</td>\n",
       "      <td>6600</td>\n",
       "      <td>False</td>\n",
       "      <td>75684</td>\n",
       "      <td>Accept with Conditions (Extra Deposit)</td>\n",
       "      <td>31</td>\n",
       "      <td>745</td>\n",
       "      <td>NaN</td>\n",
       "      <td>0</td>\n",
       "    </tr>\n",
       "    <tr>\n",
       "      <th>4959</th>\n",
       "      <td>73653</td>\n",
       "      <td>4.0</td>\n",
       "      <td>4.0</td>\n",
       "      <td>0</td>\n",
       "      <td>180</td>\n",
       "      <td>Next Month's Administration Processing Fee</td>\n",
       "      <td>84</td>\n",
       "      <td>Administration processing fee</td>\n",
       "      <td>Current</td>\n",
       "      <td>1661</td>\n",
       "      <td>9</td>\n",
       "      <td>8176</td>\n",
       "      <td>False</td>\n",
       "      <td>221364</td>\n",
       "      <td>Accept with Conditions (Extra Deposit)</td>\n",
       "      <td>37</td>\n",
       "      <td>687</td>\n",
       "      <td>Limited period of Employment History</td>\n",
       "      <td>0</td>\n",
       "    </tr>\n",
       "  </tbody>\n",
       "</table>\n",
       "</div>"
      ],
      "text/plain": [
       "         id  total_charges  amount_paid  open  charge_code  \\\n",
       "2707  63851            2.0          2.0     0          190   \n",
       "4983  73919         1650.0       1650.0     0           21   \n",
       "4959  73653            4.0          4.0     0          180   \n",
       "\n",
       "                                         description  prop_id  \\\n",
       "2707                          Pest control (02/2023)      126   \n",
       "4983  Deposit (Amounts subject to screening results)      103   \n",
       "4959      Next Month's Administration Processing Fee       84   \n",
       "\n",
       "                        charge_name  sStatus  rent  term  monthly_inc  \\\n",
       "2707                   Pest control  Current  1639    12         3900   \n",
       "4983               Deposit received  Current  1719    12         6600   \n",
       "4959  Administration processing fee  Current  1661     9         8176   \n",
       "\n",
       "      GuarantorRequired  total_inc                          Recommendation  \\\n",
       "2707              False          0   A-Criminal History Meets Requirements   \n",
       "4983              False      75684  Accept with Conditions (Extra Deposit)   \n",
       "4959              False     221364  Accept with Conditions (Extra Deposit)   \n",
       "\n",
       "      age  risk_score                                reason  bad_resident  \n",
       "2707   27           0       Meets All Property Requirements             0  \n",
       "4983   31         745                                   NaN             0  \n",
       "4959   37         687  Limited period of Employment History             0  "
      ]
     },
     "execution_count": 107,
     "metadata": {},
     "output_type": "execute_result"
    }
   ],
   "source": [
    "guarrantor_no = train[ (train.GuarantorRequired==False)]\n",
    "guarrantor_no.head(3)"
   ]
  },
  {
   "cell_type": "code",
   "execution_count": 108,
   "id": "ab5cdec0",
   "metadata": {},
   "outputs": [
    {
     "data": {
      "text/plain": [
       "0    2342\n",
       "1      95\n",
       "Name: bad_resident, dtype: int64"
      ]
     },
     "execution_count": 108,
     "metadata": {},
     "output_type": "execute_result"
    }
   ],
   "source": [
    "guarrantor_no.bad_resident.value_counts()"
   ]
  },
  {
   "cell_type": "code",
   "execution_count": 111,
   "id": "6276e8b4",
   "metadata": {},
   "outputs": [
    {
     "data": {
      "text/plain": [
       "Damage charges                 38\n",
       "Uncllctbl Non Rent             26\n",
       "Uncllctbl key, remote fees     13\n",
       "Charges for cleaning needed    12\n",
       "Uncllctbl cleaning, damages     3\n",
       "Uncllctbl rent                  3\n",
       "Name: charge_name, dtype: int64"
      ]
     },
     "execution_count": 111,
     "metadata": {},
     "output_type": "execute_result"
    }
   ],
   "source": [
    "guarrantor_no[guarrantor_no.bad_resident==1].charge_name.value_counts()"
   ]
  },
  {
   "cell_type": "code",
   "execution_count": 112,
   "id": "188f250d",
   "metadata": {},
   "outputs": [
    {
     "data": {
      "text/html": [
       "<div>\n",
       "<style scoped>\n",
       "    .dataframe tbody tr th:only-of-type {\n",
       "        vertical-align: middle;\n",
       "    }\n",
       "\n",
       "    .dataframe tbody tr th {\n",
       "        vertical-align: top;\n",
       "    }\n",
       "\n",
       "    .dataframe thead th {\n",
       "        text-align: right;\n",
       "    }\n",
       "</style>\n",
       "<table border=\"1\" class=\"dataframe\">\n",
       "  <thead>\n",
       "    <tr style=\"text-align: right;\">\n",
       "      <th></th>\n",
       "      <th>id</th>\n",
       "      <th>total_charges</th>\n",
       "      <th>amount_paid</th>\n",
       "      <th>open</th>\n",
       "      <th>charge_code</th>\n",
       "      <th>description</th>\n",
       "      <th>prop_id</th>\n",
       "      <th>charge_name</th>\n",
       "      <th>sStatus</th>\n",
       "      <th>rent</th>\n",
       "      <th>term</th>\n",
       "      <th>monthly_inc</th>\n",
       "      <th>GuarantorRequired</th>\n",
       "      <th>total_inc</th>\n",
       "      <th>Recommendation</th>\n",
       "      <th>age</th>\n",
       "      <th>risk_score</th>\n",
       "      <th>reason</th>\n",
       "      <th>bad_resident</th>\n",
       "    </tr>\n",
       "  </thead>\n",
       "  <tbody>\n",
       "    <tr>\n",
       "      <th>4807</th>\n",
       "      <td>72624</td>\n",
       "      <td>200.0</td>\n",
       "      <td>200.0</td>\n",
       "      <td>0</td>\n",
       "      <td>161</td>\n",
       "      <td>Administrative Fee (Alexis Coen)</td>\n",
       "      <td>84</td>\n",
       "      <td>Administrative fee</td>\n",
       "      <td>Current</td>\n",
       "      <td>1829</td>\n",
       "      <td>12</td>\n",
       "      <td>7000</td>\n",
       "      <td>True</td>\n",
       "      <td>57936</td>\n",
       "      <td>Accept with Conditions (Guarantor)</td>\n",
       "      <td>28</td>\n",
       "      <td>673</td>\n",
       "      <td>Insufficient Income to Support Rent</td>\n",
       "      <td>0</td>\n",
       "    </tr>\n",
       "    <tr>\n",
       "      <th>3988</th>\n",
       "      <td>68446</td>\n",
       "      <td>5.0</td>\n",
       "      <td>5.0</td>\n",
       "      <td>0</td>\n",
       "      <td>186</td>\n",
       "      <td>Convenience Fee (Amanda Hall)</td>\n",
       "      <td>126</td>\n",
       "      <td>OSP resident convenience fee</td>\n",
       "      <td>Current</td>\n",
       "      <td>2089</td>\n",
       "      <td>15</td>\n",
       "      <td>1200</td>\n",
       "      <td>True</td>\n",
       "      <td>0</td>\n",
       "      <td>Accept with Conditions (Guarantor)</td>\n",
       "      <td>43</td>\n",
       "      <td>613</td>\n",
       "      <td>Insufficient Income to Support Rent</td>\n",
       "      <td>0</td>\n",
       "    </tr>\n",
       "    <tr>\n",
       "      <th>3813</th>\n",
       "      <td>67552</td>\n",
       "      <td>5.0</td>\n",
       "      <td>5.0</td>\n",
       "      <td>0</td>\n",
       "      <td>186</td>\n",
       "      <td>Convenience Fee (Myles Hammon)</td>\n",
       "      <td>63</td>\n",
       "      <td>OSP resident convenience fee</td>\n",
       "      <td>Current</td>\n",
       "      <td>1529</td>\n",
       "      <td>12</td>\n",
       "      <td>0</td>\n",
       "      <td>True</td>\n",
       "      <td>0</td>\n",
       "      <td>Accept with Conditions (Guarantor)</td>\n",
       "      <td>22</td>\n",
       "      <td>734</td>\n",
       "      <td>Insufficient Income to Support Rent</td>\n",
       "      <td>0</td>\n",
       "    </tr>\n",
       "  </tbody>\n",
       "</table>\n",
       "</div>"
      ],
      "text/plain": [
       "         id  total_charges  amount_paid  open  charge_code  \\\n",
       "4807  72624          200.0        200.0     0          161   \n",
       "3988  68446            5.0          5.0     0          186   \n",
       "3813  67552            5.0          5.0     0          186   \n",
       "\n",
       "                           description  prop_id                   charge_name  \\\n",
       "4807  Administrative Fee (Alexis Coen)       84            Administrative fee   \n",
       "3988     Convenience Fee (Amanda Hall)      126  OSP resident convenience fee   \n",
       "3813    Convenience Fee (Myles Hammon)       63  OSP resident convenience fee   \n",
       "\n",
       "      sStatus  rent  term  monthly_inc  GuarantorRequired  total_inc  \\\n",
       "4807  Current  1829    12         7000               True      57936   \n",
       "3988  Current  2089    15         1200               True          0   \n",
       "3813  Current  1529    12            0               True          0   \n",
       "\n",
       "                          Recommendation  age  risk_score  \\\n",
       "4807  Accept with Conditions (Guarantor)   28         673   \n",
       "3988  Accept with Conditions (Guarantor)   43         613   \n",
       "3813  Accept with Conditions (Guarantor)   22         734   \n",
       "\n",
       "                                   reason  bad_resident  \n",
       "4807  Insufficient Income to Support Rent             0  \n",
       "3988  Insufficient Income to Support Rent             0  \n",
       "3813  Insufficient Income to Support Rent             0  "
      ]
     },
     "execution_count": 112,
     "metadata": {},
     "output_type": "execute_result"
    }
   ],
   "source": [
    "guarrantor_yes = train[train.GuarantorRequired==True]\n",
    "guarrantor_yes.head(3)"
   ]
  },
  {
   "cell_type": "code",
   "execution_count": 113,
   "id": "01b71715",
   "metadata": {},
   "outputs": [
    {
     "data": {
      "text/plain": [
       "0    350\n",
       "1     12\n",
       "Name: bad_resident, dtype: int64"
      ]
     },
     "execution_count": 113,
     "metadata": {},
     "output_type": "execute_result"
    }
   ],
   "source": [
    "guarrantor_yes.bad_resident.value_counts()"
   ]
  },
  {
   "cell_type": "code",
   "execution_count": 114,
   "id": "b462270f",
   "metadata": {},
   "outputs": [
    {
     "data": {
      "text/plain": [
       "Uncllctbl Non Rent             5\n",
       "Damage charges                 4\n",
       "Charges for cleaning needed    2\n",
       "Uncllctbl cleaning, damages    1\n",
       "Name: charge_name, dtype: int64"
      ]
     },
     "execution_count": 114,
     "metadata": {},
     "output_type": "execute_result"
    }
   ],
   "source": [
    "guarrantor_yes[guarrantor_yes.bad_resident==1].charge_name.value_counts()"
   ]
  },
  {
   "cell_type": "code",
   "execution_count": 26,
   "id": "3428939f",
   "metadata": {},
   "outputs": [
    {
     "data": {
      "text/plain": [
       "663"
      ]
     },
     "execution_count": 26,
     "metadata": {},
     "output_type": "execute_result"
    }
   ],
   "source": [
    "df.rent.nunique()"
   ]
  },
  {
   "cell_type": "code",
   "execution_count": 27,
   "id": "243ad67d",
   "metadata": {},
   "outputs": [
    {
     "data": {
      "text/plain": [
       "1672.4164832966594"
      ]
     },
     "execution_count": 27,
     "metadata": {},
     "output_type": "execute_result"
    }
   ],
   "source": [
    "df.rent.mean()"
   ]
  },
  {
   "cell_type": "code",
   "execution_count": 29,
   "id": "418d06c1",
   "metadata": {},
   "outputs": [
    {
     "data": {
      "text/plain": [
       "0    4808\n",
       "1     191\n",
       "Name: bad_resident, dtype: int64"
      ]
     },
     "execution_count": 29,
     "metadata": {},
     "output_type": "execute_result"
    }
   ],
   "source": [
    "df.bad_resident.value_counts()"
   ]
  },
  {
   "cell_type": "code",
   "execution_count": 28,
   "id": "8dfa016b",
   "metadata": {},
   "outputs": [
    {
     "data": {
      "text/plain": [
       "1672"
      ]
     },
     "execution_count": 28,
     "metadata": {},
     "output_type": "execute_result"
    }
   ],
   "source": [
    "rent_avg = round(df.rent.mean())\n",
    "rent_avg "
   ]
  },
  {
   "cell_type": "code",
   "execution_count": 33,
   "id": "3edecf1d",
   "metadata": {},
   "outputs": [
    {
     "data": {
      "text/plain": [
       "829"
      ]
     },
     "execution_count": 33,
     "metadata": {},
     "output_type": "execute_result"
    }
   ],
   "source": [
    "df.rent.min()"
   ]
  },
  {
   "cell_type": "code",
   "execution_count": 34,
   "id": "10344bcd",
   "metadata": {},
   "outputs": [
    {
     "data": {
      "text/plain": [
       "5574"
      ]
     },
     "execution_count": 34,
     "metadata": {},
     "output_type": "execute_result"
    }
   ],
   "source": [
    "df.rent.max()"
   ]
  },
  {
   "cell_type": "code",
   "execution_count": 30,
   "id": "dd99da7c",
   "metadata": {},
   "outputs": [
    {
     "data": {
      "text/html": [
       "<div>\n",
       "<style scoped>\n",
       "    .dataframe tbody tr th:only-of-type {\n",
       "        vertical-align: middle;\n",
       "    }\n",
       "\n",
       "    .dataframe tbody tr th {\n",
       "        vertical-align: top;\n",
       "    }\n",
       "\n",
       "    .dataframe thead th {\n",
       "        text-align: right;\n",
       "    }\n",
       "</style>\n",
       "<table border=\"1\" class=\"dataframe\">\n",
       "  <thead>\n",
       "    <tr style=\"text-align: right;\">\n",
       "      <th></th>\n",
       "      <th>id</th>\n",
       "      <th>total_charges</th>\n",
       "      <th>amount_paid</th>\n",
       "      <th>open</th>\n",
       "      <th>charge_code</th>\n",
       "      <th>description</th>\n",
       "      <th>prop_id</th>\n",
       "      <th>charge_name</th>\n",
       "      <th>sStatus</th>\n",
       "      <th>rent</th>\n",
       "      <th>term</th>\n",
       "      <th>monthly_inc</th>\n",
       "      <th>GuarantorRequired</th>\n",
       "      <th>total_inc</th>\n",
       "      <th>Recommendation</th>\n",
       "      <th>age</th>\n",
       "      <th>risk_score</th>\n",
       "      <th>reason</th>\n",
       "      <th>bad_resident</th>\n",
       "    </tr>\n",
       "  </thead>\n",
       "  <tbody>\n",
       "    <tr>\n",
       "      <th>1334</th>\n",
       "      <td>45817</td>\n",
       "      <td>1041.00</td>\n",
       "      <td>1041.00</td>\n",
       "      <td>0</td>\n",
       "      <td>74</td>\n",
       "      <td>Rent (03/2023)</td>\n",
       "      <td>66</td>\n",
       "      <td>Rent</td>\n",
       "      <td>Current</td>\n",
       "      <td>0</td>\n",
       "      <td>13</td>\n",
       "      <td>5500</td>\n",
       "      <td>False</td>\n",
       "      <td>66000</td>\n",
       "      <td>REJECT</td>\n",
       "      <td>31</td>\n",
       "      <td>604</td>\n",
       "      <td>Rental History Does Not Meet Property Requirem...</td>\n",
       "      <td>0</td>\n",
       "    </tr>\n",
       "    <tr>\n",
       "      <th>2417</th>\n",
       "      <td>62685</td>\n",
       "      <td>5.00</td>\n",
       "      <td>5.00</td>\n",
       "      <td>0</td>\n",
       "      <td>186</td>\n",
       "      <td>Convenience Fee (Matthew Cox)</td>\n",
       "      <td>85</td>\n",
       "      <td>OSP resident convenience fee</td>\n",
       "      <td>Current</td>\n",
       "      <td>0</td>\n",
       "      <td>6</td>\n",
       "      <td>12916</td>\n",
       "      <td>False</td>\n",
       "      <td>154992</td>\n",
       "      <td>Accept</td>\n",
       "      <td>36</td>\n",
       "      <td>738</td>\n",
       "      <td>Meets All Property Requirements</td>\n",
       "      <td>0</td>\n",
       "    </tr>\n",
       "    <tr>\n",
       "      <th>1709</th>\n",
       "      <td>59984</td>\n",
       "      <td>37.64</td>\n",
       "      <td>37.64</td>\n",
       "      <td>0</td>\n",
       "      <td>112</td>\n",
       "      <td>Utility-water charges (02/2023)</td>\n",
       "      <td>138</td>\n",
       "      <td>Utility-water charges</td>\n",
       "      <td>Current</td>\n",
       "      <td>0</td>\n",
       "      <td>7</td>\n",
       "      <td>5000</td>\n",
       "      <td>False</td>\n",
       "      <td>0</td>\n",
       "      <td>A-Meets Requirements</td>\n",
       "      <td>19</td>\n",
       "      <td>0</td>\n",
       "      <td>Meets All Property Requirements</td>\n",
       "      <td>0</td>\n",
       "    </tr>\n",
       "    <tr>\n",
       "      <th>2582</th>\n",
       "      <td>63492</td>\n",
       "      <td>5.00</td>\n",
       "      <td>5.00</td>\n",
       "      <td>0</td>\n",
       "      <td>190</td>\n",
       "      <td>Next Month's Pest Control</td>\n",
       "      <td>70</td>\n",
       "      <td>Pest control</td>\n",
       "      <td>Current</td>\n",
       "      <td>0</td>\n",
       "      <td>12</td>\n",
       "      <td>6000</td>\n",
       "      <td>False</td>\n",
       "      <td>72000</td>\n",
       "      <td>Accept with Conditions (Extra Deposit)</td>\n",
       "      <td>32</td>\n",
       "      <td>606</td>\n",
       "      <td>High level of Charge-offs</td>\n",
       "      <td>0</td>\n",
       "    </tr>\n",
       "    <tr>\n",
       "      <th>1641</th>\n",
       "      <td>47151</td>\n",
       "      <td>-250.00</td>\n",
       "      <td>-250.00</td>\n",
       "      <td>0</td>\n",
       "      <td>155</td>\n",
       "      <td>Damage charges patio door repair</td>\n",
       "      <td>88</td>\n",
       "      <td>Damage charges</td>\n",
       "      <td>Current</td>\n",
       "      <td>100</td>\n",
       "      <td>6</td>\n",
       "      <td>100000</td>\n",
       "      <td>False</td>\n",
       "      <td>0</td>\n",
       "      <td>A-Meets Requirements</td>\n",
       "      <td>42</td>\n",
       "      <td>0</td>\n",
       "      <td>Meets All Property Requirements</td>\n",
       "      <td>1</td>\n",
       "    </tr>\n",
       "    <tr>\n",
       "      <th>3605</th>\n",
       "      <td>66810</td>\n",
       "      <td>3.00</td>\n",
       "      <td>3.00</td>\n",
       "      <td>0</td>\n",
       "      <td>180</td>\n",
       "      <td>Administration processing fee (03/2023)</td>\n",
       "      <td>94</td>\n",
       "      <td>Administration processing fee</td>\n",
       "      <td>Current</td>\n",
       "      <td>829</td>\n",
       "      <td>15</td>\n",
       "      <td>2300</td>\n",
       "      <td>False</td>\n",
       "      <td>33480</td>\n",
       "      <td>Accept</td>\n",
       "      <td>27</td>\n",
       "      <td>672</td>\n",
       "      <td>Meets All Property Requirements</td>\n",
       "      <td>0</td>\n",
       "    </tr>\n",
       "    <tr>\n",
       "      <th>3077</th>\n",
       "      <td>65025</td>\n",
       "      <td>8.77</td>\n",
       "      <td>8.77</td>\n",
       "      <td>0</td>\n",
       "      <td>112</td>\n",
       "      <td>Water Charge</td>\n",
       "      <td>94</td>\n",
       "      <td>Utility-water charges</td>\n",
       "      <td>Current</td>\n",
       "      <td>879</td>\n",
       "      <td>14</td>\n",
       "      <td>1700</td>\n",
       "      <td>False</td>\n",
       "      <td>38748</td>\n",
       "      <td>Accept</td>\n",
       "      <td>25</td>\n",
       "      <td>678</td>\n",
       "      <td>Meets All Property Requirements</td>\n",
       "      <td>0</td>\n",
       "    </tr>\n",
       "  </tbody>\n",
       "</table>\n",
       "</div>"
      ],
      "text/plain": [
       "         id  total_charges  amount_paid  open  charge_code  \\\n",
       "1334  45817        1041.00      1041.00     0           74   \n",
       "2417  62685           5.00         5.00     0          186   \n",
       "1709  59984          37.64        37.64     0          112   \n",
       "2582  63492           5.00         5.00     0          190   \n",
       "1641  47151        -250.00      -250.00     0          155   \n",
       "3605  66810           3.00         3.00     0          180   \n",
       "3077  65025           8.77         8.77     0          112   \n",
       "\n",
       "                                  description  prop_id  \\\n",
       "1334                           Rent (03/2023)       66   \n",
       "2417            Convenience Fee (Matthew Cox)       85   \n",
       "1709          Utility-water charges (02/2023)      138   \n",
       "2582                Next Month's Pest Control       70   \n",
       "1641         Damage charges patio door repair       88   \n",
       "3605  Administration processing fee (03/2023)       94   \n",
       "3077                             Water Charge       94   \n",
       "\n",
       "                        charge_name  sStatus  rent  term  monthly_inc  \\\n",
       "1334                           Rent  Current     0    13         5500   \n",
       "2417   OSP resident convenience fee  Current     0     6        12916   \n",
       "1709          Utility-water charges  Current     0     7         5000   \n",
       "2582                   Pest control  Current     0    12         6000   \n",
       "1641                 Damage charges  Current   100     6       100000   \n",
       "3605  Administration processing fee  Current   829    15         2300   \n",
       "3077          Utility-water charges  Current   879    14         1700   \n",
       "\n",
       "      GuarantorRequired  total_inc                          Recommendation  \\\n",
       "1334              False      66000                                  REJECT   \n",
       "2417              False     154992                                  Accept   \n",
       "1709              False          0                    A-Meets Requirements   \n",
       "2582              False      72000  Accept with Conditions (Extra Deposit)   \n",
       "1641              False          0                    A-Meets Requirements   \n",
       "3605              False      33480                                  Accept   \n",
       "3077              False      38748                                  Accept   \n",
       "\n",
       "      age  risk_score                                             reason  \\\n",
       "1334   31         604  Rental History Does Not Meet Property Requirem...   \n",
       "2417   36         738                    Meets All Property Requirements   \n",
       "1709   19           0                    Meets All Property Requirements   \n",
       "2582   32         606                          High level of Charge-offs   \n",
       "1641   42           0                    Meets All Property Requirements   \n",
       "3605   27         672                    Meets All Property Requirements   \n",
       "3077   25         678                    Meets All Property Requirements   \n",
       "\n",
       "      bad_resident  \n",
       "1334             0  \n",
       "2417             0  \n",
       "1709             0  \n",
       "2582             0  \n",
       "1641             1  \n",
       "3605             0  \n",
       "3077             0  "
      ]
     },
     "execution_count": 30,
     "metadata": {},
     "output_type": "execute_result"
    }
   ],
   "source": [
    "df.sort_values('rent').head(7)"
   ]
  },
  {
   "cell_type": "code",
   "execution_count": 31,
   "id": "c25ccfd6",
   "metadata": {},
   "outputs": [],
   "source": [
    "rent_avg = round(df.rent.mean())\n",
    "df.loc[df[\"rent\"] == 0, 'rent'] = rent_avg \n",
    "df.loc[df[\"rent\"] == 100, 'rent'] = rent_avg "
   ]
  },
  {
   "cell_type": "code",
   "execution_count": 32,
   "id": "b70b08f2",
   "metadata": {},
   "outputs": [
    {
     "data": {
      "text/html": [
       "<div>\n",
       "<style scoped>\n",
       "    .dataframe tbody tr th:only-of-type {\n",
       "        vertical-align: middle;\n",
       "    }\n",
       "\n",
       "    .dataframe tbody tr th {\n",
       "        vertical-align: top;\n",
       "    }\n",
       "\n",
       "    .dataframe thead th {\n",
       "        text-align: right;\n",
       "    }\n",
       "</style>\n",
       "<table border=\"1\" class=\"dataframe\">\n",
       "  <thead>\n",
       "    <tr style=\"text-align: right;\">\n",
       "      <th></th>\n",
       "      <th>id</th>\n",
       "      <th>total_charges</th>\n",
       "      <th>amount_paid</th>\n",
       "      <th>open</th>\n",
       "      <th>charge_code</th>\n",
       "      <th>description</th>\n",
       "      <th>prop_id</th>\n",
       "      <th>charge_name</th>\n",
       "      <th>sStatus</th>\n",
       "      <th>rent</th>\n",
       "      <th>term</th>\n",
       "      <th>monthly_inc</th>\n",
       "      <th>GuarantorRequired</th>\n",
       "      <th>total_inc</th>\n",
       "      <th>Recommendation</th>\n",
       "      <th>age</th>\n",
       "      <th>risk_score</th>\n",
       "      <th>reason</th>\n",
       "      <th>bad_resident</th>\n",
       "    </tr>\n",
       "  </thead>\n",
       "  <tbody>\n",
       "    <tr>\n",
       "      <th>3605</th>\n",
       "      <td>66810</td>\n",
       "      <td>3.00</td>\n",
       "      <td>3.00</td>\n",
       "      <td>0</td>\n",
       "      <td>180</td>\n",
       "      <td>Administration processing fee (03/2023)</td>\n",
       "      <td>94</td>\n",
       "      <td>Administration processing fee</td>\n",
       "      <td>Current</td>\n",
       "      <td>829</td>\n",
       "      <td>15</td>\n",
       "      <td>2300</td>\n",
       "      <td>False</td>\n",
       "      <td>33480</td>\n",
       "      <td>Accept</td>\n",
       "      <td>27</td>\n",
       "      <td>672</td>\n",
       "      <td>Meets All Property Requirements</td>\n",
       "      <td>0</td>\n",
       "    </tr>\n",
       "    <tr>\n",
       "      <th>3077</th>\n",
       "      <td>65025</td>\n",
       "      <td>8.77</td>\n",
       "      <td>8.77</td>\n",
       "      <td>0</td>\n",
       "      <td>112</td>\n",
       "      <td>Water Charge</td>\n",
       "      <td>94</td>\n",
       "      <td>Utility-water charges</td>\n",
       "      <td>Current</td>\n",
       "      <td>879</td>\n",
       "      <td>14</td>\n",
       "      <td>1700</td>\n",
       "      <td>False</td>\n",
       "      <td>38748</td>\n",
       "      <td>Accept</td>\n",
       "      <td>25</td>\n",
       "      <td>678</td>\n",
       "      <td>Meets All Property Requirements</td>\n",
       "      <td>0</td>\n",
       "    </tr>\n",
       "    <tr>\n",
       "      <th>3797</th>\n",
       "      <td>67475</td>\n",
       "      <td>0.39</td>\n",
       "      <td>0.39</td>\n",
       "      <td>0</td>\n",
       "      <td>113</td>\n",
       "      <td>Water Base Charge for 11 Days</td>\n",
       "      <td>94</td>\n",
       "      <td>Utility-water flat base charges</td>\n",
       "      <td>Current</td>\n",
       "      <td>879</td>\n",
       "      <td>13</td>\n",
       "      <td>3040</td>\n",
       "      <td>False</td>\n",
       "      <td>36480</td>\n",
       "      <td>Accept</td>\n",
       "      <td>19</td>\n",
       "      <td>674</td>\n",
       "      <td>Meets All Property Requirements</td>\n",
       "      <td>0</td>\n",
       "    </tr>\n",
       "    <tr>\n",
       "      <th>3796</th>\n",
       "      <td>67469</td>\n",
       "      <td>50.00</td>\n",
       "      <td>50.00</td>\n",
       "      <td>0</td>\n",
       "      <td>134</td>\n",
       "      <td>Non-Refundable Application Fee (Miguel Mar)</td>\n",
       "      <td>94</td>\n",
       "      <td>Application fee</td>\n",
       "      <td>Current</td>\n",
       "      <td>889</td>\n",
       "      <td>13</td>\n",
       "      <td>3000</td>\n",
       "      <td>False</td>\n",
       "      <td>100800</td>\n",
       "      <td>Accept with Conditions (Extra Deposit)</td>\n",
       "      <td>26</td>\n",
       "      <td>758</td>\n",
       "      <td>Limited period of Residence History</td>\n",
       "      <td>0</td>\n",
       "    </tr>\n",
       "    <tr>\n",
       "      <th>1298</th>\n",
       "      <td>45605</td>\n",
       "      <td>889.00</td>\n",
       "      <td>889.00</td>\n",
       "      <td>0</td>\n",
       "      <td>74</td>\n",
       "      <td>Rent (01/2023)</td>\n",
       "      <td>94</td>\n",
       "      <td>Rent</td>\n",
       "      <td>Current</td>\n",
       "      <td>889</td>\n",
       "      <td>15</td>\n",
       "      <td>3281</td>\n",
       "      <td>False</td>\n",
       "      <td>39372</td>\n",
       "      <td>Accept</td>\n",
       "      <td>24</td>\n",
       "      <td>786</td>\n",
       "      <td>Meets All Property Requirements</td>\n",
       "      <td>0</td>\n",
       "    </tr>\n",
       "    <tr>\n",
       "      <th>3063</th>\n",
       "      <td>64969</td>\n",
       "      <td>12.00</td>\n",
       "      <td>12.00</td>\n",
       "      <td>0</td>\n",
       "      <td>129</td>\n",
       "      <td>Utility-trash charges (03/2023)</td>\n",
       "      <td>94</td>\n",
       "      <td>Utility-trash charges</td>\n",
       "      <td>Current</td>\n",
       "      <td>899</td>\n",
       "      <td>13</td>\n",
       "      <td>3300</td>\n",
       "      <td>False</td>\n",
       "      <td>51636</td>\n",
       "      <td>Accept</td>\n",
       "      <td>28</td>\n",
       "      <td>675</td>\n",
       "      <td>Minor level of late credit payments</td>\n",
       "      <td>0</td>\n",
       "    </tr>\n",
       "    <tr>\n",
       "      <th>1736</th>\n",
       "      <td>60074</td>\n",
       "      <td>0.40</td>\n",
       "      <td>0.40</td>\n",
       "      <td>0</td>\n",
       "      <td>190</td>\n",
       "      <td>Pest Control for 3 days</td>\n",
       "      <td>93</td>\n",
       "      <td>Pest control</td>\n",
       "      <td>Current</td>\n",
       "      <td>899</td>\n",
       "      <td>12</td>\n",
       "      <td>4000</td>\n",
       "      <td>False</td>\n",
       "      <td>48000</td>\n",
       "      <td>Accept</td>\n",
       "      <td>26</td>\n",
       "      <td>584</td>\n",
       "      <td>Meets All Property Requirements</td>\n",
       "      <td>0</td>\n",
       "    </tr>\n",
       "  </tbody>\n",
       "</table>\n",
       "</div>"
      ],
      "text/plain": [
       "         id  total_charges  amount_paid  open  charge_code  \\\n",
       "3605  66810           3.00         3.00     0          180   \n",
       "3077  65025           8.77         8.77     0          112   \n",
       "3797  67475           0.39         0.39     0          113   \n",
       "3796  67469          50.00        50.00     0          134   \n",
       "1298  45605         889.00       889.00     0           74   \n",
       "3063  64969          12.00        12.00     0          129   \n",
       "1736  60074           0.40         0.40     0          190   \n",
       "\n",
       "                                      description  prop_id  \\\n",
       "3605      Administration processing fee (03/2023)       94   \n",
       "3077                                 Water Charge       94   \n",
       "3797                Water Base Charge for 11 Days       94   \n",
       "3796  Non-Refundable Application Fee (Miguel Mar)       94   \n",
       "1298                               Rent (01/2023)       94   \n",
       "3063              Utility-trash charges (03/2023)       94   \n",
       "1736                      Pest Control for 3 days       93   \n",
       "\n",
       "                          charge_name  sStatus  rent  term  monthly_inc  \\\n",
       "3605    Administration processing fee  Current   829    15         2300   \n",
       "3077            Utility-water charges  Current   879    14         1700   \n",
       "3797  Utility-water flat base charges  Current   879    13         3040   \n",
       "3796                  Application fee  Current   889    13         3000   \n",
       "1298                             Rent  Current   889    15         3281   \n",
       "3063            Utility-trash charges  Current   899    13         3300   \n",
       "1736                     Pest control  Current   899    12         4000   \n",
       "\n",
       "      GuarantorRequired  total_inc                          Recommendation  \\\n",
       "3605              False      33480                                  Accept   \n",
       "3077              False      38748                                  Accept   \n",
       "3797              False      36480                                  Accept   \n",
       "3796              False     100800  Accept with Conditions (Extra Deposit)   \n",
       "1298              False      39372                                  Accept   \n",
       "3063              False      51636                                  Accept   \n",
       "1736              False      48000                                  Accept   \n",
       "\n",
       "      age  risk_score                               reason  bad_resident  \n",
       "3605   27         672      Meets All Property Requirements             0  \n",
       "3077   25         678      Meets All Property Requirements             0  \n",
       "3797   19         674      Meets All Property Requirements             0  \n",
       "3796   26         758  Limited period of Residence History             0  \n",
       "1298   24         786      Meets All Property Requirements             0  \n",
       "3063   28         675  Minor level of late credit payments             0  \n",
       "1736   26         584      Meets All Property Requirements             0  "
      ]
     },
     "execution_count": 32,
     "metadata": {},
     "output_type": "execute_result"
    }
   ],
   "source": [
    "df.sort_values('rent').head(7)"
   ]
  },
  {
   "cell_type": "code",
   "execution_count": 115,
   "id": "42eae0d0",
   "metadata": {},
   "outputs": [
    {
     "data": {
      "image/png": "[encoded data removed]",
      "text/plain": [
       "<Figure size 900x500 with 1 Axes>"
      ]
     },
     "metadata": {},
     "output_type": "display_data"
    }
   ],
   "source": [
    "bins = [1000,1500,2000,2500,3000,3500,4000,4500,5000,5500,6000]\n",
    "rent_bin = pd.cut(train['rent'], bins = bins)\n",
    "plt.figure(figsize=(9, 5))\n",
    "sns.countplot(y=rent_bin,hue='bad_resident',data=train)\n",
    "sns.despine()\n",
    "plt.legend(loc='upper right', bbox_to_anchor=(1.2, 1))\n",
    "plt.xlim(0,55)\n",
    "plt.show()"
   ]
  },
  {
   "cell_type": "code",
   "execution_count": 117,
   "id": "c91af4dd",
   "metadata": {},
   "outputs": [
    {
     "data": {
      "image/png": "[encoded data removed]",
      "text/plain": [
       "<Figure size 900x500 with 1 Axes>"
      ]
     },
     "metadata": {},
     "output_type": "display_data"
    }
   ],
   "source": [
    "train_bad_resident = train[train['bad_resident']==1]\n",
    "bins = [1000,1500,2000,2500,3000,3500,4000,4500,5000,5500,6000]\n",
    "rent_bin = pd.cut(train_bad_resident['rent'], bins = bins)\n",
    "plt.figure(figsize=(9, 5))\n",
    "sns.countplot(y=rent_bin,data=train_bad_resident)\n",
    "sns.despine()\n",
    "# plt.xlim(0,5)\n",
    "plt.show()"
   ]
  },
  {
   "cell_type": "code",
   "execution_count": null,
   "id": "526bb8a0",
   "metadata": {},
   "outputs": [],
   "source": []
  },
  {
   "cell_type": "code",
   "execution_count": 37,
   "id": "3e3201f1",
   "metadata": {},
   "outputs": [
    {
     "data": {
      "image/png": "[encoded data removed]",
      "text/plain": [
       "<Figure size 900x500 with 1 Axes>"
      ]
     },
     "metadata": {},
     "output_type": "display_data"
    }
   ],
   "source": [
    "bins = [829,1000,1200,1400,1600,1800,2000,2200,2400,2600,2800,3000,4000,5000,6000]\n",
    "rent_bin = pd.cut(train['rent'], bins = bins)\n",
    "plt.figure(figsize=(9, 5))\n",
    "sns.countplot(y=rent_bin,hue='bad_resident',data=train)\n",
    "sns.despine()\n",
    "plt.legend(loc='upper right', bbox_to_anchor=(1.2, 1));\n",
    "plt.show()"
   ]
  },
  {
   "cell_type": "code",
   "execution_count": 38,
   "id": "b4fa22b6",
   "metadata": {},
   "outputs": [
    {
     "data": {
      "image/png": "[encoded data removed]",
      "text/plain": [
       "<Figure size 900x500 with 1 Axes>"
      ]
     },
     "metadata": {},
     "output_type": "display_data"
    }
   ],
   "source": [
    "train_bad_resident = train[train['bad_resident']==1]\n",
    "bins = [829,1000,1200,1400,1600,1800,2000,2200,2400,2600,2800,3000,4000,5000,6000]\n",
    "rent_bin = pd.cut(train_bad_resident['rent'], bins = bins)\n",
    "plt.figure(figsize=(9, 5))\n",
    "sns.countplot(y=rent_bin,data=train_bad_resident)\n",
    "sns.despine()\n",
    "plt.show()"
   ]
  },
  {
   "cell_type": "code",
   "execution_count": 39,
   "id": "cb52803c",
   "metadata": {},
   "outputs": [
    {
     "data": {
      "image/png": "[encoded data removed]",
      "text/plain": [
       "<Figure size 1000x1000 with 1 Axes>"
      ]
     },
     "metadata": {},
     "output_type": "display_data"
    }
   ],
   "source": [
    "train_bad_resident = train[train['bad_resident']==1]\n",
    "bins = [829,900,1000,1100,1200,1300,1400,1500,1600,1700,1800,1900,2000,2100,2200,2300,2400,2500,2600,2700,2800,2900,3000,4000,5000,6000]\n",
    "rent_bin = pd.cut(train_bad_resident['rent'], bins = bins)\n",
    "plt.figure(figsize=(10, 10))\n",
    "sns.countplot(y=rent_bin,data=train_bad_resident)\n",
    "sns.despine()\n",
    "plt.show()"
   ]
  },
  {
   "cell_type": "code",
   "execution_count": 74,
   "id": "50dba8e9",
   "metadata": {},
   "outputs": [],
   "source": [
    "def viz_rent():\n",
    "    '''plot histogram'''\n",
    "    \n",
    "    bins = [829,900,1000,1100,1200,1300,1400,1500,1600,1700,1800,1900,2000,2100,2200,2300,2400,2500,2600,2700,2800,2900,3000,4000,5000,6000]\n",
    "    \n",
    "    plt.figure(figsize=(8, 16))\n",
    "    \n",
    "    plt.subplot(211)\n",
    "    rent_bin = pd.cut(train['rent'], bins = bins)\n",
    "    sns.countplot(y=rent_bin,hue='bad_resident',data=train)\n",
    "    sns.despine()\n",
    "    plt.xlim(0,60)\n",
    "    plt.legend(loc='upper right', bbox_to_anchor=(1.2, 1))\n",
    "    plt.title('Relation of rent with Resident')\n",
    "    \n",
    "    plt.subplot(212)\n",
    "    train_bad_resident = train[train['bad_resident']==1]\n",
    "    rent_bin_bad = pd.cut(train_bad_resident['rent'], bins = bins)\n",
    "    sns.countplot(y=rent_bin_bad,data=train_bad_resident)\n",
    "    sns.despine()\n",
    "    plt.title('Relation of rent with Bad Resident')\n",
    "    "
   ]
  },
  {
   "cell_type": "code",
   "execution_count": 119,
   "id": "dfdc357b",
   "metadata": {
    "scrolled": false
   },
   "outputs": [
    {
     "data": {
      "image/png": "[encoded data removed]",
      "text/plain": [
       "<Figure size 800x1600 with 2 Axes>"
      ]
     },
     "metadata": {},
     "output_type": "display_data"
    }
   ],
   "source": [
    "viz_rent()"
   ]
  },
  {
   "cell_type": "code",
   "execution_count": null,
   "id": "787eac5b",
   "metadata": {},
   "outputs": [],
   "source": []
  },
  {
   "cell_type": "code",
   "execution_count": 42,
   "id": "730170e1",
   "metadata": {},
   "outputs": [
    {
     "data": {
      "text/plain": [
       "id                     0\n",
       "total_charges          0\n",
       "amount_paid            0\n",
       "open                   0\n",
       "charge_code            0\n",
       "description            0\n",
       "prop_id                0\n",
       "charge_name            0\n",
       "sStatus                0\n",
       "rent                   0\n",
       "term                   0\n",
       "monthly_inc            0\n",
       "GuarantorRequired      0\n",
       "total_inc              0\n",
       "Recommendation         0\n",
       "age                    0\n",
       "risk_score             0\n",
       "reason               144\n",
       "bad_resident           0\n",
       "dtype: int64"
      ]
     },
     "execution_count": 42,
     "metadata": {},
     "output_type": "execute_result"
    }
   ],
   "source": [
    "df.isnull().sum()"
   ]
  },
  {
   "cell_type": "code",
   "execution_count": 43,
   "id": "3878d9ef",
   "metadata": {
    "scrolled": false
   },
   "outputs": [
    {
     "data": {
      "text/plain": [
       "0    139\n",
       "1      5\n",
       "Name: bad_resident, dtype: int64"
      ]
     },
     "execution_count": 43,
     "metadata": {},
     "output_type": "execute_result"
    }
   ],
   "source": [
    "df_reason_null = df[df.reason.isnull()]\n",
    "df_reason_null.bad_resident.value_counts()"
   ]
  },
  {
   "cell_type": "code",
   "execution_count": 44,
   "id": "636579ac",
   "metadata": {},
   "outputs": [
    {
     "data": {
      "text/plain": [
       "0    Meets All Property Requirements\n",
       "Name: reason, dtype: object"
      ]
     },
     "execution_count": 44,
     "metadata": {},
     "output_type": "execute_result"
    }
   ],
   "source": [
    "df.reason.mode()"
   ]
  },
  {
   "cell_type": "code",
   "execution_count": 45,
   "id": "366943b5",
   "metadata": {
    "scrolled": false
   },
   "outputs": [
    {
     "data": {
      "text/plain": [
       "0    Meets All Property Requirements\n",
       "Name: reason, dtype: object"
      ]
     },
     "execution_count": 45,
     "metadata": {},
     "output_type": "execute_result"
    }
   ],
   "source": [
    "df[df['bad_resident']==1].reason.mode()"
   ]
  },
  {
   "cell_type": "code",
   "execution_count": 46,
   "id": "15d76a7f",
   "metadata": {},
   "outputs": [
    {
     "data": {
      "text/plain": [
       "0    Meets All Property Requirements\n",
       "Name: reason, dtype: object"
      ]
     },
     "execution_count": 46,
     "metadata": {},
     "output_type": "execute_result"
    }
   ],
   "source": [
    "df[df['bad_resident']==0].reason.mode()"
   ]
  },
  {
   "cell_type": "code",
   "execution_count": 47,
   "id": "27f0bc68",
   "metadata": {},
   "outputs": [
    {
     "name": "stdout",
     "output_type": "stream",
     "text": [
      "29\n"
     ]
    },
    {
     "data": {
      "text/plain": [
       "['Insufficient period of Residence History',\n",
       " 'No Credit Experience',\n",
       " 'Meets All Property Requirements',\n",
       " nan,\n",
       " 'Insufficient period of Employment History',\n",
       " 'Severe level of Charge-offs',\n",
       " 'Severe Level of Collection Items',\n",
       " 'Insufficient Income to Support Rent',\n",
       " 'Limited Credit Experience',\n",
       " 'Moderate level of late credit payments',\n",
       " 'High Level of Collection Items',\n",
       " 'Civil Court History Does Not Meet Property Requirements',\n",
       " 'Judgment or collection from Apartment Community',\n",
       " 'High level of Charge-offs',\n",
       " 'Severe level of Judgments/Suits OR Repossession OR Voluntary Surrender',\n",
       " 'Moderate Level of Collection Items',\n",
       " 'Minor level of late credit payments',\n",
       " 'Collection from Apartment Community',\n",
       " 'Rental History Does Not Meet Property Requirements',\n",
       " 'Limited period of Employment History',\n",
       " 'Bankruptcy or Foreclosure',\n",
       " 'Executive Approval',\n",
       " 'Collection from Utility Provider',\n",
       " 'High level of late credit payments',\n",
       " 'Limited period of Residence History',\n",
       " 'Minor Level of Collection Items',\n",
       " 'Criminal History Does Not Meet Property Requirements',\n",
       " 'Severe level of late credit payments',\n",
       " 'High level of Judgments/Suits OR Repossession OR Voluntary Surrender',\n",
       " 'Reasonable Accommodation']"
      ]
     },
     "execution_count": 47,
     "metadata": {},
     "output_type": "execute_result"
    }
   ],
   "source": [
    "print(df.reason.nunique())\n",
    "reason_list_with_NAN = df.reason.unique().tolist()\n",
    "reason_list_with_NAN"
   ]
  },
  {
   "cell_type": "code",
   "execution_count": 48,
   "id": "6394ee08",
   "metadata": {},
   "outputs": [],
   "source": [
    "df.fillna('Meets All Property Requirements',inplace=True)"
   ]
  },
  {
   "cell_type": "code",
   "execution_count": 49,
   "id": "1bc6b5a7",
   "metadata": {},
   "outputs": [
    {
     "data": {
      "text/plain": [
       "(4999, 19)"
      ]
     },
     "execution_count": 49,
     "metadata": {},
     "output_type": "execute_result"
    }
   ],
   "source": [
    "df.shape"
   ]
  },
  {
   "cell_type": "code",
   "execution_count": 50,
   "id": "0a8ffa46",
   "metadata": {},
   "outputs": [
    {
     "data": {
      "text/plain": [
       "id                   0\n",
       "total_charges        0\n",
       "amount_paid          0\n",
       "open                 0\n",
       "charge_code          0\n",
       "description          0\n",
       "prop_id              0\n",
       "charge_name          0\n",
       "sStatus              0\n",
       "rent                 0\n",
       "term                 0\n",
       "monthly_inc          0\n",
       "GuarantorRequired    0\n",
       "total_inc            0\n",
       "Recommendation       0\n",
       "age                  0\n",
       "risk_score           0\n",
       "reason               0\n",
       "bad_resident         0\n",
       "dtype: int64"
      ]
     },
     "execution_count": 50,
     "metadata": {},
     "output_type": "execute_result"
    }
   ],
   "source": [
    "df.isnull().sum()"
   ]
  },
  {
   "cell_type": "code",
   "execution_count": 51,
   "id": "0d7e8d3c",
   "metadata": {},
   "outputs": [
    {
     "name": "stdout",
     "output_type": "stream",
     "text": [
      "29\n"
     ]
    },
    {
     "data": {
      "text/plain": [
       "['Bankruptcy or Foreclosure',\n",
       " 'Civil Court History Does Not Meet Property Requirements',\n",
       " 'Collection from Apartment Community',\n",
       " 'Collection from Utility Provider',\n",
       " 'Criminal History Does Not Meet Property Requirements',\n",
       " 'Executive Approval',\n",
       " 'High Level of Collection Items',\n",
       " 'High level of Charge-offs',\n",
       " 'High level of Judgments/Suits OR Repossession OR Voluntary Surrender',\n",
       " 'High level of late credit payments',\n",
       " 'Insufficient Income to Support Rent',\n",
       " 'Insufficient period of Employment History',\n",
       " 'Insufficient period of Residence History',\n",
       " 'Judgment or collection from Apartment Community',\n",
       " 'Limited Credit Experience',\n",
       " 'Limited period of Employment History',\n",
       " 'Limited period of Residence History',\n",
       " 'Meets All Property Requirements',\n",
       " 'Minor Level of Collection Items',\n",
       " 'Minor level of late credit payments',\n",
       " 'Moderate Level of Collection Items',\n",
       " 'Moderate level of late credit payments',\n",
       " 'No Credit Experience',\n",
       " 'Reasonable Accommodation',\n",
       " 'Rental History Does Not Meet Property Requirements',\n",
       " 'Severe Level of Collection Items',\n",
       " 'Severe level of Charge-offs',\n",
       " 'Severe level of Judgments/Suits OR Repossession OR Voluntary Surrender',\n",
       " 'Severe level of late credit payments']"
      ]
     },
     "execution_count": 51,
     "metadata": {},
     "output_type": "execute_result"
    }
   ],
   "source": [
    "print(df.reason.nunique())\n",
    "reason_list = df.reason.unique().tolist()\n",
    "sorted(reason_list)"
   ]
  },
  {
   "cell_type": "code",
   "execution_count": 52,
   "id": "1a197566",
   "metadata": {},
   "outputs": [
    {
     "name": "stdout",
     "output_type": "stream",
     "text": [
      "10\n"
     ]
    },
    {
     "data": {
      "text/plain": [
       "['Accept',\n",
       " 'Accept with Conditions (Extra Deposit)',\n",
       " 'A-Criminal History Meets Requirements',\n",
       " 'Accept with Conditions (Guarantor)',\n",
       " 'REJECT',\n",
       " 'Accept with Conditions (Max Deposit)',\n",
       " 'A-Meets Requirements',\n",
       " 'Qualified Guarantor',\n",
       " 'Guarantor Not Qualified',\n",
       " 'Accept with Extra Security Deposit']"
      ]
     },
     "execution_count": 52,
     "metadata": {},
     "output_type": "execute_result"
    }
   ],
   "source": [
    "print(df.Recommendation.nunique())\n",
    "recommendation_list = df.Recommendation.unique().tolist()\n",
    "recommendation_list"
   ]
  },
  {
   "cell_type": "code",
   "execution_count": 53,
   "id": "7eb2ecb2",
   "metadata": {},
   "outputs": [
    {
     "data": {
      "text/plain": [
       "['A-Criminal History Meets Requirements',\n",
       " 'A-Meets Requirements',\n",
       " 'Accept',\n",
       " 'Accept with Conditions (Extra Deposit)',\n",
       " 'Accept with Conditions (Guarantor)',\n",
       " 'Accept with Conditions (Max Deposit)',\n",
       " 'REJECT']"
      ]
     },
     "execution_count": 53,
     "metadata": {},
     "output_type": "execute_result"
    }
   ],
   "source": [
    "x = df[df['bad_resident']==1].Recommendation.unique().tolist()\n",
    "sorted(x)"
   ]
  },
  {
   "cell_type": "code",
   "execution_count": 54,
   "id": "c6841372",
   "metadata": {},
   "outputs": [
    {
     "data": {
      "text/plain": [
       "['A-Criminal History Meets Requirements',\n",
       " 'A-Meets Requirements',\n",
       " 'Accept',\n",
       " 'Accept with Conditions (Extra Deposit)',\n",
       " 'Accept with Conditions (Guarantor)',\n",
       " 'Accept with Conditions (Max Deposit)',\n",
       " 'Accept with Extra Security Deposit',\n",
       " 'Guarantor Not Qualified',\n",
       " 'Qualified Guarantor',\n",
       " 'REJECT']"
      ]
     },
     "execution_count": 54,
     "metadata": {},
     "output_type": "execute_result"
    }
   ],
   "source": [
    "y = df[df['bad_resident']==0].Recommendation.unique().tolist()\n",
    "sorted(y)"
   ]
  },
  {
   "cell_type": "code",
   "execution_count": 55,
   "id": "7c7e1d08",
   "metadata": {},
   "outputs": [],
   "source": [
    "def prep_for_scale(df):\n",
    "    '''takes in a dataframe, create a copy of a dataframe, drop unwanted columns, create dummies, concate dataframe\n",
    "    with dummies, split a dataframe, and return X_train, X_val, X_test'''\n",
    "    \n",
    "    df_1 = df.copy()\n",
    "    df_1.drop(columns=['open', 'charge_code', 'description','charge_name','age','sStatus', 'reason' ], inplace=True)\n",
    "    df_1['GuarantorRequired']= np.where(df_1['GuarantorRequired'], 1,0)\n",
    "    \n",
    "    dummies_1 = pd.get_dummies(df_1['Recommendation'])\n",
    "#     dummies_2 = pd.get_dummies(df_1['reason'])\n",
    "    df_1 = pd.concat([df_1, dummies_1], axis=1)\n",
    "    df_1.drop(columns = ['Recommendation'],inplace=True)\n",
    "    train, validate, test, X_train, y_train, X_val, y_val, X_test, y_test = w.train_vailidate_test_split(df_1, 'bad_resident', strat ='bad_resident')\n",
    "    \n",
    "    return X_train, X_val, X_test\n",
    "    "
   ]
  },
  {
   "cell_type": "code",
   "execution_count": 56,
   "id": "d8eba95a",
   "metadata": {},
   "outputs": [],
   "source": [
    "# get X_train, X_val, X_test for scaling\n",
    "X_train_s, X_val_s, X_test_s = prep_for_scale(df)"
   ]
  },
  {
   "cell_type": "code",
   "execution_count": 57,
   "id": "3a3fd0eb",
   "metadata": {},
   "outputs": [
    {
     "data": {
      "text/html": [
       "<div>\n",
       "<style scoped>\n",
       "    .dataframe tbody tr th:only-of-type {\n",
       "        vertical-align: middle;\n",
       "    }\n",
       "\n",
       "    .dataframe tbody tr th {\n",
       "        vertical-align: top;\n",
       "    }\n",
       "\n",
       "    .dataframe thead th {\n",
       "        text-align: right;\n",
       "    }\n",
       "</style>\n",
       "<table border=\"1\" class=\"dataframe\">\n",
       "  <thead>\n",
       "    <tr style=\"text-align: right;\">\n",
       "      <th></th>\n",
       "      <th>id</th>\n",
       "      <th>total_charges</th>\n",
       "      <th>amount_paid</th>\n",
       "      <th>prop_id</th>\n",
       "      <th>rent</th>\n",
       "      <th>term</th>\n",
       "      <th>monthly_inc</th>\n",
       "      <th>GuarantorRequired</th>\n",
       "      <th>total_inc</th>\n",
       "      <th>risk_score</th>\n",
       "      <th>A-Criminal History Meets Requirements</th>\n",
       "      <th>A-Meets Requirements</th>\n",
       "      <th>Accept</th>\n",
       "      <th>Accept with Conditions (Extra Deposit)</th>\n",
       "      <th>Accept with Conditions (Guarantor)</th>\n",
       "      <th>Accept with Conditions (Max Deposit)</th>\n",
       "      <th>Accept with Extra Security Deposit</th>\n",
       "      <th>Guarantor Not Qualified</th>\n",
       "      <th>Qualified Guarantor</th>\n",
       "      <th>REJECT</th>\n",
       "    </tr>\n",
       "  </thead>\n",
       "  <tbody>\n",
       "    <tr>\n",
       "      <th>2707</th>\n",
       "      <td>63851</td>\n",
       "      <td>2.00</td>\n",
       "      <td>2.00</td>\n",
       "      <td>126</td>\n",
       "      <td>1639</td>\n",
       "      <td>12</td>\n",
       "      <td>3900</td>\n",
       "      <td>0</td>\n",
       "      <td>0</td>\n",
       "      <td>0</td>\n",
       "      <td>1</td>\n",
       "      <td>0</td>\n",
       "      <td>0</td>\n",
       "      <td>0</td>\n",
       "      <td>0</td>\n",
       "      <td>0</td>\n",
       "      <td>0</td>\n",
       "      <td>0</td>\n",
       "      <td>0</td>\n",
       "      <td>0</td>\n",
       "    </tr>\n",
       "    <tr>\n",
       "      <th>4983</th>\n",
       "      <td>73919</td>\n",
       "      <td>1650.00</td>\n",
       "      <td>1650.00</td>\n",
       "      <td>103</td>\n",
       "      <td>1719</td>\n",
       "      <td>12</td>\n",
       "      <td>6600</td>\n",
       "      <td>0</td>\n",
       "      <td>75684</td>\n",
       "      <td>745</td>\n",
       "      <td>0</td>\n",
       "      <td>0</td>\n",
       "      <td>0</td>\n",
       "      <td>1</td>\n",
       "      <td>0</td>\n",
       "      <td>0</td>\n",
       "      <td>0</td>\n",
       "      <td>0</td>\n",
       "      <td>0</td>\n",
       "      <td>0</td>\n",
       "    </tr>\n",
       "    <tr>\n",
       "      <th>4959</th>\n",
       "      <td>73653</td>\n",
       "      <td>4.00</td>\n",
       "      <td>4.00</td>\n",
       "      <td>84</td>\n",
       "      <td>1661</td>\n",
       "      <td>9</td>\n",
       "      <td>8176</td>\n",
       "      <td>0</td>\n",
       "      <td>221364</td>\n",
       "      <td>687</td>\n",
       "      <td>0</td>\n",
       "      <td>0</td>\n",
       "      <td>0</td>\n",
       "      <td>1</td>\n",
       "      <td>0</td>\n",
       "      <td>0</td>\n",
       "      <td>0</td>\n",
       "      <td>0</td>\n",
       "      <td>0</td>\n",
       "      <td>0</td>\n",
       "    </tr>\n",
       "    <tr>\n",
       "      <th>4492</th>\n",
       "      <td>70961</td>\n",
       "      <td>0.33</td>\n",
       "      <td>0.33</td>\n",
       "      <td>80</td>\n",
       "      <td>1579</td>\n",
       "      <td>14</td>\n",
       "      <td>5000</td>\n",
       "      <td>0</td>\n",
       "      <td>101976</td>\n",
       "      <td>782</td>\n",
       "      <td>0</td>\n",
       "      <td>0</td>\n",
       "      <td>1</td>\n",
       "      <td>0</td>\n",
       "      <td>0</td>\n",
       "      <td>0</td>\n",
       "      <td>0</td>\n",
       "      <td>0</td>\n",
       "      <td>0</td>\n",
       "      <td>0</td>\n",
       "    </tr>\n",
       "    <tr>\n",
       "      <th>995</th>\n",
       "      <td>33019</td>\n",
       "      <td>1.17</td>\n",
       "      <td>1.17</td>\n",
       "      <td>139</td>\n",
       "      <td>1779</td>\n",
       "      <td>13</td>\n",
       "      <td>7500</td>\n",
       "      <td>0</td>\n",
       "      <td>90000</td>\n",
       "      <td>724</td>\n",
       "      <td>0</td>\n",
       "      <td>0</td>\n",
       "      <td>1</td>\n",
       "      <td>0</td>\n",
       "      <td>0</td>\n",
       "      <td>0</td>\n",
       "      <td>0</td>\n",
       "      <td>0</td>\n",
       "      <td>0</td>\n",
       "      <td>0</td>\n",
       "    </tr>\n",
       "    <tr>\n",
       "      <th>3515</th>\n",
       "      <td>66490</td>\n",
       "      <td>-6.36</td>\n",
       "      <td>-6.36</td>\n",
       "      <td>119</td>\n",
       "      <td>1659</td>\n",
       "      <td>15</td>\n",
       "      <td>6000</td>\n",
       "      <td>0</td>\n",
       "      <td>72000</td>\n",
       "      <td>0</td>\n",
       "      <td>0</td>\n",
       "      <td>0</td>\n",
       "      <td>0</td>\n",
       "      <td>1</td>\n",
       "      <td>0</td>\n",
       "      <td>0</td>\n",
       "      <td>0</td>\n",
       "      <td>0</td>\n",
       "      <td>0</td>\n",
       "      <td>0</td>\n",
       "    </tr>\n",
       "    <tr>\n",
       "      <th>2817</th>\n",
       "      <td>64196</td>\n",
       "      <td>22.91</td>\n",
       "      <td>22.91</td>\n",
       "      <td>144</td>\n",
       "      <td>1779</td>\n",
       "      <td>4</td>\n",
       "      <td>8000</td>\n",
       "      <td>0</td>\n",
       "      <td>78096</td>\n",
       "      <td>706</td>\n",
       "      <td>0</td>\n",
       "      <td>0</td>\n",
       "      <td>0</td>\n",
       "      <td>1</td>\n",
       "      <td>0</td>\n",
       "      <td>0</td>\n",
       "      <td>0</td>\n",
       "      <td>0</td>\n",
       "      <td>0</td>\n",
       "      <td>0</td>\n",
       "    </tr>\n",
       "    <tr>\n",
       "      <th>2220</th>\n",
       "      <td>62058</td>\n",
       "      <td>6.00</td>\n",
       "      <td>6.00</td>\n",
       "      <td>99</td>\n",
       "      <td>1419</td>\n",
       "      <td>12</td>\n",
       "      <td>5400</td>\n",
       "      <td>0</td>\n",
       "      <td>146232</td>\n",
       "      <td>503</td>\n",
       "      <td>0</td>\n",
       "      <td>0</td>\n",
       "      <td>1</td>\n",
       "      <td>0</td>\n",
       "      <td>0</td>\n",
       "      <td>0</td>\n",
       "      <td>0</td>\n",
       "      <td>0</td>\n",
       "      <td>0</td>\n",
       "      <td>0</td>\n",
       "    </tr>\n",
       "    <tr>\n",
       "      <th>4049</th>\n",
       "      <td>68778</td>\n",
       "      <td>696.43</td>\n",
       "      <td>696.43</td>\n",
       "      <td>97</td>\n",
       "      <td>1229</td>\n",
       "      <td>12</td>\n",
       "      <td>7300</td>\n",
       "      <td>0</td>\n",
       "      <td>227004</td>\n",
       "      <td>664</td>\n",
       "      <td>0</td>\n",
       "      <td>0</td>\n",
       "      <td>1</td>\n",
       "      <td>0</td>\n",
       "      <td>0</td>\n",
       "      <td>0</td>\n",
       "      <td>0</td>\n",
       "      <td>0</td>\n",
       "      <td>0</td>\n",
       "      <td>0</td>\n",
       "    </tr>\n",
       "    <tr>\n",
       "      <th>1533</th>\n",
       "      <td>46601</td>\n",
       "      <td>4.00</td>\n",
       "      <td>4.00</td>\n",
       "      <td>144</td>\n",
       "      <td>1629</td>\n",
       "      <td>14</td>\n",
       "      <td>7500</td>\n",
       "      <td>0</td>\n",
       "      <td>90000</td>\n",
       "      <td>666</td>\n",
       "      <td>0</td>\n",
       "      <td>0</td>\n",
       "      <td>1</td>\n",
       "      <td>0</td>\n",
       "      <td>0</td>\n",
       "      <td>0</td>\n",
       "      <td>0</td>\n",
       "      <td>0</td>\n",
       "      <td>0</td>\n",
       "      <td>0</td>\n",
       "    </tr>\n",
       "  </tbody>\n",
       "</table>\n",
       "</div>"
      ],
      "text/plain": [
       "         id  total_charges  amount_paid  prop_id  rent  term  monthly_inc  \\\n",
       "2707  63851           2.00         2.00      126  1639    12         3900   \n",
       "4983  73919        1650.00      1650.00      103  1719    12         6600   \n",
       "4959  73653           4.00         4.00       84  1661     9         8176   \n",
       "4492  70961           0.33         0.33       80  1579    14         5000   \n",
       "995   33019           1.17         1.17      139  1779    13         7500   \n",
       "3515  66490          -6.36        -6.36      119  1659    15         6000   \n",
       "2817  64196          22.91        22.91      144  1779     4         8000   \n",
       "2220  62058           6.00         6.00       99  1419    12         5400   \n",
       "4049  68778         696.43       696.43       97  1229    12         7300   \n",
       "1533  46601           4.00         4.00      144  1629    14         7500   \n",
       "\n",
       "      GuarantorRequired  total_inc  risk_score  \\\n",
       "2707                  0          0           0   \n",
       "4983                  0      75684         745   \n",
       "4959                  0     221364         687   \n",
       "4492                  0     101976         782   \n",
       "995                   0      90000         724   \n",
       "3515                  0      72000           0   \n",
       "2817                  0      78096         706   \n",
       "2220                  0     146232         503   \n",
       "4049                  0     227004         664   \n",
       "1533                  0      90000         666   \n",
       "\n",
       "      A-Criminal History Meets Requirements  A-Meets Requirements  Accept  \\\n",
       "2707                                      1                     0       0   \n",
       "4983                                      0                     0       0   \n",
       "4959                                      0                     0       0   \n",
       "4492                                      0                     0       1   \n",
       "995                                       0                     0       1   \n",
       "3515                                      0                     0       0   \n",
       "2817                                      0                     0       0   \n",
       "2220                                      0                     0       1   \n",
       "4049                                      0                     0       1   \n",
       "1533                                      0                     0       1   \n",
       "\n",
       "      Accept with Conditions (Extra Deposit)  \\\n",
       "2707                                       0   \n",
       "4983                                       1   \n",
       "4959                                       1   \n",
       "4492                                       0   \n",
       "995                                        0   \n",
       "3515                                       1   \n",
       "2817                                       1   \n",
       "2220                                       0   \n",
       "4049                                       0   \n",
       "1533                                       0   \n",
       "\n",
       "      Accept with Conditions (Guarantor)  \\\n",
       "2707                                   0   \n",
       "4983                                   0   \n",
       "4959                                   0   \n",
       "4492                                   0   \n",
       "995                                    0   \n",
       "3515                                   0   \n",
       "2817                                   0   \n",
       "2220                                   0   \n",
       "4049                                   0   \n",
       "1533                                   0   \n",
       "\n",
       "      Accept with Conditions (Max Deposit)  \\\n",
       "2707                                     0   \n",
       "4983                                     0   \n",
       "4959                                     0   \n",
       "4492                                     0   \n",
       "995                                      0   \n",
       "3515                                     0   \n",
       "2817                                     0   \n",
       "2220                                     0   \n",
       "4049                                     0   \n",
       "1533                                     0   \n",
       "\n",
       "      Accept with Extra Security Deposit  Guarantor Not Qualified  \\\n",
       "2707                                   0                        0   \n",
       "4983                                   0                        0   \n",
       "4959                                   0                        0   \n",
       "4492                                   0                        0   \n",
       "995                                    0                        0   \n",
       "3515                                   0                        0   \n",
       "2817                                   0                        0   \n",
       "2220                                   0                        0   \n",
       "4049                                   0                        0   \n",
       "1533                                   0                        0   \n",
       "\n",
       "      Qualified Guarantor  REJECT  \n",
       "2707                    0       0  \n",
       "4983                    0       0  \n",
       "4959                    0       0  \n",
       "4492                    0       0  \n",
       "995                     0       0  \n",
       "3515                    0       0  \n",
       "2817                    0       0  \n",
       "2220                    0       0  \n",
       "4049                    0       0  \n",
       "1533                    0       0  "
      ]
     },
     "execution_count": 57,
     "metadata": {},
     "output_type": "execute_result"
    }
   ],
   "source": [
    "X_train_s.head(10)"
   ]
  }
 ],
 "metadata": {
  "kernelspec": {
   "display_name": "Python 3 (ipykernel)",
   "language": "python",
   "name": "python3"
  },
  "language_info": {
   "codemirror_mode": {
    "name": "ipython",
    "version": 3
   },
   "file_extension": ".py",
   "mimetype": "text/x-python",
   "name": "python",
   "nbconvert_exporter": "python",
   "pygments_lexer": "ipython3",
   "version": "3.9.13"
  }
 },
 "nbformat": 4,
 "nbformat_minor": 5
}
