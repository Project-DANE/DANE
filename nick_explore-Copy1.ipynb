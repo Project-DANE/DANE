{
 "cells": [
  {
   "cell_type": "code",
   "execution_count": 45,
   "id": "d7e7c069",
   "metadata": {},
   "outputs": [],
   "source": [
    "import pandas as pd\n",
    "import numpy as np \n",
    "\n",
    "import matplotlib.pyplot as plt\n",
    "import seaborn as sns\n",
    "\n",
    "import wrangle as w\n",
    "import explore as e\n",
    "\n",
    "from scipy import stats\n",
    "from scipy.stats import pearsonr\n",
    "from sklearn.preprocessing import StandardScaler\n",
    "\n",
    "import warnings\n",
    "warnings.filterwarnings('ignore')"
   ]
  },
  {
   "cell_type": "code",
   "execution_count": 2,
   "id": "862f6bad",
   "metadata": {},
   "outputs": [],
   "source": [
    "df = w.get_cws_data()"
   ]
  },
  {
   "cell_type": "code",
   "execution_count": 3,
   "id": "9e3e6a8f",
   "metadata": {},
   "outputs": [
    {
     "data": {
      "text/html": [
       "<div>\n",
       "<style scoped>\n",
       "    .dataframe tbody tr th:only-of-type {\n",
       "        vertical-align: middle;\n",
       "    }\n",
       "\n",
       "    .dataframe tbody tr th {\n",
       "        vertical-align: top;\n",
       "    }\n",
       "\n",
       "    .dataframe thead th {\n",
       "        text-align: right;\n",
       "    }\n",
       "</style>\n",
       "<table border=\"1\" class=\"dataframe\">\n",
       "  <thead>\n",
       "    <tr style=\"text-align: right;\">\n",
       "      <th></th>\n",
       "      <th>id</th>\n",
       "      <th>total_charges</th>\n",
       "      <th>amount_paid</th>\n",
       "      <th>open</th>\n",
       "      <th>charge_code</th>\n",
       "      <th>description</th>\n",
       "      <th>prop_id</th>\n",
       "      <th>charge_name</th>\n",
       "      <th>sStatus</th>\n",
       "      <th>rent</th>\n",
       "      <th>term</th>\n",
       "      <th>monthly_inc</th>\n",
       "      <th>GuarantorRequired</th>\n",
       "      <th>total_inc</th>\n",
       "      <th>Recommendation</th>\n",
       "      <th>age</th>\n",
       "      <th>risk_score</th>\n",
       "      <th>reason</th>\n",
       "      <th>bad_resident</th>\n",
       "    </tr>\n",
       "  </thead>\n",
       "  <tbody>\n",
       "    <tr>\n",
       "      <th>0</th>\n",
       "      <td>3946</td>\n",
       "      <td>75.00</td>\n",
       "      <td>75.00</td>\n",
       "      <td>0</td>\n",
       "      <td>131</td>\n",
       "      <td>Uncllctbl key, remote fees</td>\n",
       "      <td>136</td>\n",
       "      <td>Uncllctbl key, remote fees</td>\n",
       "      <td>Current</td>\n",
       "      <td>1311</td>\n",
       "      <td>15</td>\n",
       "      <td>52500</td>\n",
       "      <td>False</td>\n",
       "      <td>666000</td>\n",
       "      <td>Accept</td>\n",
       "      <td>33</td>\n",
       "      <td>745</td>\n",
       "      <td>Insufficient period of Residence History</td>\n",
       "      <td>1</td>\n",
       "    </tr>\n",
       "    <tr>\n",
       "      <th>1</th>\n",
       "      <td>3962</td>\n",
       "      <td>13.66</td>\n",
       "      <td>13.66</td>\n",
       "      <td>0</td>\n",
       "      <td>112</td>\n",
       "      <td>Water 8/1/2021-9/1/2021</td>\n",
       "      <td>136</td>\n",
       "      <td>Utility-water charges</td>\n",
       "      <td>Current</td>\n",
       "      <td>1661</td>\n",
       "      <td>12</td>\n",
       "      <td>65000</td>\n",
       "      <td>False</td>\n",
       "      <td>889992</td>\n",
       "      <td>Accept with Conditions (Extra Deposit)</td>\n",
       "      <td>27</td>\n",
       "      <td>758</td>\n",
       "      <td>No Credit Experience</td>\n",
       "      <td>0</td>\n",
       "    </tr>\n",
       "    <tr>\n",
       "      <th>2</th>\n",
       "      <td>4050</td>\n",
       "      <td>46.17</td>\n",
       "      <td>46.17</td>\n",
       "      <td>0</td>\n",
       "      <td>155</td>\n",
       "      <td>Damage charges - Clean</td>\n",
       "      <td>136</td>\n",
       "      <td>Damage charges</td>\n",
       "      <td>Current</td>\n",
       "      <td>1412</td>\n",
       "      <td>12</td>\n",
       "      <td>48000</td>\n",
       "      <td>False</td>\n",
       "      <td>576000</td>\n",
       "      <td>Accept with Conditions (Extra Deposit)</td>\n",
       "      <td>33</td>\n",
       "      <td>666</td>\n",
       "      <td>Insufficient period of Residence History</td>\n",
       "      <td>1</td>\n",
       "    </tr>\n",
       "    <tr>\n",
       "      <th>3</th>\n",
       "      <td>4948</td>\n",
       "      <td>9.76</td>\n",
       "      <td>9.76</td>\n",
       "      <td>0</td>\n",
       "      <td>111</td>\n",
       "      <td>Sewer Charge</td>\n",
       "      <td>140</td>\n",
       "      <td>Utility-sewer charges</td>\n",
       "      <td>Current</td>\n",
       "      <td>1377</td>\n",
       "      <td>18</td>\n",
       "      <td>72000</td>\n",
       "      <td>False</td>\n",
       "      <td>0</td>\n",
       "      <td>A-Criminal History Meets Requirements</td>\n",
       "      <td>39</td>\n",
       "      <td>0</td>\n",
       "      <td>Meets All Property Requirements</td>\n",
       "      <td>0</td>\n",
       "    </tr>\n",
       "    <tr>\n",
       "      <th>4</th>\n",
       "      <td>5001</td>\n",
       "      <td>6.85</td>\n",
       "      <td>6.85</td>\n",
       "      <td>0</td>\n",
       "      <td>113</td>\n",
       "      <td>Sewer Base Charge</td>\n",
       "      <td>140</td>\n",
       "      <td>Utility-water flat base charges</td>\n",
       "      <td>Current</td>\n",
       "      <td>2199</td>\n",
       "      <td>13</td>\n",
       "      <td>0</td>\n",
       "      <td>True</td>\n",
       "      <td>54996</td>\n",
       "      <td>Accept with Conditions (Guarantor)</td>\n",
       "      <td>23</td>\n",
       "      <td>752</td>\n",
       "      <td>NaN</td>\n",
       "      <td>0</td>\n",
       "    </tr>\n",
       "    <tr>\n",
       "      <th>...</th>\n",
       "      <td>...</td>\n",
       "      <td>...</td>\n",
       "      <td>...</td>\n",
       "      <td>...</td>\n",
       "      <td>...</td>\n",
       "      <td>...</td>\n",
       "      <td>...</td>\n",
       "      <td>...</td>\n",
       "      <td>...</td>\n",
       "      <td>...</td>\n",
       "      <td>...</td>\n",
       "      <td>...</td>\n",
       "      <td>...</td>\n",
       "      <td>...</td>\n",
       "      <td>...</td>\n",
       "      <td>...</td>\n",
       "      <td>...</td>\n",
       "      <td>...</td>\n",
       "      <td>...</td>\n",
       "    </tr>\n",
       "    <tr>\n",
       "      <th>4999</th>\n",
       "      <td>74033</td>\n",
       "      <td>1439.37</td>\n",
       "      <td>1439.37</td>\n",
       "      <td>0</td>\n",
       "      <td>74</td>\n",
       "      <td>Rent for 29 days</td>\n",
       "      <td>85</td>\n",
       "      <td>Rent</td>\n",
       "      <td>Current</td>\n",
       "      <td>1489</td>\n",
       "      <td>12</td>\n",
       "      <td>0</td>\n",
       "      <td>True</td>\n",
       "      <td>0</td>\n",
       "      <td>Accept with Conditions (Guarantor)</td>\n",
       "      <td>24</td>\n",
       "      <td>708</td>\n",
       "      <td>Insufficient Income to Support Rent</td>\n",
       "      <td>0</td>\n",
       "    </tr>\n",
       "    <tr>\n",
       "      <th>5000</th>\n",
       "      <td>74056</td>\n",
       "      <td>150.00</td>\n",
       "      <td>150.00</td>\n",
       "      <td>0</td>\n",
       "      <td>162</td>\n",
       "      <td>Deposit Waiver Fee (Amount subject to screenin...</td>\n",
       "      <td>152</td>\n",
       "      <td>Deposit waiver fee</td>\n",
       "      <td>Current</td>\n",
       "      <td>1859</td>\n",
       "      <td>13</td>\n",
       "      <td>10000</td>\n",
       "      <td>False</td>\n",
       "      <td>121776</td>\n",
       "      <td>Accept</td>\n",
       "      <td>32</td>\n",
       "      <td>786</td>\n",
       "      <td>Meets All Property Requirements</td>\n",
       "      <td>0</td>\n",
       "    </tr>\n",
       "    <tr>\n",
       "      <th>5001</th>\n",
       "      <td>74230</td>\n",
       "      <td>5.00</td>\n",
       "      <td>5.00</td>\n",
       "      <td>0</td>\n",
       "      <td>186</td>\n",
       "      <td>Convenience Fee</td>\n",
       "      <td>61</td>\n",
       "      <td>OSP resident convenience fee</td>\n",
       "      <td>Current</td>\n",
       "      <td>1439</td>\n",
       "      <td>12</td>\n",
       "      <td>4350</td>\n",
       "      <td>False</td>\n",
       "      <td>57432</td>\n",
       "      <td>Accept with Conditions (Extra Deposit)</td>\n",
       "      <td>36</td>\n",
       "      <td>691</td>\n",
       "      <td>Limited period of Residence History</td>\n",
       "      <td>0</td>\n",
       "    </tr>\n",
       "    <tr>\n",
       "      <th>5002</th>\n",
       "      <td>74231</td>\n",
       "      <td>5.00</td>\n",
       "      <td>5.00</td>\n",
       "      <td>0</td>\n",
       "      <td>186</td>\n",
       "      <td>Convenience Fee (ray farmer)</td>\n",
       "      <td>83</td>\n",
       "      <td>OSP resident convenience fee</td>\n",
       "      <td>Current</td>\n",
       "      <td>1739</td>\n",
       "      <td>12</td>\n",
       "      <td>7916</td>\n",
       "      <td>False</td>\n",
       "      <td>94992</td>\n",
       "      <td>Accept</td>\n",
       "      <td>47</td>\n",
       "      <td>770</td>\n",
       "      <td>Meets All Property Requirements</td>\n",
       "      <td>0</td>\n",
       "    </tr>\n",
       "    <tr>\n",
       "      <th>5003</th>\n",
       "      <td>74273</td>\n",
       "      <td>3.33</td>\n",
       "      <td>3.33</td>\n",
       "      <td>0</td>\n",
       "      <td>180</td>\n",
       "      <td>Administration Processing Fee for 25 days</td>\n",
       "      <td>112</td>\n",
       "      <td>Administration processing fee</td>\n",
       "      <td>Current</td>\n",
       "      <td>2489</td>\n",
       "      <td>15</td>\n",
       "      <td>4800</td>\n",
       "      <td>False</td>\n",
       "      <td>153816</td>\n",
       "      <td>Accept with Conditions (Max Deposit)</td>\n",
       "      <td>37</td>\n",
       "      <td>595</td>\n",
       "      <td>High level of Charge-offs</td>\n",
       "      <td>0</td>\n",
       "    </tr>\n",
       "  </tbody>\n",
       "</table>\n",
       "<p>5004 rows × 19 columns</p>\n",
       "</div>"
      ],
      "text/plain": [
       "         id  total_charges  amount_paid  open  charge_code  \\\n",
       "0      3946          75.00        75.00     0          131   \n",
       "1      3962          13.66        13.66     0          112   \n",
       "2      4050          46.17        46.17     0          155   \n",
       "3      4948           9.76         9.76     0          111   \n",
       "4      5001           6.85         6.85     0          113   \n",
       "...     ...            ...          ...   ...          ...   \n",
       "4999  74033        1439.37      1439.37     0           74   \n",
       "5000  74056         150.00       150.00     0          162   \n",
       "5001  74230           5.00         5.00     0          186   \n",
       "5002  74231           5.00         5.00     0          186   \n",
       "5003  74273           3.33         3.33     0          180   \n",
       "\n",
       "                                            description  prop_id  \\\n",
       "0                            Uncllctbl key, remote fees      136   \n",
       "1                               Water 8/1/2021-9/1/2021      136   \n",
       "2                                Damage charges - Clean      136   \n",
       "3                                          Sewer Charge      140   \n",
       "4                                     Sewer Base Charge      140   \n",
       "...                                                 ...      ...   \n",
       "4999                                   Rent for 29 days       85   \n",
       "5000  Deposit Waiver Fee (Amount subject to screenin...      152   \n",
       "5001                                    Convenience Fee       61   \n",
       "5002                       Convenience Fee (ray farmer)       83   \n",
       "5003          Administration Processing Fee for 25 days      112   \n",
       "\n",
       "                          charge_name  sStatus  rent  term  monthly_inc  \\\n",
       "0          Uncllctbl key, remote fees  Current  1311    15        52500   \n",
       "1               Utility-water charges  Current  1661    12        65000   \n",
       "2                      Damage charges  Current  1412    12        48000   \n",
       "3               Utility-sewer charges  Current  1377    18        72000   \n",
       "4     Utility-water flat base charges  Current  2199    13            0   \n",
       "...                               ...      ...   ...   ...          ...   \n",
       "4999                             Rent  Current  1489    12            0   \n",
       "5000               Deposit waiver fee  Current  1859    13        10000   \n",
       "5001     OSP resident convenience fee  Current  1439    12         4350   \n",
       "5002     OSP resident convenience fee  Current  1739    12         7916   \n",
       "5003    Administration processing fee  Current  2489    15         4800   \n",
       "\n",
       "      GuarantorRequired  total_inc                          Recommendation  \\\n",
       "0                 False     666000                                  Accept   \n",
       "1                 False     889992  Accept with Conditions (Extra Deposit)   \n",
       "2                 False     576000  Accept with Conditions (Extra Deposit)   \n",
       "3                 False          0   A-Criminal History Meets Requirements   \n",
       "4                  True      54996      Accept with Conditions (Guarantor)   \n",
       "...                 ...        ...                                     ...   \n",
       "4999               True          0      Accept with Conditions (Guarantor)   \n",
       "5000              False     121776                                  Accept   \n",
       "5001              False      57432  Accept with Conditions (Extra Deposit)   \n",
       "5002              False      94992                                  Accept   \n",
       "5003              False     153816    Accept with Conditions (Max Deposit)   \n",
       "\n",
       "      age  risk_score                                    reason  bad_resident  \n",
       "0      33         745  Insufficient period of Residence History             1  \n",
       "1      27         758                      No Credit Experience             0  \n",
       "2      33         666  Insufficient period of Residence History             1  \n",
       "3      39           0           Meets All Property Requirements             0  \n",
       "4      23         752                                       NaN             0  \n",
       "...   ...         ...                                       ...           ...  \n",
       "4999   24         708       Insufficient Income to Support Rent             0  \n",
       "5000   32         786           Meets All Property Requirements             0  \n",
       "5001   36         691       Limited period of Residence History             0  \n",
       "5002   47         770           Meets All Property Requirements             0  \n",
       "5003   37         595                 High level of Charge-offs             0  \n",
       "\n",
       "[5004 rows x 19 columns]"
      ]
     },
     "execution_count": 3,
     "metadata": {},
     "output_type": "execute_result"
    }
   ],
   "source": [
    "df"
   ]
  },
  {
   "cell_type": "code",
   "execution_count": 4,
   "id": "f61596a5",
   "metadata": {},
   "outputs": [],
   "source": [
    "charge_codes = [96, 105, 106, 115, 127, 131, 137, 138,142, 148, 154,\n",
    "                155, 156, 163, 166, 169, 183, 189, 192, 229, 231, 233,\n",
    "                245, 246, 247, 248, 249,250, 251, 253, 268, 298]"
   ]
  },
  {
   "cell_type": "code",
   "execution_count": 5,
   "id": "da07225c",
   "metadata": {},
   "outputs": [],
   "source": [
    "#split data\n",
    "\n",
    "train, validate, test, X_train, y_train, X_val, y_val, X_test, y_test = w.train_vailidate_test_split(df, 'bad_resident', 'bad_resident')"
   ]
  },
  {
   "cell_type": "code",
   "execution_count": 6,
   "id": "f0a3c23f",
   "metadata": {},
   "outputs": [
    {
     "data": {
      "text/plain": [
       "((2802, 19), (1201, 19), (1001, 19))"
      ]
     },
     "execution_count": 6,
     "metadata": {},
     "output_type": "execute_result"
    }
   ],
   "source": [
    "train.shape, validate.shape, test.shape"
   ]
  },
  {
   "cell_type": "markdown",
   "id": "a8bf9c08",
   "metadata": {},
   "source": [
    "### Are certain age groups more likely to cause damage?"
   ]
  },
  {
   "cell_type": "code",
   "execution_count": 7,
   "id": "0da2b177",
   "metadata": {},
   "outputs": [
    {
     "data": {
      "text/plain": [
       "107"
      ]
     },
     "execution_count": 7,
     "metadata": {},
     "output_type": "execute_result"
    }
   ],
   "source": [
    "len(train[train.bad_resident == 1])"
   ]
  },
  {
   "cell_type": "code",
   "execution_count": 8,
   "id": "307508b3",
   "metadata": {},
   "outputs": [
    {
     "data": {
      "text/html": [
       "<div>\n",
       "<style scoped>\n",
       "    .dataframe tbody tr th:only-of-type {\n",
       "        vertical-align: middle;\n",
       "    }\n",
       "\n",
       "    .dataframe tbody tr th {\n",
       "        vertical-align: top;\n",
       "    }\n",
       "\n",
       "    .dataframe thead th {\n",
       "        text-align: right;\n",
       "    }\n",
       "</style>\n",
       "<table border=\"1\" class=\"dataframe\">\n",
       "  <thead>\n",
       "    <tr style=\"text-align: right;\">\n",
       "      <th></th>\n",
       "      <th>id</th>\n",
       "      <th>total_charges</th>\n",
       "      <th>amount_paid</th>\n",
       "      <th>open</th>\n",
       "      <th>charge_code</th>\n",
       "      <th>description</th>\n",
       "      <th>prop_id</th>\n",
       "      <th>charge_name</th>\n",
       "      <th>sStatus</th>\n",
       "      <th>rent</th>\n",
       "      <th>term</th>\n",
       "      <th>monthly_inc</th>\n",
       "      <th>GuarantorRequired</th>\n",
       "      <th>total_inc</th>\n",
       "      <th>Recommendation</th>\n",
       "      <th>age</th>\n",
       "      <th>risk_score</th>\n",
       "      <th>reason</th>\n",
       "      <th>bad_resident</th>\n",
       "    </tr>\n",
       "  </thead>\n",
       "  <tbody>\n",
       "    <tr>\n",
       "      <th>2505</th>\n",
       "      <td>63279</td>\n",
       "      <td>6.00</td>\n",
       "      <td>6.00</td>\n",
       "      <td>0</td>\n",
       "      <td>190</td>\n",
       "      <td>Pest control (01/2023)</td>\n",
       "      <td>76</td>\n",
       "      <td>Pest control</td>\n",
       "      <td>Current</td>\n",
       "      <td>1679</td>\n",
       "      <td>4</td>\n",
       "      <td>14083</td>\n",
       "      <td>False</td>\n",
       "      <td>241992</td>\n",
       "      <td>Accept</td>\n",
       "      <td>45</td>\n",
       "      <td>648</td>\n",
       "      <td>Meets All Property Requirements</td>\n",
       "      <td>0</td>\n",
       "    </tr>\n",
       "    <tr>\n",
       "      <th>1262</th>\n",
       "      <td>45474</td>\n",
       "      <td>1479.00</td>\n",
       "      <td>1479.00</td>\n",
       "      <td>0</td>\n",
       "      <td>74</td>\n",
       "      <td>Rent (02/2023)</td>\n",
       "      <td>127</td>\n",
       "      <td>Rent</td>\n",
       "      <td>Current</td>\n",
       "      <td>1479</td>\n",
       "      <td>18</td>\n",
       "      <td>4095</td>\n",
       "      <td>True</td>\n",
       "      <td>49140</td>\n",
       "      <td>Accept with Conditions (Guarantor)</td>\n",
       "      <td>34</td>\n",
       "      <td>561</td>\n",
       "      <td>Severe level of Charge-offs</td>\n",
       "      <td>0</td>\n",
       "    </tr>\n",
       "    <tr>\n",
       "      <th>2542</th>\n",
       "      <td>63383</td>\n",
       "      <td>4.00</td>\n",
       "      <td>4.00</td>\n",
       "      <td>0</td>\n",
       "      <td>190</td>\n",
       "      <td>Pest control (02/2023)</td>\n",
       "      <td>93</td>\n",
       "      <td>Pest control</td>\n",
       "      <td>Current</td>\n",
       "      <td>1269</td>\n",
       "      <td>12</td>\n",
       "      <td>3308</td>\n",
       "      <td>True</td>\n",
       "      <td>0</td>\n",
       "      <td>Accept with Conditions (Guarantor)</td>\n",
       "      <td>40</td>\n",
       "      <td>632</td>\n",
       "      <td>Insufficient Income to Support Rent</td>\n",
       "      <td>0</td>\n",
       "    </tr>\n",
       "    <tr>\n",
       "      <th>730</th>\n",
       "      <td>31765</td>\n",
       "      <td>0.90</td>\n",
       "      <td>0.90</td>\n",
       "      <td>0</td>\n",
       "      <td>128</td>\n",
       "      <td>Valet Waste for 1 days</td>\n",
       "      <td>136</td>\n",
       "      <td>Trash service fee</td>\n",
       "      <td>Current</td>\n",
       "      <td>1689</td>\n",
       "      <td>12</td>\n",
       "      <td>1906</td>\n",
       "      <td>True</td>\n",
       "      <td>0</td>\n",
       "      <td>Accept with Conditions (Guarantor)</td>\n",
       "      <td>27</td>\n",
       "      <td>771</td>\n",
       "      <td>Insufficient Income to Support Rent</td>\n",
       "      <td>0</td>\n",
       "    </tr>\n",
       "    <tr>\n",
       "      <th>3048</th>\n",
       "      <td>64923</td>\n",
       "      <td>5.00</td>\n",
       "      <td>5.00</td>\n",
       "      <td>0</td>\n",
       "      <td>191</td>\n",
       "      <td>Amenity fee (02/2023)</td>\n",
       "      <td>121</td>\n",
       "      <td>Amenity fee</td>\n",
       "      <td>Current</td>\n",
       "      <td>1409</td>\n",
       "      <td>18</td>\n",
       "      <td>6250</td>\n",
       "      <td>False</td>\n",
       "      <td>96732</td>\n",
       "      <td>Accept with Conditions (Extra Deposit)</td>\n",
       "      <td>33</td>\n",
       "      <td>0</td>\n",
       "      <td>No Credit Experience</td>\n",
       "      <td>0</td>\n",
       "    </tr>\n",
       "    <tr>\n",
       "      <th>...</th>\n",
       "      <td>...</td>\n",
       "      <td>...</td>\n",
       "      <td>...</td>\n",
       "      <td>...</td>\n",
       "      <td>...</td>\n",
       "      <td>...</td>\n",
       "      <td>...</td>\n",
       "      <td>...</td>\n",
       "      <td>...</td>\n",
       "      <td>...</td>\n",
       "      <td>...</td>\n",
       "      <td>...</td>\n",
       "      <td>...</td>\n",
       "      <td>...</td>\n",
       "      <td>...</td>\n",
       "      <td>...</td>\n",
       "      <td>...</td>\n",
       "      <td>...</td>\n",
       "      <td>...</td>\n",
       "    </tr>\n",
       "    <tr>\n",
       "      <th>3957</th>\n",
       "      <td>68290</td>\n",
       "      <td>16.67</td>\n",
       "      <td>16.67</td>\n",
       "      <td>0</td>\n",
       "      <td>128</td>\n",
       "      <td>Valet Trash for 20 days</td>\n",
       "      <td>55</td>\n",
       "      <td>Trash service fee</td>\n",
       "      <td>Current</td>\n",
       "      <td>1759</td>\n",
       "      <td>13</td>\n",
       "      <td>4750</td>\n",
       "      <td>False</td>\n",
       "      <td>224592</td>\n",
       "      <td>Accept with Conditions (Max Deposit)</td>\n",
       "      <td>38</td>\n",
       "      <td>613</td>\n",
       "      <td>Severe level of Judgments/Suits OR Repossessio...</td>\n",
       "      <td>0</td>\n",
       "    </tr>\n",
       "    <tr>\n",
       "      <th>4452</th>\n",
       "      <td>70784</td>\n",
       "      <td>3.00</td>\n",
       "      <td>0.00</td>\n",
       "      <td>-1</td>\n",
       "      <td>190</td>\n",
       "      <td>Pest control (03/2023)</td>\n",
       "      <td>68</td>\n",
       "      <td>Pest control</td>\n",
       "      <td>Current</td>\n",
       "      <td>1319</td>\n",
       "      <td>13</td>\n",
       "      <td>3200</td>\n",
       "      <td>True</td>\n",
       "      <td>41268</td>\n",
       "      <td>Accept with Conditions (Guarantor)</td>\n",
       "      <td>28</td>\n",
       "      <td>548</td>\n",
       "      <td>Insufficient Income to Support Rent</td>\n",
       "      <td>0</td>\n",
       "    </tr>\n",
       "    <tr>\n",
       "      <th>1063</th>\n",
       "      <td>33589</td>\n",
       "      <td>239.83</td>\n",
       "      <td>239.83</td>\n",
       "      <td>0</td>\n",
       "      <td>74</td>\n",
       "      <td>Rent for 5 days</td>\n",
       "      <td>90</td>\n",
       "      <td>Rent</td>\n",
       "      <td>Current</td>\n",
       "      <td>1439</td>\n",
       "      <td>12</td>\n",
       "      <td>5222</td>\n",
       "      <td>False</td>\n",
       "      <td>113292</td>\n",
       "      <td>Accept</td>\n",
       "      <td>28</td>\n",
       "      <td>747</td>\n",
       "      <td>No Credit Experience</td>\n",
       "      <td>0</td>\n",
       "    </tr>\n",
       "    <tr>\n",
       "      <th>3145</th>\n",
       "      <td>65242</td>\n",
       "      <td>0.38</td>\n",
       "      <td>0.38</td>\n",
       "      <td>0</td>\n",
       "      <td>112</td>\n",
       "      <td>Utility-water charges for 12 Days</td>\n",
       "      <td>55</td>\n",
       "      <td>Utility-water charges</td>\n",
       "      <td>Current</td>\n",
       "      <td>1589</td>\n",
       "      <td>12</td>\n",
       "      <td>5500</td>\n",
       "      <td>False</td>\n",
       "      <td>152760</td>\n",
       "      <td>Accept</td>\n",
       "      <td>53</td>\n",
       "      <td>722</td>\n",
       "      <td>Limited period of Employment History</td>\n",
       "      <td>0</td>\n",
       "    </tr>\n",
       "    <tr>\n",
       "      <th>1570</th>\n",
       "      <td>46724</td>\n",
       "      <td>233.20</td>\n",
       "      <td>233.20</td>\n",
       "      <td>0</td>\n",
       "      <td>74</td>\n",
       "      <td>Rent for 4 days</td>\n",
       "      <td>135</td>\n",
       "      <td>Rent</td>\n",
       "      <td>Current</td>\n",
       "      <td>1749</td>\n",
       "      <td>12</td>\n",
       "      <td>5700</td>\n",
       "      <td>False</td>\n",
       "      <td>68400</td>\n",
       "      <td>Accept</td>\n",
       "      <td>32</td>\n",
       "      <td>576</td>\n",
       "      <td>Minor Level of Collection Items</td>\n",
       "      <td>0</td>\n",
       "    </tr>\n",
       "  </tbody>\n",
       "</table>\n",
       "<p>2802 rows × 19 columns</p>\n",
       "</div>"
      ],
      "text/plain": [
       "         id  total_charges  amount_paid  open  charge_code  \\\n",
       "2505  63279           6.00         6.00     0          190   \n",
       "1262  45474        1479.00      1479.00     0           74   \n",
       "2542  63383           4.00         4.00     0          190   \n",
       "730   31765           0.90         0.90     0          128   \n",
       "3048  64923           5.00         5.00     0          191   \n",
       "...     ...            ...          ...   ...          ...   \n",
       "3957  68290          16.67        16.67     0          128   \n",
       "4452  70784           3.00         0.00    -1          190   \n",
       "1063  33589         239.83       239.83     0           74   \n",
       "3145  65242           0.38         0.38     0          112   \n",
       "1570  46724         233.20       233.20     0           74   \n",
       "\n",
       "                            description  prop_id            charge_name  \\\n",
       "2505             Pest control (01/2023)       76           Pest control   \n",
       "1262                     Rent (02/2023)      127                   Rent   \n",
       "2542             Pest control (02/2023)       93           Pest control   \n",
       "730              Valet Waste for 1 days      136      Trash service fee   \n",
       "3048              Amenity fee (02/2023)      121            Amenity fee   \n",
       "...                                 ...      ...                    ...   \n",
       "3957            Valet Trash for 20 days       55      Trash service fee   \n",
       "4452             Pest control (03/2023)       68           Pest control   \n",
       "1063                    Rent for 5 days       90                   Rent   \n",
       "3145  Utility-water charges for 12 Days       55  Utility-water charges   \n",
       "1570                    Rent for 4 days      135                   Rent   \n",
       "\n",
       "      sStatus  rent  term  monthly_inc  GuarantorRequired  total_inc  \\\n",
       "2505  Current  1679     4        14083              False     241992   \n",
       "1262  Current  1479    18         4095               True      49140   \n",
       "2542  Current  1269    12         3308               True          0   \n",
       "730   Current  1689    12         1906               True          0   \n",
       "3048  Current  1409    18         6250              False      96732   \n",
       "...       ...   ...   ...          ...                ...        ...   \n",
       "3957  Current  1759    13         4750              False     224592   \n",
       "4452  Current  1319    13         3200               True      41268   \n",
       "1063  Current  1439    12         5222              False     113292   \n",
       "3145  Current  1589    12         5500              False     152760   \n",
       "1570  Current  1749    12         5700              False      68400   \n",
       "\n",
       "                              Recommendation  age  risk_score  \\\n",
       "2505                                  Accept   45         648   \n",
       "1262      Accept with Conditions (Guarantor)   34         561   \n",
       "2542      Accept with Conditions (Guarantor)   40         632   \n",
       "730       Accept with Conditions (Guarantor)   27         771   \n",
       "3048  Accept with Conditions (Extra Deposit)   33           0   \n",
       "...                                      ...  ...         ...   \n",
       "3957    Accept with Conditions (Max Deposit)   38         613   \n",
       "4452      Accept with Conditions (Guarantor)   28         548   \n",
       "1063                                  Accept   28         747   \n",
       "3145                                  Accept   53         722   \n",
       "1570                                  Accept   32         576   \n",
       "\n",
       "                                                 reason  bad_resident  \n",
       "2505                    Meets All Property Requirements             0  \n",
       "1262                        Severe level of Charge-offs             0  \n",
       "2542                Insufficient Income to Support Rent             0  \n",
       "730                 Insufficient Income to Support Rent             0  \n",
       "3048                               No Credit Experience             0  \n",
       "...                                                 ...           ...  \n",
       "3957  Severe level of Judgments/Suits OR Repossessio...             0  \n",
       "4452                Insufficient Income to Support Rent             0  \n",
       "1063                               No Credit Experience             0  \n",
       "3145               Limited period of Employment History             0  \n",
       "1570                    Minor Level of Collection Items             0  \n",
       "\n",
       "[2802 rows x 19 columns]"
      ]
     },
     "execution_count": 8,
     "metadata": {},
     "output_type": "execute_result"
    }
   ],
   "source": [
    "train"
   ]
  },
  {
   "cell_type": "code",
   "execution_count": 9,
   "id": "53f1ad13",
   "metadata": {},
   "outputs": [
    {
     "data": {
      "text/plain": [
       "count    2802.000000\n",
       "mean       32.869022\n",
       "std        11.238401\n",
       "min         3.000000\n",
       "25%        25.000000\n",
       "50%        30.000000\n",
       "75%        37.000000\n",
       "max       122.000000\n",
       "Name: age, dtype: float64"
      ]
     },
     "execution_count": 9,
     "metadata": {},
     "output_type": "execute_result"
    }
   ],
   "source": [
    "train.age.describe()"
   ]
  },
  {
   "cell_type": "code",
   "execution_count": 10,
   "id": "234f3204",
   "metadata": {},
   "outputs": [
    {
     "data": {
      "text/plain": [
       "<AxesSubplot:>"
      ]
     },
     "execution_count": 10,
     "metadata": {},
     "output_type": "execute_result"
    },
    {
     "data": {
      "image/png": "[encoded data removed]",
      "text/plain": [
       "<Figure size 640x480 with 1 Axes>"
      ]
     },
     "metadata": {},
     "output_type": "display_data"
    }
   ],
   "source": [
    "sns.boxplot(data = train.age, orient= 'h')"
   ]
  },
  {
   "cell_type": "code",
   "execution_count": 24,
   "id": "6cd78f54",
   "metadata": {},
   "outputs": [
    {
     "data": {
      "text/plain": [
       "<AxesSubplot:xlabel='age', ylabel='Count'>"
      ]
     },
     "execution_count": 24,
     "metadata": {},
     "output_type": "execute_result"
    },
    {
     "data": {
      "image/png": "[encoded data removed]",
      "text/plain": [
       "<Figure size 640x480 with 1 Axes>"
      ]
     },
     "metadata": {},
     "output_type": "display_data"
    }
   ],
   "source": [
    "bins = [0, 18, 30, 40, 50, 60, 70, 80]\n",
    "sns.histplot(data=train, x=\"age\", bins=binss, hue=\"bad_resident\", multiple=\"stack\")"
   ]
  },
  {
   "cell_type": "code",
   "execution_count": 23,
   "id": "8e298299",
   "metadata": {},
   "outputs": [
    {
     "data": {
      "text/plain": [
       "<AxesSubplot:xlabel='age', ylabel='Count'>"
      ]
     },
     "execution_count": 23,
     "metadata": {},
     "output_type": "execute_result"
    },
    {
     "data": {
      "image/png": "[encoded data removed]",
      "text/plain": [
       "<Figure size 640x480 with 1 Axes>"
      ]
     },
     "metadata": {},
     "output_type": "display_data"
    }
   ],
   "source": [
    "binss = [0, 5, 10, 15, 20, 25, 30, 35, 40 , 45, 50, 55, 60, 65, 70, 75, 80]\n",
    "sns.histplot(data=train, x=\"age\", bins=binss, hue=\"bad_resident\", multiple=\"stack\")"
   ]
  },
  {
   "cell_type": "code",
   "execution_count": 20,
   "id": "85e1e3aa",
   "metadata": {},
   "outputs": [],
   "source": [
    "age_bin = pd.cut(train.age, bins= binss)"
   ]
  },
  {
   "cell_type": "markdown",
   "id": "a4971671",
   "metadata": {},
   "source": [
    "$H_0$: Age is not dependent on damage\n",
    "\n",
    "$H_a$: Age is dependent on damage"
   ]
  },
  {
   "cell_type": "code",
   "execution_count": 21,
   "id": "c11d2ddb",
   "metadata": {},
   "outputs": [
    {
     "name": "stdout",
     "output_type": "stream",
     "text": [
      "chi² = 43.732\n",
      "p = 0.000121\n"
     ]
    }
   ],
   "source": [
    "chi2,p = e.chi_test(age_bin, train)\n",
    "    \n",
    "print(f'chi² = {chi2:.3f}')\n",
    "print(f'p = {p:.3}')    "
   ]
  },
  {
   "cell_type": "code",
   "execution_count": 22,
   "id": "0963e185",
   "metadata": {},
   "outputs": [
    {
     "name": "stdout",
     "output_type": "stream",
     "text": [
      "We reject the null hypothesis.\n"
     ]
    }
   ],
   "source": [
    "𝜶 = .05\n",
    "\n",
    "if p < 𝜶:\n",
    "    print(\"We reject the null hypothesis.\")\n",
    "else:\n",
    "    print(\"We fail to reject the null hypothesis.\")"
   ]
  },
  {
   "cell_type": "code",
   "execution_count": 17,
   "id": "a9aaecfe",
   "metadata": {},
   "outputs": [],
   "source": [
    "observed = pd.crosstab(train.bad_resident, age_bin)"
   ]
  },
  {
   "cell_type": "code",
   "execution_count": 18,
   "id": "c3c44ad5",
   "metadata": {},
   "outputs": [
    {
     "data": {
      "text/plain": [
       "(3.757322077549034, 0.7094777845653253)"
      ]
     },
     "execution_count": 18,
     "metadata": {},
     "output_type": "execute_result"
    }
   ],
   "source": [
    "chi2, p, degf, expected = stats.chi2_contingency(observed)\n",
    "chi2, p"
   ]
  },
  {
   "cell_type": "markdown",
   "id": "6603bdd3",
   "metadata": {},
   "source": [
    "### Are shorter term rentors causing more damage?"
   ]
  },
  {
   "cell_type": "code",
   "execution_count": 31,
   "id": "d29dbdb7",
   "metadata": {},
   "outputs": [
    {
     "data": {
      "text/plain": [
       "1       10\n",
       "2        5\n",
       "3       10\n",
       "4       14\n",
       "5       16\n",
       "6       70\n",
       "7       16\n",
       "8       19\n",
       "9       20\n",
       "10      27\n",
       "11      59\n",
       "12    1099\n",
       "13     557\n",
       "14     300\n",
       "15     395\n",
       "16      52\n",
       "17      22\n",
       "18     110\n",
       "28       1\n",
       "Name: term, dtype: int64"
      ]
     },
     "execution_count": 31,
     "metadata": {},
     "output_type": "execute_result"
    }
   ],
   "source": [
    "train['term'].value_counts().sort_index()"
   ]
  },
  {
   "cell_type": "code",
   "execution_count": 33,
   "id": "0c5196e5",
   "metadata": {},
   "outputs": [
    {
     "data": {
      "text/plain": [
       "<AxesSubplot:>"
      ]
     },
     "execution_count": 33,
     "metadata": {},
     "output_type": "execute_result"
    },
    {
     "data": {
      "image/png": "[encoded data removed]",
      "text/plain": [
       "<Figure size 640x480 with 1 Axes>"
      ]
     },
     "metadata": {},
     "output_type": "display_data"
    }
   ],
   "source": [
    "term_len_count = train['term'].value_counts().sort_index()\n",
    "\n",
    "sns.boxplot(data = train.term, orient= 'h')"
   ]
  },
  {
   "cell_type": "code",
   "execution_count": 34,
   "id": "bbef09fa",
   "metadata": {},
   "outputs": [
    {
     "data": {
      "text/plain": [
       "count    2802.000000\n",
       "mean       12.754104\n",
       "std         2.469925\n",
       "min         1.000000\n",
       "25%        12.000000\n",
       "50%        13.000000\n",
       "75%        14.000000\n",
       "max        28.000000\n",
       "Name: term, dtype: float64"
      ]
     },
     "execution_count": 34,
     "metadata": {},
     "output_type": "execute_result"
    }
   ],
   "source": [
    "train.term.describe()"
   ]
  },
  {
   "cell_type": "code",
   "execution_count": 51,
   "id": "cda99e33",
   "metadata": {},
   "outputs": [
    {
     "data": {
      "image/png": "[encoded data removed]",
      "text/plain": [
       "<Figure size 640x480 with 1 Axes>"
      ]
     },
     "metadata": {},
     "output_type": "display_data"
    }
   ],
   "source": [
    "sns.countplot(train.term,color = 'dodgerblue', ec = 'black' )\n",
    "plt.title(\"Number of residents by term\")\n",
    "plt.show()"
   ]
  },
  {
   "cell_type": "code",
   "execution_count": 58,
   "id": "d6815642",
   "metadata": {},
   "outputs": [
    {
     "data": {
      "text/plain": [
       "<AxesSubplot:xlabel='term', ylabel='count'>"
      ]
     },
     "execution_count": 58,
     "metadata": {},
     "output_type": "execute_result"
    },
    {
     "data": {
      "image/png": "[encoded data removed]",
      "text/plain": [
       "<Figure size 640x480 with 1 Axes>"
      ]
     },
     "metadata": {},
     "output_type": "display_data"
    }
   ],
   "source": [
    "bad_resid = train[(train.bad_resident == 1)]\n",
    "\n",
    "sns.countplot(x = 'term', data = bad_resid, color = '#fb8072', ec = 'black')"
   ]
  },
  {
   "cell_type": "markdown",
   "id": "17655d0f",
   "metadata": {},
   "source": [
    "$H_0$: Term lease is not dependent on damage\n",
    "\n",
    "$H_a$: Term lease is dependent on damage"
   ]
  },
  {
   "cell_type": "code",
   "execution_count": 60,
   "id": "b3002662",
   "metadata": {},
   "outputs": [
    {
     "name": "stdout",
     "output_type": "stream",
     "text": [
      "chi² = 47.268\n",
      "p = 0.000193\n"
     ]
    }
   ],
   "source": [
    "chi2, p = e.chi_test(train['term'], train)\n",
    "\n",
    "print(f'chi² = {chi2:.3f}')\n",
    "print(f'p = {p:.3}')    "
   ]
  },
  {
   "cell_type": "code",
   "execution_count": 61,
   "id": "72d57956",
   "metadata": {},
   "outputs": [
    {
     "name": "stdout",
     "output_type": "stream",
     "text": [
      "We reject the null hypothesis.\n"
     ]
    }
   ],
   "source": [
    "𝜶 = .05\n",
    "\n",
    "if p < 𝜶:\n",
    "    print(\"We reject the null hypothesis.\")\n",
    "else:\n",
    "    print(\"We fail to reject the null hypothesis.\")"
   ]
  },
  {
   "cell_type": "code",
   "execution_count": 76,
   "id": "e2f8012e",
   "metadata": {},
   "outputs": [],
   "source": [
    "def countplot(data, column, color):\n",
    "    \n",
    "    sns.countplot(x = column, data = data, color = color, ec = 'black')\n",
    "    plt.title(f'NUMBER OF RESIDENTS BY {column.upper()}')\n",
    "    plt.xlabel(f'{column.capitalize()}')\n",
    "    plt.ylabel('Count')\n",
    "    plt.show()"
   ]
  },
  {
   "cell_type": "code",
   "execution_count": 81,
   "id": "2caa88c5",
   "metadata": {},
   "outputs": [
    {
     "data": {
      "image/png": "[encoded data removed]",
      "text/plain": [
       "<Figure size 640x480 with 1 Axes>"
      ]
     },
     "metadata": {},
     "output_type": "display_data"
    }
   ],
   "source": [
    "countplot(train, 'term', 'dodgerblue')"
   ]
  },
  {
   "cell_type": "code",
   "execution_count": null,
   "id": "16f0949d",
   "metadata": {},
   "outputs": [],
   "source": []
  }
 ],
 "metadata": {
  "kernelspec": {
   "display_name": "Python 3 (ipykernel)",
   "language": "python",
   "name": "python3"
  },
  "language_info": {
   "codemirror_mode": {
    "name": "ipython",
    "version": 3
   },
   "file_extension": ".py",
   "mimetype": "text/x-python",
   "name": "python",
   "nbconvert_exporter": "python",
   "pygments_lexer": "ipython3",
   "version": "3.9.13"
  }
 },
 "nbformat": 4,
 "nbformat_minor": 5
}
