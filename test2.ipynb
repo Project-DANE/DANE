{
 "cells": [
  {
   "cell_type": "code",
   "execution_count": 11,
   "id": "f6233339",
   "metadata": {},
   "outputs": [],
   "source": [
    "import pandas as pd\n",
    "import numpy as np\n",
    "\n",
    "import matplotlib.pyplot as plt\n",
    "import seaborn as sns\n",
    "\n",
    "import wrangle as w\n",
    "import wrangle_test as wt\n",
    "import explore as e\n",
    "\n",
    "import scipy.stats as stats\n",
    "from sklearn.model_selection import train_test_split\n",
    "from sklearn.preprocessing import StandardScaler\n",
    "from sklearn.ensemble import RandomForestClassifier\n",
    "from sklearn.linear_model import LogisticRegression\n",
    "from sklearn.neighbors import KNeighborsClassifier\n",
    "from sklearn.metrics import classification_report\n",
    "from sklearn.metrics import confusion_matrix\n",
    "from sklearn.utils import resample\n",
    "from sklearn import metrics\n",
    "from imblearn.over_sampling import SMOTENC\n",
    "\n",
    "pd.set_option('display.max_rows', None)\n",
    "pd.set_option('display.max_columns', None)\n",
    "\n",
    "import warnings\n",
    "warnings.filterwarnings(\"ignore\")"
   ]
  },
  {
   "cell_type": "code",
   "execution_count": 12,
   "id": "9e467b0d",
   "metadata": {},
   "outputs": [],
   "source": [
    "df = w.get_cws_data()"
   ]
  },
  {
   "cell_type": "code",
   "execution_count": 13,
   "id": "2d1fc29d",
   "metadata": {},
   "outputs": [],
   "source": [
    "y_train, y_val, y_test, train_scaled, val_scaled, test_scaled,train, validate, test, df = wt.model_prep(df)"
   ]
  },
  {
   "cell_type": "code",
   "execution_count": 14,
   "id": "acf54112",
   "metadata": {},
   "outputs": [],
   "source": [
    "def upsample(train):\n",
    "    '''takes a train dataframe, upsamples minority and returns upsampled X_train and upsampled y_train'''\n",
    "    \n",
    "    \n",
    "    df_majority = train[train.bad_resident ==0]\n",
    "    df_minority = train[train.bad_resident ==1]\n",
    "    df_minority_upsampled = resample(df_minority, replace=True, n_samples=300 , random_state=91)\n",
    "    \n",
    "    # get upsampled_df\n",
    "    df_upsampled = pd.concat([df_minority_upsampled, df_majority])\n",
    "    \n",
    "    # scale df_upsampled\n",
    "    df_upsampled[['rent', 'monthly_inc', 'total_inc','age', 'risk_score']] = StandardScaler().fit_transform(df_upsampled[['rent', 'monthly_inc', 'total_inc','age', 'risk_score']])\n",
    "    \n",
    "    # split scaled df_upsampled\n",
    "    X_train_upsampled = df_upsampled.drop('bad_resident',axis=1)\n",
    "    y_train_upsampled = df_upsampled['bad_resident']\n",
    "    \n",
    "    return X_train_upsampled, y_train_upsampled"
   ]
  },
  {
   "cell_type": "code",
   "execution_count": 15,
   "id": "943e036c",
   "metadata": {},
   "outputs": [],
   "source": [
    "def get_knn(train, X_validate, y_validate):\n",
    "    ''' takes a train dataframe, X_ validate, y_validate, print KNN  confusion matrix and classifaction report on train and validate data'''\n",
    "    \n",
    "    # get upsampled X_train and Y_train\n",
    "    X_train_upsampled, y_train_upsampled = upsample(train)\n",
    "    \n",
    "    # create model\n",
    "    knn= KNeighborsClassifier(n_neighbors =3)\n",
    "\n",
    "    # fit the model to train data\n",
    "    knn.fit(X_train_upsampled, y_train_upsampled)\n",
    "    \n",
    "    # make prediction on train obeservations\n",
    "    y_pred = knn.predict(X_train_upsampled)\n",
    "    \n",
    "    # make prediction on validate obeservations\n",
    "    y_pred_val = knn.predict(X_validate)\n",
    "    \n",
    "    # get confusion matrix\n",
    "    confusion_matrix_train = metrics.confusion_matrix(y_train_upsampled, y_pred)\n",
    "    confusion_matrix_val = metrics.confusion_matrix(y_validate, y_pred_val)\n",
    "    \n",
    "    # print confusion matrix and classification report\n",
    "#     print('Confusion Matrix of upsampled Train:')\n",
    "#     print(confusion_matrix_train)\n",
    "#     print('\\n Classification Report on Train:')\n",
    "#     print(classification_report(y_train_upsampled, y_pred))\n",
    "#     print('-----------------------------------------------------------')\n",
    "#     print('Confusion Matrix of Validate:')\n",
    "#     print( confusion_matrix_val)\n",
    "#     print('\\n Classification Report on Validate: ')\n",
    "#     print(classification_report(y_validate, y_pred_val))\n",
    "#     print()\n",
    "    \n",
    "    df1 = pd.DataFrame(classification_report(y_train_upsampled, y_pred, labels=['0','1'], output_dict=True)).T\n",
    "    df2 = pd.DataFrame(classification_report(y_validate, y_pred_val, labels=['0','1'], output_dict=True)).T\n",
    "    \n",
    "#     print(df1.iloc[0:2,0:2])\n",
    "#     print()\n",
    "#     print(df2.iloc[0:2,0:2])\n",
    "\n",
    "    train_df = df1.iloc[0:2,1:2]\n",
    "    validate_df = df2.iloc[0:2,1:2]\n",
    "    \n",
    "#     train_df.rename(columns = {'precision':'precision_train_KNN', 'recall': 'recall_train_KNN'}, inplace=True)\n",
    "#     validate_df.rename(columns = {'precision':'precision_validate_KNN', 'recall': 'recall_validate_KNN'}, inplace=True)\n",
    "\n",
    "    train_df.rename(columns = {'recall': 'recall_train_KNN'}, inplace=True)\n",
    "    validate_df.rename(columns = {'recall': 'recall_validate_KNN'}, inplace=True)\n",
    "\n",
    "    concated_df = pd.concat([train_df,validate_df],axis=1) \n",
    "    \n",
    "    return concated_df"
   ]
  },
  {
   "cell_type": "code",
   "execution_count": 16,
   "id": "7741c14b",
   "metadata": {},
   "outputs": [
    {
     "data": {
      "text/html": [
       "<div>\n",
       "<style scoped>\n",
       "    .dataframe tbody tr th:only-of-type {\n",
       "        vertical-align: middle;\n",
       "    }\n",
       "\n",
       "    .dataframe tbody tr th {\n",
       "        vertical-align: top;\n",
       "    }\n",
       "\n",
       "    .dataframe thead th {\n",
       "        text-align: right;\n",
       "    }\n",
       "</style>\n",
       "<table border=\"1\" class=\"dataframe\">\n",
       "  <thead>\n",
       "    <tr style=\"text-align: right;\">\n",
       "      <th></th>\n",
       "      <th>recall_train_KNN</th>\n",
       "      <th>recall_validate_KNN</th>\n",
       "    </tr>\n",
       "  </thead>\n",
       "  <tbody>\n",
       "    <tr>\n",
       "      <th>0</th>\n",
       "      <td>0.97474</td>\n",
       "      <td>0.953206</td>\n",
       "    </tr>\n",
       "    <tr>\n",
       "      <th>1</th>\n",
       "      <td>0.94000</td>\n",
       "      <td>0.130435</td>\n",
       "    </tr>\n",
       "  </tbody>\n",
       "</table>\n",
       "</div>"
      ],
      "text/plain": [
       "   recall_train_KNN  recall_validate_KNN\n",
       "0           0.97474             0.953206\n",
       "1           0.94000             0.130435"
      ]
     },
     "execution_count": 16,
     "metadata": {},
     "output_type": "execute_result"
    }
   ],
   "source": [
    "kk = get_knn(train, val_scaled, y_val)\n",
    "kk"
   ]
  },
  {
   "cell_type": "code",
   "execution_count": null,
   "id": "3e8d1ac0",
   "metadata": {},
   "outputs": [],
   "source": []
  },
  {
   "cell_type": "code",
   "execution_count": null,
   "id": "82aee511",
   "metadata": {},
   "outputs": [],
   "source": []
  }
 ],
 "metadata": {
  "kernelspec": {
   "display_name": "Python 3 (ipykernel)",
   "language": "python",
   "name": "python3"
  },
  "language_info": {
   "codemirror_mode": {
    "name": "ipython",
    "version": 3
   },
   "file_extension": ".py",
   "mimetype": "text/x-python",
   "name": "python",
   "nbconvert_exporter": "python",
   "pygments_lexer": "ipython3",
   "version": "3.9.13"
  }
 },
 "nbformat": 4,
 "nbformat_minor": 5
}
