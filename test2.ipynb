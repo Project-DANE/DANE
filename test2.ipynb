{
 "cells": [
  {
   "cell_type": "code",
   "execution_count": 1,
   "id": "aec6a7a9",
   "metadata": {},
   "outputs": [],
   "source": [
    "import pandas as pd\n",
    "import numpy as np\n",
    "\n",
    "import matplotlib.pyplot as plt\n",
    "import seaborn as sns\n",
    "\n",
    "import wrangle as w\n",
    "\n",
    "import scipy.stats as stats\n",
    "from sklearn.model_selection import train_test_split\n",
    "from sklearn.preprocessing import StandardScaler\n",
    "from sklearn.ensemble import RandomForestClassifier\n",
    "from sklearn.linear_model import LogisticRegression\n",
    "from sklearn.neighbors import KNeighborsClassifier\n",
    "from sklearn.metrics import classification_report\n",
    "from sklearn.metrics import confusion_matrix\n",
    "from sklearn.utils import resample\n",
    "from sklearn import metrics\n",
    "from imblearn.over_sampling import SMOTENC\n",
    "\n",
    "pd.set_option('display.max_rows', None)\n",
    "pd.set_option('display.max_columns', None)\n",
    "\n",
    "import warnings\n",
    "warnings.filterwarnings(\"ignore\")"
   ]
  },
  {
   "cell_type": "code",
   "execution_count": 2,
   "id": "227c6e53",
   "metadata": {},
   "outputs": [],
   "source": [
    "df = w.get_cws_data()"
   ]
  },
  {
   "cell_type": "code",
   "execution_count": 4,
   "id": "f58db2f3",
   "metadata": {},
   "outputs": [],
   "source": [
    "train, validate, test, y_train, y_val, y_test, train_scaled, val_scaled, test_scaled = w.model_prep(df)"
   ]
  },
  {
   "cell_type": "code",
   "execution_count": 5,
   "id": "7baa304e",
   "metadata": {},
   "outputs": [
    {
     "data": {
      "text/plain": [
       "0    2692\n",
       "1     107\n",
       "Name: bad_resident, dtype: int64"
      ]
     },
     "execution_count": 5,
     "metadata": {},
     "output_type": "execute_result"
    }
   ],
   "source": [
    "train.bad_resident.value_counts()"
   ]
  },
  {
   "cell_type": "code",
   "execution_count": 10,
   "id": "fd56dfc8",
   "metadata": {},
   "outputs": [],
   "source": [
    "def upsample(train):\n",
    "    '''takes a train dataframe, upsamples minority and returns upsampled X_train and upsampled y_train'''\n",
    "    \n",
    "    \n",
    "    df_majority = train[train.bad_resident ==0]\n",
    "    df_minority = train[train.bad_resident ==1]\n",
    "    df_minority_upsampled = resample(df_minority, replace=True, n_samples=300 , random_state=91)\n",
    "    \n",
    "    # get upsampled_df\n",
    "    df_upsampled = pd.concat([df_minority_upsampled, df_majority])\n",
    "    \n",
    "    # scale df_upsampled\n",
    "    df_upsampled[['rent', 'monthly_income', 'total_income','age', 'risk_score']] = StandardScaler().fit_transform(df_upsampled[['rent', 'monthly_income', 'total_income','age', 'risk_score']])\n",
    "    \n",
    "    # split scaled df_upsampled\n",
    "    X_train_upsampled = df_upsampled.drop('bad_resident',axis=1)\n",
    "    y_train_upsampled = df_upsampled['bad_resident']\n",
    "    \n",
    "    return X_train_upsampled, y_train_upsampled"
   ]
  },
  {
   "cell_type": "code",
   "execution_count": 11,
   "id": "84cdf422",
   "metadata": {},
   "outputs": [],
   "source": [
    "def get_knn(train, X_validate, y_validate):\n",
    "    ''' takes a train dataframe, X_ validate, y_validate, print KNN  confusion matrix and classifaction report on train and validate data'''\n",
    "    \n",
    "    # get upsampled X_train and Y_train\n",
    "    X_train_upsampled, y_train_upsampled = upsample(train)\n",
    "    \n",
    "    # create model\n",
    "    knn= KNeighborsClassifier(n_neighbors =3)\n",
    "\n",
    "    # fit the model to train data\n",
    "    knn.fit(X_train_upsampled, y_train_upsampled)\n",
    "    \n",
    "    # make prediction on train obeservations\n",
    "    y_pred = knn.predict(X_train_upsampled)\n",
    "    \n",
    "    # make prediction on validate obeservations\n",
    "    y_pred_val = knn.predict(X_validate)\n",
    "    \n",
    "    # get confusion matrix\n",
    "    confusion_matrix_train = metrics.confusion_matrix(y_train_upsampled, y_pred)\n",
    "    confusion_matrix_val = metrics.confusion_matrix(y_validate, y_pred_val)\n",
    "    \n",
    "    # print confusion matrix and classification report\n",
    "#     print('Confusion Matrix of upsampled Train:')\n",
    "#     print(confusion_matrix_train)\n",
    "#     print('\\n Classification Report on Train:')\n",
    "#     print(classification_report(y_train_upsampled, y_pred))\n",
    "#     print('-----------------------------------------------------------')\n",
    "#     print('Confusion Matrix of Validate:')\n",
    "#     print( confusion_matrix_val)\n",
    "#     print('\\n Classification Report on Validate: ')\n",
    "#     print(classification_report(y_validate, y_pred_val))\n",
    "#     print()\n",
    "    \n",
    "    df1 = pd.DataFrame(classification_report(y_train_upsampled, y_pred, labels=['0','1'], output_dict=True)).T\n",
    "    df2 = pd.DataFrame(classification_report(y_validate, y_pred_val, labels=['0','1'], output_dict=True)).T\n",
    "    \n",
    "#     print(df1.iloc[0:2,0:2])\n",
    "#     print()\n",
    "#     print(df2.iloc[0:2,0:2])\n",
    "\n",
    "    train_df = df1.iloc[0:2,1:2]\n",
    "    validate_df = df2.iloc[0:2,1:2]\n",
    "    \n",
    "#     train_df.rename(columns = {'precision':'precision_train_KNN', 'recall': 'recall_train_KNN'}, inplace=True)\n",
    "#     validate_df.rename(columns = {'precision':'precision_validate_KNN', 'recall': 'recall_validate_KNN'}, inplace=True)\n",
    "\n",
    "    train_df.rename(columns = {'recall': 'recall_train'}, inplace=True)\n",
    "    validate_df.rename(columns = {'recall': 'recall_validate'}, inplace=True)\n",
    "\n",
    "    concated_df = pd.concat([train_df,validate_df],axis=1) \n",
    "    recall_KNN_df = concated_df.iloc[1:2,0:2]\n",
    "    \n",
    "    return recall_KNN_df"
   ]
  },
  {
   "cell_type": "code",
   "execution_count": 12,
   "id": "1d283962",
   "metadata": {},
   "outputs": [
    {
     "data": {
      "text/html": [
       "<div>\n",
       "<style scoped>\n",
       "    .dataframe tbody tr th:only-of-type {\n",
       "        vertical-align: middle;\n",
       "    }\n",
       "\n",
       "    .dataframe tbody tr th {\n",
       "        vertical-align: top;\n",
       "    }\n",
       "\n",
       "    .dataframe thead th {\n",
       "        text-align: right;\n",
       "    }\n",
       "</style>\n",
       "<table border=\"1\" class=\"dataframe\">\n",
       "  <thead>\n",
       "    <tr style=\"text-align: right;\">\n",
       "      <th></th>\n",
       "      <th>recall_train</th>\n",
       "      <th>recall_validate</th>\n",
       "    </tr>\n",
       "  </thead>\n",
       "  <tbody>\n",
       "    <tr>\n",
       "      <th>1</th>\n",
       "      <td>0.94</td>\n",
       "      <td>0.130435</td>\n",
       "    </tr>\n",
       "  </tbody>\n",
       "</table>\n",
       "</div>"
      ],
      "text/plain": [
       "   recall_train  recall_validate\n",
       "1          0.94         0.130435"
      ]
     },
     "execution_count": 12,
     "metadata": {},
     "output_type": "execute_result"
    }
   ],
   "source": [
    "kk = get_knn(train, val_scaled, y_val)\n",
    "kk"
   ]
  },
  {
   "cell_type": "code",
   "execution_count": 13,
   "id": "70a06a90",
   "metadata": {},
   "outputs": [
    {
     "data": {
      "text/html": [
       "<div>\n",
       "<style scoped>\n",
       "    .dataframe tbody tr th:only-of-type {\n",
       "        vertical-align: middle;\n",
       "    }\n",
       "\n",
       "    .dataframe tbody tr th {\n",
       "        vertical-align: top;\n",
       "    }\n",
       "\n",
       "    .dataframe thead th {\n",
       "        text-align: right;\n",
       "    }\n",
       "</style>\n",
       "<table border=\"1\" class=\"dataframe\">\n",
       "  <thead>\n",
       "    <tr style=\"text-align: right;\">\n",
       "      <th></th>\n",
       "      <th>recall_train</th>\n",
       "      <th>recall_validate</th>\n",
       "    </tr>\n",
       "  </thead>\n",
       "  <tbody>\n",
       "    <tr>\n",
       "      <th>1</th>\n",
       "      <td>0.94</td>\n",
       "      <td>0.130435</td>\n",
       "    </tr>\n",
       "  </tbody>\n",
       "</table>\n",
       "</div>"
      ],
      "text/plain": [
       "   recall_train  recall_validate\n",
       "1          0.94         0.130435"
      ]
     },
     "execution_count": 13,
     "metadata": {},
     "output_type": "execute_result"
    }
   ],
   "source": [
    "kkk = get_knn(train, val_scaled, y_val)\n",
    "kkk"
   ]
  },
  {
   "cell_type": "code",
   "execution_count": 14,
   "id": "a5658ad0",
   "metadata": {},
   "outputs": [
    {
     "data": {
      "text/html": [
       "<div>\n",
       "<style scoped>\n",
       "    .dataframe tbody tr th:only-of-type {\n",
       "        vertical-align: middle;\n",
       "    }\n",
       "\n",
       "    .dataframe tbody tr th {\n",
       "        vertical-align: top;\n",
       "    }\n",
       "\n",
       "    .dataframe thead th {\n",
       "        text-align: right;\n",
       "    }\n",
       "</style>\n",
       "<table border=\"1\" class=\"dataframe\">\n",
       "  <thead>\n",
       "    <tr style=\"text-align: right;\">\n",
       "      <th></th>\n",
       "      <th>recall_train</th>\n",
       "      <th>recall_validate</th>\n",
       "    </tr>\n",
       "  </thead>\n",
       "  <tbody>\n",
       "    <tr>\n",
       "      <th>1</th>\n",
       "      <td>0.94</td>\n",
       "      <td>0.130435</td>\n",
       "    </tr>\n",
       "    <tr>\n",
       "      <th>1</th>\n",
       "      <td>0.94</td>\n",
       "      <td>0.130435</td>\n",
       "    </tr>\n",
       "  </tbody>\n",
       "</table>\n",
       "</div>"
      ],
      "text/plain": [
       "   recall_train  recall_validate\n",
       "1          0.94         0.130435\n",
       "1          0.94         0.130435"
      ]
     },
     "execution_count": 14,
     "metadata": {},
     "output_type": "execute_result"
    }
   ],
   "source": [
    "merged = pd.concat([kk,kkk])\n",
    "merged"
   ]
  },
  {
   "cell_type": "code",
   "execution_count": 15,
   "id": "78996e1b",
   "metadata": {},
   "outputs": [],
   "source": [
    "merged.index = ['apple', 'ball']"
   ]
  },
  {
   "cell_type": "code",
   "execution_count": null,
   "id": "51214ac3",
   "metadata": {},
   "outputs": [],
   "source": [
    "merged"
   ]
  },
  {
   "cell_type": "code",
   "execution_count": 16,
   "id": "d8798bbc",
   "metadata": {},
   "outputs": [],
   "source": [
    "def get_models_recall(train, val_scaled, y_val):\n",
    "    '''takes train, x_train, y_train, x_validate, y_validate\n",
    "    return dataframe with models and their recall score on train and validate data\n",
    "    '''\n",
    "    knn_df1 = get_knn(train, val_scaled, y_val)\n",
    "    knn_df2 = get_knn(train, val_scaled, y_val)\n",
    "    \n",
    "    \n",
    "    \n",
    "    # concat dataframe\n",
    "    concated_df = pd.concat([knn_df1,knn_df2])\n",
    "    # assign index\n",
    "    \n",
    "    return concated_df"
   ]
  },
  {
   "cell_type": "code",
   "execution_count": 17,
   "id": "db7ec95c",
   "metadata": {},
   "outputs": [
    {
     "data": {
      "text/html": [
       "<div>\n",
       "<style scoped>\n",
       "    .dataframe tbody tr th:only-of-type {\n",
       "        vertical-align: middle;\n",
       "    }\n",
       "\n",
       "    .dataframe tbody tr th {\n",
       "        vertical-align: top;\n",
       "    }\n",
       "\n",
       "    .dataframe thead th {\n",
       "        text-align: right;\n",
       "    }\n",
       "</style>\n",
       "<table border=\"1\" class=\"dataframe\">\n",
       "  <thead>\n",
       "    <tr style=\"text-align: right;\">\n",
       "      <th></th>\n",
       "      <th>recall_train</th>\n",
       "      <th>recall_validate</th>\n",
       "    </tr>\n",
       "  </thead>\n",
       "  <tbody>\n",
       "    <tr>\n",
       "      <th>1</th>\n",
       "      <td>0.94</td>\n",
       "      <td>0.130435</td>\n",
       "    </tr>\n",
       "    <tr>\n",
       "      <th>1</th>\n",
       "      <td>0.94</td>\n",
       "      <td>0.130435</td>\n",
       "    </tr>\n",
       "  </tbody>\n",
       "</table>\n",
       "</div>"
      ],
      "text/plain": [
       "   recall_train  recall_validate\n",
       "1          0.94         0.130435\n",
       "1          0.94         0.130435"
      ]
     },
     "execution_count": 17,
     "metadata": {},
     "output_type": "execute_result"
    }
   ],
   "source": [
    "concated_df = get_models_recall(train, val_scaled, y_val)\n",
    "concated_df "
   ]
  },
  {
   "cell_type": "code",
   "execution_count": 18,
   "id": "d668ec9b",
   "metadata": {},
   "outputs": [],
   "source": [
    "def viz_models_accuracy(df):\n",
    "   \n",
    "    '''takes in a dataframe and plot a graph to show comparisons models accuracy score on train and valiadate data'''\n",
    "    \n",
    "    df_1 = df.copy()\n",
    "    df_1.recall_train = df_1.recall_train * 100\n",
    "    df_1.recall_validate = df_1.recall_validate * 100\n",
    "    \n",
    "    ax = df_1.plot.bar(rot=90)\n",
    "    ax.legend(loc='upper left', bbox_to_anchor=(1, 1))\n",
    "    ax.spines[['right', 'top']].set_visible(False)\n",
    "    ax.grid(False)\n",
    "    plt.title(\"Comparisons of Recall of Models\")\n",
    "    plt.ylabel('Recall score')\n",
    "    plt.bar_label(ax.containers[0],fmt='%.0f%%')\n",
    "    plt.bar_label(ax.containers[1],fmt='%.0f%%')\n",
    "    \n",
    "    plt.show()"
   ]
  },
  {
   "cell_type": "code",
   "execution_count": 19,
   "id": "31329c0d",
   "metadata": {},
   "outputs": [
    {
     "data": {
      "image/png": "[encoded data removed]",
      "text/plain": [
       "<Figure size 640x480 with 1 Axes>"
      ]
     },
     "metadata": {},
     "output_type": "display_data"
    }
   ],
   "source": [
    "viz_models_accuracy(merged)"
   ]
  },
  {
   "cell_type": "code",
   "execution_count": 24,
   "id": "5d2adf5c",
   "metadata": {},
   "outputs": [],
   "source": [
    "def viz_models_accuracy(df):\n",
    "   \n",
    "    '''takes in a dataframe and plot a graph to show comparisons models accuracy score on train and valiadate data'''\n",
    "    \n",
    "    df_1 = df.copy()\n",
    "    df_1.recall_train = df_1.recall_train * 100\n",
    "    df_1.recall_validate = df_1.recall_validate * 100\n",
    "    \n",
    "    ax = df_1.plot.bar(rot=90)\n",
    "    ax.legend(loc='upper left', bbox_to_anchor=(1, 1))\n",
    "    ax.spines[['right', 'top']].set_visible(False)\n",
    "    plt.title(\"Comparisons of Recall of Models\")\n",
    "    plt.ylabel('Recall score')\n",
    "    plt.bar_label(ax.containers[0],fmt='%.0f%%')\n",
    "    plt.bar_label(ax.containers[1],fmt='%.0f%%')\n",
    "    ax.grid(False)\n",
    "    plt.show()\n",
    "\n",
    "\n"
   ]
  },
  {
   "cell_type": "code",
   "execution_count": 25,
   "id": "094552c4",
   "metadata": {},
   "outputs": [
    {
     "data": {
      "image/png": "[encoded data removed]",
      "text/plain": [
       "<Figure size 640x480 with 1 Axes>"
      ]
     },
     "metadata": {},
     "output_type": "display_data"
    }
   ],
   "source": [
    "viz_models_accuracy(merged)"
   ]
  },
  {
   "cell_type": "code",
   "execution_count": null,
   "id": "3e4d49ef",
   "metadata": {},
   "outputs": [],
   "source": []
  }
 ],
 "metadata": {
  "kernelspec": {
   "display_name": "Python 3 (ipykernel)",
   "language": "python",
   "name": "python3"
  },
  "language_info": {
   "codemirror_mode": {
    "name": "ipython",
    "version": 3
   },
   "file_extension": ".py",
   "mimetype": "text/x-python",
   "name": "python",
   "nbconvert_exporter": "python",
   "pygments_lexer": "ipython3",
   "version": "3.9.13"
  }
 },
 "nbformat": 4,
 "nbformat_minor": 5
}
