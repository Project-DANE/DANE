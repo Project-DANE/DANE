{
 "cells": [
  {
   "cell_type": "code",
   "execution_count": 59,
   "id": "741531f9-0420-4290-a661-d34f3bd5cb30",
   "metadata": {},
   "outputs": [],
   "source": [
    "import wrangle as w\n",
    "import pandas as pd\n",
    "import numpy as np\n",
    "from sklearn.preprocessing import StandardScaler\n",
    "from matplotlib import pyplot as plt\n",
    "import seaborn as sns\n",
    "from scipy import stats\n",
    "from sklearn.tree import DecisionTreeClassifier, plot_tree\n",
    "from sklearn.metrics import classification_report\n",
    "from sklearn.metrics import confusion_matrix\n",
    "from sklearn.utils import resample\n",
    "from sklearn.ensemble import RandomForestClassifier\n",
    "from sklearn.model_selection import GridSearchCV\n",
    "from sklearn.metrics import recall_score\n",
    "import xgboost as xgb"
   ]
  },
  {
   "cell_type": "code",
   "execution_count": 2,
   "id": "f6a3be46-65cb-49a9-8b49-bc0dd938b51a",
   "metadata": {},
   "outputs": [],
   "source": [
    "df = w.get_cws_data()"
   ]
  },
  {
   "cell_type": "code",
   "execution_count": 3,
   "id": "ab25e75c-6f54-4296-a852-38f69014c6e2",
   "metadata": {},
   "outputs": [
    {
     "data": {
      "text/plain": [
       "0    4808\n",
       "1     191\n",
       "Name: bad_resident, dtype: int64"
      ]
     },
     "execution_count": 3,
     "metadata": {},
     "output_type": "execute_result"
    }
   ],
   "source": [
    "df.bad_resident.value_counts()"
   ]
  },
  {
   "cell_type": "code",
   "execution_count": 4,
   "id": "b0bb42c0-3757-49a1-9dfc-c189ac8037e1",
   "metadata": {},
   "outputs": [],
   "source": [
    "train, y_train, y_val, y_test, train_scaled, val_scaled, test_scaled = w.model_prep(df)"
   ]
  },
  {
   "cell_type": "code",
   "execution_count": 5,
   "id": "537754be-38f8-4a36-9cee-0edf4979e0d9",
   "metadata": {},
   "outputs": [
    {
     "data": {
      "text/html": [
       "<div>\n",
       "<style scoped>\n",
       "    .dataframe tbody tr th:only-of-type {\n",
       "        vertical-align: middle;\n",
       "    }\n",
       "\n",
       "    .dataframe tbody tr th {\n",
       "        vertical-align: top;\n",
       "    }\n",
       "\n",
       "    .dataframe thead th {\n",
       "        text-align: right;\n",
       "    }\n",
       "</style>\n",
       "<table border=\"1\" class=\"dataframe\">\n",
       "  <thead>\n",
       "    <tr style=\"text-align: right;\">\n",
       "      <th></th>\n",
       "      <th>rent</th>\n",
       "      <th>term</th>\n",
       "      <th>monthly_inc</th>\n",
       "      <th>total_inc</th>\n",
       "      <th>age</th>\n",
       "      <th>risk_score</th>\n",
       "      <th>prop_id_Arizona</th>\n",
       "      <th>prop_id_California</th>\n",
       "      <th>prop_id_Colorado</th>\n",
       "      <th>prop_id_Georgia</th>\n",
       "      <th>...</th>\n",
       "      <th>Recommendation_A-Criminal History Meets Requirements</th>\n",
       "      <th>Recommendation_A-Meets Requirements</th>\n",
       "      <th>Recommendation_Accept</th>\n",
       "      <th>Recommendation_Accept with Conditions (Extra Deposit)</th>\n",
       "      <th>Recommendation_Accept with Conditions (Guarantor)</th>\n",
       "      <th>Recommendation_Accept with Conditions (Max Deposit)</th>\n",
       "      <th>Recommendation_Accept with Extra Security Deposit</th>\n",
       "      <th>Recommendation_Guarantor Not Qualified</th>\n",
       "      <th>Recommendation_Qualified Guarantor</th>\n",
       "      <th>Recommendation_REJECT</th>\n",
       "    </tr>\n",
       "  </thead>\n",
       "  <tbody>\n",
       "    <tr>\n",
       "      <th>2707</th>\n",
       "      <td>-0.090190</td>\n",
       "      <td>12</td>\n",
       "      <td>-0.334993</td>\n",
       "      <td>-0.378361</td>\n",
       "      <td>-0.513961</td>\n",
       "      <td>-2.308439</td>\n",
       "      <td>0</td>\n",
       "      <td>0</td>\n",
       "      <td>1</td>\n",
       "      <td>0</td>\n",
       "      <td>...</td>\n",
       "      <td>1</td>\n",
       "      <td>0</td>\n",
       "      <td>0</td>\n",
       "      <td>0</td>\n",
       "      <td>0</td>\n",
       "      <td>0</td>\n",
       "      <td>0</td>\n",
       "      <td>0</td>\n",
       "      <td>0</td>\n",
       "      <td>0</td>\n",
       "    </tr>\n",
       "    <tr>\n",
       "      <th>4983</th>\n",
       "      <td>0.122051</td>\n",
       "      <td>12</td>\n",
       "      <td>0.057028</td>\n",
       "      <td>-0.221645</td>\n",
       "      <td>-0.155214</td>\n",
       "      <td>0.593710</td>\n",
       "      <td>0</td>\n",
       "      <td>0</td>\n",
       "      <td>0</td>\n",
       "      <td>0</td>\n",
       "      <td>...</td>\n",
       "      <td>0</td>\n",
       "      <td>0</td>\n",
       "      <td>0</td>\n",
       "      <td>1</td>\n",
       "      <td>0</td>\n",
       "      <td>0</td>\n",
       "      <td>0</td>\n",
       "      <td>0</td>\n",
       "      <td>0</td>\n",
       "      <td>0</td>\n",
       "    </tr>\n",
       "    <tr>\n",
       "      <th>4959</th>\n",
       "      <td>-0.031824</td>\n",
       "      <td>9</td>\n",
       "      <td>0.285852</td>\n",
       "      <td>0.568771</td>\n",
       "      <td>0.382907</td>\n",
       "      <td>0.367771</td>\n",
       "      <td>0</td>\n",
       "      <td>0</td>\n",
       "      <td>0</td>\n",
       "      <td>0</td>\n",
       "      <td>...</td>\n",
       "      <td>0</td>\n",
       "      <td>0</td>\n",
       "      <td>0</td>\n",
       "      <td>1</td>\n",
       "      <td>0</td>\n",
       "      <td>0</td>\n",
       "      <td>0</td>\n",
       "      <td>0</td>\n",
       "      <td>0</td>\n",
       "      <td>0</td>\n",
       "    </tr>\n",
       "    <tr>\n",
       "      <th>4492</th>\n",
       "      <td>-0.249372</td>\n",
       "      <td>14</td>\n",
       "      <td>-0.175281</td>\n",
       "      <td>-0.078992</td>\n",
       "      <td>-0.334587</td>\n",
       "      <td>0.737843</td>\n",
       "      <td>0</td>\n",
       "      <td>0</td>\n",
       "      <td>0</td>\n",
       "      <td>0</td>\n",
       "      <td>...</td>\n",
       "      <td>0</td>\n",
       "      <td>0</td>\n",
       "      <td>1</td>\n",
       "      <td>0</td>\n",
       "      <td>0</td>\n",
       "      <td>0</td>\n",
       "      <td>0</td>\n",
       "      <td>0</td>\n",
       "      <td>0</td>\n",
       "      <td>0</td>\n",
       "    </tr>\n",
       "    <tr>\n",
       "      <th>995</th>\n",
       "      <td>0.281233</td>\n",
       "      <td>13</td>\n",
       "      <td>0.187701</td>\n",
       "      <td>-0.143971</td>\n",
       "      <td>-0.155214</td>\n",
       "      <td>0.511904</td>\n",
       "      <td>0</td>\n",
       "      <td>0</td>\n",
       "      <td>0</td>\n",
       "      <td>1</td>\n",
       "      <td>...</td>\n",
       "      <td>0</td>\n",
       "      <td>0</td>\n",
       "      <td>1</td>\n",
       "      <td>0</td>\n",
       "      <td>0</td>\n",
       "      <td>0</td>\n",
       "      <td>0</td>\n",
       "      <td>0</td>\n",
       "      <td>0</td>\n",
       "      <td>0</td>\n",
       "    </tr>\n",
       "    <tr>\n",
       "      <th>...</th>\n",
       "      <td>...</td>\n",
       "      <td>...</td>\n",
       "      <td>...</td>\n",
       "      <td>...</td>\n",
       "      <td>...</td>\n",
       "      <td>...</td>\n",
       "      <td>...</td>\n",
       "      <td>...</td>\n",
       "      <td>...</td>\n",
       "      <td>...</td>\n",
       "      <td>...</td>\n",
       "      <td>...</td>\n",
       "      <td>...</td>\n",
       "      <td>...</td>\n",
       "      <td>...</td>\n",
       "      <td>...</td>\n",
       "      <td>...</td>\n",
       "      <td>...</td>\n",
       "      <td>...</td>\n",
       "      <td>...</td>\n",
       "      <td>...</td>\n",
       "    </tr>\n",
       "    <tr>\n",
       "      <th>987</th>\n",
       "      <td>0.307763</td>\n",
       "      <td>5</td>\n",
       "      <td>-0.088165</td>\n",
       "      <td>-0.267677</td>\n",
       "      <td>0.024160</td>\n",
       "      <td>-0.111376</td>\n",
       "      <td>0</td>\n",
       "      <td>0</td>\n",
       "      <td>0</td>\n",
       "      <td>0</td>\n",
       "      <td>...</td>\n",
       "      <td>0</td>\n",
       "      <td>0</td>\n",
       "      <td>0</td>\n",
       "      <td>0</td>\n",
       "      <td>0</td>\n",
       "      <td>0</td>\n",
       "      <td>0</td>\n",
       "      <td>0</td>\n",
       "      <td>0</td>\n",
       "      <td>1</td>\n",
       "    </tr>\n",
       "    <tr>\n",
       "      <th>2512</th>\n",
       "      <td>1.262851</td>\n",
       "      <td>12</td>\n",
       "      <td>0.018406</td>\n",
       "      <td>-0.599730</td>\n",
       "      <td>0.203534</td>\n",
       "      <td>0.574232</td>\n",
       "      <td>0</td>\n",
       "      <td>0</td>\n",
       "      <td>0</td>\n",
       "      <td>0</td>\n",
       "      <td>...</td>\n",
       "      <td>0</td>\n",
       "      <td>0</td>\n",
       "      <td>1</td>\n",
       "      <td>0</td>\n",
       "      <td>0</td>\n",
       "      <td>0</td>\n",
       "      <td>0</td>\n",
       "      <td>0</td>\n",
       "      <td>0</td>\n",
       "      <td>0</td>\n",
       "    </tr>\n",
       "    <tr>\n",
       "      <th>443</th>\n",
       "      <td>0.466944</td>\n",
       "      <td>14</td>\n",
       "      <td>-0.146243</td>\n",
       "      <td>-0.157578</td>\n",
       "      <td>-0.872708</td>\n",
       "      <td>0.021071</td>\n",
       "      <td>0</td>\n",
       "      <td>0</td>\n",
       "      <td>0</td>\n",
       "      <td>1</td>\n",
       "      <td>...</td>\n",
       "      <td>0</td>\n",
       "      <td>0</td>\n",
       "      <td>0</td>\n",
       "      <td>0</td>\n",
       "      <td>0</td>\n",
       "      <td>1</td>\n",
       "      <td>0</td>\n",
       "      <td>0</td>\n",
       "      <td>0</td>\n",
       "      <td>0</td>\n",
       "    </tr>\n",
       "    <tr>\n",
       "      <th>4028</th>\n",
       "      <td>-0.488144</td>\n",
       "      <td>13</td>\n",
       "      <td>-0.010640</td>\n",
       "      <td>-0.006752</td>\n",
       "      <td>-0.962395</td>\n",
       "      <td>0.562546</td>\n",
       "      <td>0</td>\n",
       "      <td>0</td>\n",
       "      <td>0</td>\n",
       "      <td>0</td>\n",
       "      <td>...</td>\n",
       "      <td>0</td>\n",
       "      <td>0</td>\n",
       "      <td>0</td>\n",
       "      <td>0</td>\n",
       "      <td>1</td>\n",
       "      <td>0</td>\n",
       "      <td>0</td>\n",
       "      <td>0</td>\n",
       "      <td>0</td>\n",
       "      <td>0</td>\n",
       "    </tr>\n",
       "    <tr>\n",
       "      <th>4980</th>\n",
       "      <td>-0.673856</td>\n",
       "      <td>15</td>\n",
       "      <td>-0.610860</td>\n",
       "      <td>0.149017</td>\n",
       "      <td>-1.141769</td>\n",
       "      <td>0.215846</td>\n",
       "      <td>0</td>\n",
       "      <td>0</td>\n",
       "      <td>0</td>\n",
       "      <td>0</td>\n",
       "      <td>...</td>\n",
       "      <td>0</td>\n",
       "      <td>0</td>\n",
       "      <td>1</td>\n",
       "      <td>0</td>\n",
       "      <td>0</td>\n",
       "      <td>0</td>\n",
       "      <td>0</td>\n",
       "      <td>0</td>\n",
       "      <td>0</td>\n",
       "      <td>0</td>\n",
       "    </tr>\n",
       "  </tbody>\n",
       "</table>\n",
       "<p>2799 rows × 24 columns</p>\n",
       "</div>"
      ],
      "text/plain": [
       "          rent  term  monthly_inc  total_inc       age  risk_score  \\\n",
       "2707 -0.090190    12    -0.334993  -0.378361 -0.513961   -2.308439   \n",
       "4983  0.122051    12     0.057028  -0.221645 -0.155214    0.593710   \n",
       "4959 -0.031824     9     0.285852   0.568771  0.382907    0.367771   \n",
       "4492 -0.249372    14    -0.175281  -0.078992 -0.334587    0.737843   \n",
       "995   0.281233    13     0.187701  -0.143971 -0.155214    0.511904   \n",
       "...        ...   ...          ...        ...       ...         ...   \n",
       "987   0.307763     5    -0.088165  -0.267677  0.024160   -0.111376   \n",
       "2512  1.262851    12     0.018406  -0.599730  0.203534    0.574232   \n",
       "443   0.466944    14    -0.146243  -0.157578 -0.872708    0.021071   \n",
       "4028 -0.488144    13    -0.010640  -0.006752 -0.962395    0.562546   \n",
       "4980 -0.673856    15    -0.610860   0.149017 -1.141769    0.215846   \n",
       "\n",
       "      prop_id_Arizona  prop_id_California  prop_id_Colorado  prop_id_Georgia  \\\n",
       "2707                0                   0                 1                0   \n",
       "4983                0                   0                 0                0   \n",
       "4959                0                   0                 0                0   \n",
       "4492                0                   0                 0                0   \n",
       "995                 0                   0                 0                1   \n",
       "...               ...                 ...               ...              ...   \n",
       "987                 0                   0                 0                0   \n",
       "2512                0                   0                 0                0   \n",
       "443                 0                   0                 0                1   \n",
       "4028                0                   0                 0                0   \n",
       "4980                0                   0                 0                0   \n",
       "\n",
       "      ...  Recommendation_A-Criminal History Meets Requirements  \\\n",
       "2707  ...                                                  1      \n",
       "4983  ...                                                  0      \n",
       "4959  ...                                                  0      \n",
       "4492  ...                                                  0      \n",
       "995   ...                                                  0      \n",
       "...   ...                                                ...      \n",
       "987   ...                                                  0      \n",
       "2512  ...                                                  0      \n",
       "443   ...                                                  0      \n",
       "4028  ...                                                  0      \n",
       "4980  ...                                                  0      \n",
       "\n",
       "      Recommendation_A-Meets Requirements  Recommendation_Accept  \\\n",
       "2707                                    0                      0   \n",
       "4983                                    0                      0   \n",
       "4959                                    0                      0   \n",
       "4492                                    0                      1   \n",
       "995                                     0                      1   \n",
       "...                                   ...                    ...   \n",
       "987                                     0                      0   \n",
       "2512                                    0                      1   \n",
       "443                                     0                      0   \n",
       "4028                                    0                      0   \n",
       "4980                                    0                      1   \n",
       "\n",
       "      Recommendation_Accept with Conditions (Extra Deposit)  \\\n",
       "2707                                                  0       \n",
       "4983                                                  1       \n",
       "4959                                                  1       \n",
       "4492                                                  0       \n",
       "995                                                   0       \n",
       "...                                                 ...       \n",
       "987                                                   0       \n",
       "2512                                                  0       \n",
       "443                                                   0       \n",
       "4028                                                  0       \n",
       "4980                                                  0       \n",
       "\n",
       "      Recommendation_Accept with Conditions (Guarantor)  \\\n",
       "2707                                                  0   \n",
       "4983                                                  0   \n",
       "4959                                                  0   \n",
       "4492                                                  0   \n",
       "995                                                   0   \n",
       "...                                                 ...   \n",
       "987                                                   0   \n",
       "2512                                                  0   \n",
       "443                                                   0   \n",
       "4028                                                  1   \n",
       "4980                                                  0   \n",
       "\n",
       "      Recommendation_Accept with Conditions (Max Deposit)  \\\n",
       "2707                                                  0     \n",
       "4983                                                  0     \n",
       "4959                                                  0     \n",
       "4492                                                  0     \n",
       "995                                                   0     \n",
       "...                                                 ...     \n",
       "987                                                   0     \n",
       "2512                                                  0     \n",
       "443                                                   1     \n",
       "4028                                                  0     \n",
       "4980                                                  0     \n",
       "\n",
       "      Recommendation_Accept with Extra Security Deposit  \\\n",
       "2707                                                  0   \n",
       "4983                                                  0   \n",
       "4959                                                  0   \n",
       "4492                                                  0   \n",
       "995                                                   0   \n",
       "...                                                 ...   \n",
       "987                                                   0   \n",
       "2512                                                  0   \n",
       "443                                                   0   \n",
       "4028                                                  0   \n",
       "4980                                                  0   \n",
       "\n",
       "      Recommendation_Guarantor Not Qualified  \\\n",
       "2707                                       0   \n",
       "4983                                       0   \n",
       "4959                                       0   \n",
       "4492                                       0   \n",
       "995                                        0   \n",
       "...                                      ...   \n",
       "987                                        0   \n",
       "2512                                       0   \n",
       "443                                        0   \n",
       "4028                                       0   \n",
       "4980                                       0   \n",
       "\n",
       "      Recommendation_Qualified Guarantor  Recommendation_REJECT  \n",
       "2707                                   0                      0  \n",
       "4983                                   0                      0  \n",
       "4959                                   0                      0  \n",
       "4492                                   0                      0  \n",
       "995                                    0                      0  \n",
       "...                                  ...                    ...  \n",
       "987                                    0                      1  \n",
       "2512                                   0                      0  \n",
       "443                                    0                      0  \n",
       "4028                                   0                      0  \n",
       "4980                                   0                      0  \n",
       "\n",
       "[2799 rows x 24 columns]"
      ]
     },
     "execution_count": 5,
     "metadata": {},
     "output_type": "execute_result"
    }
   ],
   "source": [
    "train_scaled"
   ]
  },
  {
   "cell_type": "code",
   "execution_count": 6,
   "id": "395097bd-64ef-4ada-bf91-c6b0b704ba56",
   "metadata": {},
   "outputs": [],
   "source": [
    "dt = DecisionTreeClassifier(max_depth=12, random_state=91)"
   ]
  },
  {
   "cell_type": "code",
   "execution_count": 7,
   "id": "d6255698-1fd6-420d-90be-883ecb3c7182",
   "metadata": {},
   "outputs": [],
   "source": [
    "dt = dt.fit(train_scaled, y_train)"
   ]
  },
  {
   "cell_type": "code",
   "execution_count": 8,
   "id": "459f7c8d-b7fe-4c89-92ec-f6ba3706077d",
   "metadata": {},
   "outputs": [],
   "source": [
    "train_pred = dt.predict(train_scaled)"
   ]
  },
  {
   "cell_type": "code",
   "execution_count": 9,
   "id": "ec44753a-94e7-4ad5-9790-54c8ceb61f57",
   "metadata": {},
   "outputs": [
    {
     "name": "stdout",
     "output_type": "stream",
     "text": [
      "              precision    recall  f1-score   support\n",
      "\n",
      "           0       0.99      1.00      1.00      2692\n",
      "           1       1.00      0.80      0.89       107\n",
      "\n",
      "    accuracy                           0.99      2799\n",
      "   macro avg       1.00      0.90      0.94      2799\n",
      "weighted avg       0.99      0.99      0.99      2799\n",
      "\n"
     ]
    }
   ],
   "source": [
    "print(classification_report(y_train, train_pred))"
   ]
  },
  {
   "cell_type": "code",
   "execution_count": 10,
   "id": "2d101cf0-d805-4839-94cd-01485d563433",
   "metadata": {},
   "outputs": [],
   "source": [
    "labels = sorted(y_train.unique())"
   ]
  },
  {
   "cell_type": "code",
   "execution_count": 11,
   "id": "da1a2eee-ed9d-45c4-ad13-b2a7fe5ca5a2",
   "metadata": {},
   "outputs": [
    {
     "data": {
      "text/html": [
       "<div>\n",
       "<style scoped>\n",
       "    .dataframe tbody tr th:only-of-type {\n",
       "        vertical-align: middle;\n",
       "    }\n",
       "\n",
       "    .dataframe tbody tr th {\n",
       "        vertical-align: top;\n",
       "    }\n",
       "\n",
       "    .dataframe thead th {\n",
       "        text-align: right;\n",
       "    }\n",
       "</style>\n",
       "<table border=\"1\" class=\"dataframe\">\n",
       "  <thead>\n",
       "    <tr style=\"text-align: right;\">\n",
       "      <th></th>\n",
       "      <th>0</th>\n",
       "      <th>1</th>\n",
       "    </tr>\n",
       "  </thead>\n",
       "  <tbody>\n",
       "    <tr>\n",
       "      <th>0</th>\n",
       "      <td>2692</td>\n",
       "      <td>0</td>\n",
       "    </tr>\n",
       "    <tr>\n",
       "      <th>1</th>\n",
       "      <td>21</td>\n",
       "      <td>86</td>\n",
       "    </tr>\n",
       "  </tbody>\n",
       "</table>\n",
       "</div>"
      ],
      "text/plain": [
       "      0   1\n",
       "0  2692   0\n",
       "1    21  86"
      ]
     },
     "execution_count": 11,
     "metadata": {},
     "output_type": "execute_result"
    }
   ],
   "source": [
    "pd.DataFrame(confusion_matrix(y_train, train_pred), index=labels, columns=labels)"
   ]
  },
  {
   "cell_type": "code",
   "execution_count": 12,
   "id": "95c2b79f-836b-4ad1-84c5-6cd55c34c1e6",
   "metadata": {},
   "outputs": [],
   "source": [
    "val_pred = dt.predict(val_scaled)"
   ]
  },
  {
   "cell_type": "code",
   "execution_count": 13,
   "id": "697d7d0b-8d2b-4dbf-8016-f49507e6be7c",
   "metadata": {},
   "outputs": [
    {
     "name": "stdout",
     "output_type": "stream",
     "text": [
      "              precision    recall  f1-score   support\n",
      "\n",
      "           0       0.97      0.96      0.96      1154\n",
      "           1       0.12      0.13      0.12        46\n",
      "\n",
      "    accuracy                           0.93      1200\n",
      "   macro avg       0.54      0.55      0.54      1200\n",
      "weighted avg       0.93      0.93      0.93      1200\n",
      "\n"
     ]
    }
   ],
   "source": [
    "print(classification_report(y_val, val_pred))"
   ]
  },
  {
   "cell_type": "code",
   "execution_count": 14,
   "id": "822cd06f-2ec9-4a4a-8f53-6cfc9e5a11cb",
   "metadata": {},
   "outputs": [
    {
     "data": {
      "text/html": [
       "<div>\n",
       "<style scoped>\n",
       "    .dataframe tbody tr th:only-of-type {\n",
       "        vertical-align: middle;\n",
       "    }\n",
       "\n",
       "    .dataframe tbody tr th {\n",
       "        vertical-align: top;\n",
       "    }\n",
       "\n",
       "    .dataframe thead th {\n",
       "        text-align: right;\n",
       "    }\n",
       "</style>\n",
       "<table border=\"1\" class=\"dataframe\">\n",
       "  <thead>\n",
       "    <tr style=\"text-align: right;\">\n",
       "      <th></th>\n",
       "      <th>0</th>\n",
       "      <th>1</th>\n",
       "    </tr>\n",
       "  </thead>\n",
       "  <tbody>\n",
       "    <tr>\n",
       "      <th>0</th>\n",
       "      <td>1109</td>\n",
       "      <td>45</td>\n",
       "    </tr>\n",
       "    <tr>\n",
       "      <th>1</th>\n",
       "      <td>40</td>\n",
       "      <td>6</td>\n",
       "    </tr>\n",
       "  </tbody>\n",
       "</table>\n",
       "</div>"
      ],
      "text/plain": [
       "      0   1\n",
       "0  1109  45\n",
       "1    40   6"
      ]
     },
     "execution_count": 14,
     "metadata": {},
     "output_type": "execute_result"
    }
   ],
   "source": [
    "pd.DataFrame(confusion_matrix(y_val, val_pred), index=labels, columns=labels)"
   ]
  },
  {
   "cell_type": "code",
   "execution_count": 15,
   "id": "98c5a0ea-ee11-4472-8cf4-3d78af4ddb2f",
   "metadata": {},
   "outputs": [
    {
     "data": {
      "text/plain": [
       "107"
      ]
     },
     "execution_count": 15,
     "metadata": {},
     "output_type": "execute_result"
    }
   ],
   "source": [
    "df_majority = train[train.bad_resident==0]\n",
    "df_minority = train[train.bad_resident==1]\n",
    "len(df_minority)"
   ]
  },
  {
   "cell_type": "code",
   "execution_count": 16,
   "id": "b7821cb1-d9a4-4eee-8354-ebbc694a87f6",
   "metadata": {},
   "outputs": [],
   "source": [
    "df_minority_upsampled = resample(df_minority, \n",
    "                                 replace=True,     # sample with replacement\n",
    "                                 n_samples=214,    # to match majority class\n",
    "                                 random_state=91) # reproducible results"
   ]
  },
  {
   "cell_type": "code",
   "execution_count": 17,
   "id": "31a34228-0f48-4fda-850a-7a37644167ec",
   "metadata": {
    "tags": []
   },
   "outputs": [],
   "source": [
    "df_upsampled = pd.concat([df_majority, df_minority_upsampled])"
   ]
  },
  {
   "cell_type": "code",
   "execution_count": 18,
   "id": "fa35bb44-5ed4-4cb7-b7a3-a76a228e22f1",
   "metadata": {},
   "outputs": [
    {
     "data": {
      "text/plain": [
       "0    2692\n",
       "1     214\n",
       "Name: bad_resident, dtype: int64"
      ]
     },
     "execution_count": 18,
     "metadata": {},
     "output_type": "execute_result"
    }
   ],
   "source": [
    "df_upsampled.bad_resident.value_counts()"
   ]
  },
  {
   "cell_type": "code",
   "execution_count": 19,
   "id": "3d46a72c-14d0-43e6-b200-55b888c4a7a8",
   "metadata": {},
   "outputs": [],
   "source": [
    "y_up = df_upsampled.bad_resident"
   ]
  },
  {
   "cell_type": "code",
   "execution_count": 20,
   "id": "4f33cf96-4a08-4cbd-84d5-a38cbf6b5695",
   "metadata": {},
   "outputs": [],
   "source": [
    "df_upsampled = df_upsampled.drop(columns = 'bad_resident')"
   ]
  },
  {
   "cell_type": "code",
   "execution_count": 21,
   "id": "f1a6f91f-80d6-44b4-b70f-2670144015de",
   "metadata": {},
   "outputs": [],
   "source": [
    "df_upsampled[['rent', 'monthly_inc','total_inc', 'age', 'risk_score']] = StandardScaler().fit_transform(df_upsampled[['rent', 'monthly_inc','total_inc', 'age', 'risk_score']])"
   ]
  },
  {
   "cell_type": "code",
   "execution_count": 22,
   "id": "f9b7bc36-aa53-4559-b005-43acddb40932",
   "metadata": {},
   "outputs": [
    {
     "data": {
      "text/html": [
       "<div>\n",
       "<style scoped>\n",
       "    .dataframe tbody tr th:only-of-type {\n",
       "        vertical-align: middle;\n",
       "    }\n",
       "\n",
       "    .dataframe tbody tr th {\n",
       "        vertical-align: top;\n",
       "    }\n",
       "\n",
       "    .dataframe thead th {\n",
       "        text-align: right;\n",
       "    }\n",
       "</style>\n",
       "<table border=\"1\" class=\"dataframe\">\n",
       "  <thead>\n",
       "    <tr style=\"text-align: right;\">\n",
       "      <th></th>\n",
       "      <th>rent</th>\n",
       "      <th>term</th>\n",
       "      <th>monthly_inc</th>\n",
       "      <th>total_inc</th>\n",
       "      <th>age</th>\n",
       "      <th>risk_score</th>\n",
       "      <th>prop_id_Arizona</th>\n",
       "      <th>prop_id_California</th>\n",
       "      <th>prop_id_Colorado</th>\n",
       "      <th>prop_id_Georgia</th>\n",
       "      <th>...</th>\n",
       "      <th>Recommendation_A-Criminal History Meets Requirements</th>\n",
       "      <th>Recommendation_A-Meets Requirements</th>\n",
       "      <th>Recommendation_Accept</th>\n",
       "      <th>Recommendation_Accept with Conditions (Extra Deposit)</th>\n",
       "      <th>Recommendation_Accept with Conditions (Guarantor)</th>\n",
       "      <th>Recommendation_Accept with Conditions (Max Deposit)</th>\n",
       "      <th>Recommendation_Accept with Extra Security Deposit</th>\n",
       "      <th>Recommendation_Guarantor Not Qualified</th>\n",
       "      <th>Recommendation_Qualified Guarantor</th>\n",
       "      <th>Recommendation_REJECT</th>\n",
       "    </tr>\n",
       "  </thead>\n",
       "  <tbody>\n",
       "    <tr>\n",
       "      <th>2707</th>\n",
       "      <td>-0.107014</td>\n",
       "      <td>12</td>\n",
       "      <td>-0.273994</td>\n",
       "      <td>-0.365509</td>\n",
       "      <td>-0.510785</td>\n",
       "      <td>-2.297009</td>\n",
       "      <td>0</td>\n",
       "      <td>0</td>\n",
       "      <td>1</td>\n",
       "      <td>0</td>\n",
       "      <td>...</td>\n",
       "      <td>1</td>\n",
       "      <td>0</td>\n",
       "      <td>0</td>\n",
       "      <td>0</td>\n",
       "      <td>0</td>\n",
       "      <td>0</td>\n",
       "      <td>0</td>\n",
       "      <td>0</td>\n",
       "      <td>0</td>\n",
       "      <td>0</td>\n",
       "    </tr>\n",
       "    <tr>\n",
       "      <th>4983</th>\n",
       "      <td>0.101885</td>\n",
       "      <td>12</td>\n",
       "      <td>0.037528</td>\n",
       "      <td>-0.215222</td>\n",
       "      <td>-0.151858</td>\n",
       "      <td>0.601310</td>\n",
       "      <td>0</td>\n",
       "      <td>0</td>\n",
       "      <td>0</td>\n",
       "      <td>0</td>\n",
       "      <td>...</td>\n",
       "      <td>0</td>\n",
       "      <td>0</td>\n",
       "      <td>0</td>\n",
       "      <td>1</td>\n",
       "      <td>0</td>\n",
       "      <td>0</td>\n",
       "      <td>0</td>\n",
       "      <td>0</td>\n",
       "      <td>0</td>\n",
       "      <td>0</td>\n",
       "    </tr>\n",
       "    <tr>\n",
       "      <th>4959</th>\n",
       "      <td>-0.049567</td>\n",
       "      <td>9</td>\n",
       "      <td>0.219365</td>\n",
       "      <td>0.542769</td>\n",
       "      <td>0.386531</td>\n",
       "      <td>0.375669</td>\n",
       "      <td>0</td>\n",
       "      <td>0</td>\n",
       "      <td>0</td>\n",
       "      <td>0</td>\n",
       "      <td>...</td>\n",
       "      <td>0</td>\n",
       "      <td>0</td>\n",
       "      <td>0</td>\n",
       "      <td>1</td>\n",
       "      <td>0</td>\n",
       "      <td>0</td>\n",
       "      <td>0</td>\n",
       "      <td>0</td>\n",
       "      <td>0</td>\n",
       "      <td>0</td>\n",
       "    </tr>\n",
       "    <tr>\n",
       "      <th>4492</th>\n",
       "      <td>-0.263688</td>\n",
       "      <td>14</td>\n",
       "      <td>-0.147078</td>\n",
       "      <td>-0.078422</td>\n",
       "      <td>-0.331321</td>\n",
       "      <td>0.745253</td>\n",
       "      <td>0</td>\n",
       "      <td>0</td>\n",
       "      <td>0</td>\n",
       "      <td>0</td>\n",
       "      <td>...</td>\n",
       "      <td>0</td>\n",
       "      <td>0</td>\n",
       "      <td>1</td>\n",
       "      <td>0</td>\n",
       "      <td>0</td>\n",
       "      <td>0</td>\n",
       "      <td>0</td>\n",
       "      <td>0</td>\n",
       "      <td>0</td>\n",
       "      <td>0</td>\n",
       "    </tr>\n",
       "    <tr>\n",
       "      <th>995</th>\n",
       "      <td>0.258559</td>\n",
       "      <td>13</td>\n",
       "      <td>0.141369</td>\n",
       "      <td>-0.140734</td>\n",
       "      <td>-0.151858</td>\n",
       "      <td>0.519612</td>\n",
       "      <td>0</td>\n",
       "      <td>0</td>\n",
       "      <td>0</td>\n",
       "      <td>1</td>\n",
       "      <td>...</td>\n",
       "      <td>0</td>\n",
       "      <td>0</td>\n",
       "      <td>1</td>\n",
       "      <td>0</td>\n",
       "      <td>0</td>\n",
       "      <td>0</td>\n",
       "      <td>0</td>\n",
       "      <td>0</td>\n",
       "      <td>0</td>\n",
       "      <td>0</td>\n",
       "    </tr>\n",
       "    <tr>\n",
       "      <th>...</th>\n",
       "      <td>...</td>\n",
       "      <td>...</td>\n",
       "      <td>...</td>\n",
       "      <td>...</td>\n",
       "      <td>...</td>\n",
       "      <td>...</td>\n",
       "      <td>...</td>\n",
       "      <td>...</td>\n",
       "      <td>...</td>\n",
       "      <td>...</td>\n",
       "      <td>...</td>\n",
       "      <td>...</td>\n",
       "      <td>...</td>\n",
       "      <td>...</td>\n",
       "      <td>...</td>\n",
       "      <td>...</td>\n",
       "      <td>...</td>\n",
       "      <td>...</td>\n",
       "      <td>...</td>\n",
       "      <td>...</td>\n",
       "      <td>...</td>\n",
       "    </tr>\n",
       "    <tr>\n",
       "      <th>129</th>\n",
       "      <td>-0.524811</td>\n",
       "      <td>15</td>\n",
       "      <td>0.051373</td>\n",
       "      <td>-0.189435</td>\n",
       "      <td>-0.510785</td>\n",
       "      <td>0.029427</td>\n",
       "      <td>0</td>\n",
       "      <td>0</td>\n",
       "      <td>0</td>\n",
       "      <td>1</td>\n",
       "      <td>...</td>\n",
       "      <td>0</td>\n",
       "      <td>0</td>\n",
       "      <td>1</td>\n",
       "      <td>0</td>\n",
       "      <td>0</td>\n",
       "      <td>0</td>\n",
       "      <td>0</td>\n",
       "      <td>0</td>\n",
       "      <td>0</td>\n",
       "      <td>0</td>\n",
       "    </tr>\n",
       "    <tr>\n",
       "      <th>154</th>\n",
       "      <td>0.441345</td>\n",
       "      <td>12</td>\n",
       "      <td>-0.166346</td>\n",
       "      <td>-0.222465</td>\n",
       "      <td>-0.600516</td>\n",
       "      <td>0.255068</td>\n",
       "      <td>0</td>\n",
       "      <td>0</td>\n",
       "      <td>0</td>\n",
       "      <td>1</td>\n",
       "      <td>...</td>\n",
       "      <td>0</td>\n",
       "      <td>0</td>\n",
       "      <td>1</td>\n",
       "      <td>0</td>\n",
       "      <td>0</td>\n",
       "      <td>0</td>\n",
       "      <td>0</td>\n",
       "      <td>0</td>\n",
       "      <td>0</td>\n",
       "      <td>0</td>\n",
       "    </tr>\n",
       "    <tr>\n",
       "      <th>405</th>\n",
       "      <td>0.336896</td>\n",
       "      <td>12</td>\n",
       "      <td>-0.435525</td>\n",
       "      <td>-0.452922</td>\n",
       "      <td>-1.138906</td>\n",
       "      <td>0.667446</td>\n",
       "      <td>1</td>\n",
       "      <td>0</td>\n",
       "      <td>0</td>\n",
       "      <td>0</td>\n",
       "      <td>...</td>\n",
       "      <td>0</td>\n",
       "      <td>0</td>\n",
       "      <td>0</td>\n",
       "      <td>0</td>\n",
       "      <td>1</td>\n",
       "      <td>0</td>\n",
       "      <td>0</td>\n",
       "      <td>0</td>\n",
       "      <td>0</td>\n",
       "      <td>0</td>\n",
       "    </tr>\n",
       "    <tr>\n",
       "      <th>11</th>\n",
       "      <td>-0.060012</td>\n",
       "      <td>18</td>\n",
       "      <td>-0.016244</td>\n",
       "      <td>-0.009145</td>\n",
       "      <td>-0.421053</td>\n",
       "      <td>-2.297009</td>\n",
       "      <td>0</td>\n",
       "      <td>0</td>\n",
       "      <td>0</td>\n",
       "      <td>1</td>\n",
       "      <td>...</td>\n",
       "      <td>1</td>\n",
       "      <td>0</td>\n",
       "      <td>0</td>\n",
       "      <td>0</td>\n",
       "      <td>0</td>\n",
       "      <td>0</td>\n",
       "      <td>0</td>\n",
       "      <td>0</td>\n",
       "      <td>0</td>\n",
       "      <td>0</td>\n",
       "    </tr>\n",
       "    <tr>\n",
       "      <th>770</th>\n",
       "      <td>0.671134</td>\n",
       "      <td>12</td>\n",
       "      <td>0.030374</td>\n",
       "      <td>-0.200799</td>\n",
       "      <td>-1.049174</td>\n",
       "      <td>0.402901</td>\n",
       "      <td>0</td>\n",
       "      <td>0</td>\n",
       "      <td>1</td>\n",
       "      <td>0</td>\n",
       "      <td>...</td>\n",
       "      <td>0</td>\n",
       "      <td>0</td>\n",
       "      <td>1</td>\n",
       "      <td>0</td>\n",
       "      <td>0</td>\n",
       "      <td>0</td>\n",
       "      <td>0</td>\n",
       "      <td>0</td>\n",
       "      <td>0</td>\n",
       "      <td>0</td>\n",
       "    </tr>\n",
       "  </tbody>\n",
       "</table>\n",
       "<p>2906 rows × 24 columns</p>\n",
       "</div>"
      ],
      "text/plain": [
       "          rent  term  monthly_inc  total_inc       age  risk_score  \\\n",
       "2707 -0.107014    12    -0.273994  -0.365509 -0.510785   -2.297009   \n",
       "4983  0.101885    12     0.037528  -0.215222 -0.151858    0.601310   \n",
       "4959 -0.049567     9     0.219365   0.542769  0.386531    0.375669   \n",
       "4492 -0.263688    14    -0.147078  -0.078422 -0.331321    0.745253   \n",
       "995   0.258559    13     0.141369  -0.140734 -0.151858    0.519612   \n",
       "...        ...   ...          ...        ...       ...         ...   \n",
       "129  -0.524811    15     0.051373  -0.189435 -0.510785    0.029427   \n",
       "154   0.441345    12    -0.166346  -0.222465 -0.600516    0.255068   \n",
       "405   0.336896    12    -0.435525  -0.452922 -1.138906    0.667446   \n",
       "11   -0.060012    18    -0.016244  -0.009145 -0.421053   -2.297009   \n",
       "770   0.671134    12     0.030374  -0.200799 -1.049174    0.402901   \n",
       "\n",
       "      prop_id_Arizona  prop_id_California  prop_id_Colorado  prop_id_Georgia  \\\n",
       "2707                0                   0                 1                0   \n",
       "4983                0                   0                 0                0   \n",
       "4959                0                   0                 0                0   \n",
       "4492                0                   0                 0                0   \n",
       "995                 0                   0                 0                1   \n",
       "...               ...                 ...               ...              ...   \n",
       "129                 0                   0                 0                1   \n",
       "154                 0                   0                 0                1   \n",
       "405                 1                   0                 0                0   \n",
       "11                  0                   0                 0                1   \n",
       "770                 0                   0                 1                0   \n",
       "\n",
       "      ...  Recommendation_A-Criminal History Meets Requirements  \\\n",
       "2707  ...                                                  1      \n",
       "4983  ...                                                  0      \n",
       "4959  ...                                                  0      \n",
       "4492  ...                                                  0      \n",
       "995   ...                                                  0      \n",
       "...   ...                                                ...      \n",
       "129   ...                                                  0      \n",
       "154   ...                                                  0      \n",
       "405   ...                                                  0      \n",
       "11    ...                                                  1      \n",
       "770   ...                                                  0      \n",
       "\n",
       "      Recommendation_A-Meets Requirements  Recommendation_Accept  \\\n",
       "2707                                    0                      0   \n",
       "4983                                    0                      0   \n",
       "4959                                    0                      0   \n",
       "4492                                    0                      1   \n",
       "995                                     0                      1   \n",
       "...                                   ...                    ...   \n",
       "129                                     0                      1   \n",
       "154                                     0                      1   \n",
       "405                                     0                      0   \n",
       "11                                      0                      0   \n",
       "770                                     0                      1   \n",
       "\n",
       "      Recommendation_Accept with Conditions (Extra Deposit)  \\\n",
       "2707                                                  0       \n",
       "4983                                                  1       \n",
       "4959                                                  1       \n",
       "4492                                                  0       \n",
       "995                                                   0       \n",
       "...                                                 ...       \n",
       "129                                                   0       \n",
       "154                                                   0       \n",
       "405                                                   0       \n",
       "11                                                    0       \n",
       "770                                                   0       \n",
       "\n",
       "      Recommendation_Accept with Conditions (Guarantor)  \\\n",
       "2707                                                  0   \n",
       "4983                                                  0   \n",
       "4959                                                  0   \n",
       "4492                                                  0   \n",
       "995                                                   0   \n",
       "...                                                 ...   \n",
       "129                                                   0   \n",
       "154                                                   0   \n",
       "405                                                   1   \n",
       "11                                                    0   \n",
       "770                                                   0   \n",
       "\n",
       "      Recommendation_Accept with Conditions (Max Deposit)  \\\n",
       "2707                                                  0     \n",
       "4983                                                  0     \n",
       "4959                                                  0     \n",
       "4492                                                  0     \n",
       "995                                                   0     \n",
       "...                                                 ...     \n",
       "129                                                   0     \n",
       "154                                                   0     \n",
       "405                                                   0     \n",
       "11                                                    0     \n",
       "770                                                   0     \n",
       "\n",
       "      Recommendation_Accept with Extra Security Deposit  \\\n",
       "2707                                                  0   \n",
       "4983                                                  0   \n",
       "4959                                                  0   \n",
       "4492                                                  0   \n",
       "995                                                   0   \n",
       "...                                                 ...   \n",
       "129                                                   0   \n",
       "154                                                   0   \n",
       "405                                                   0   \n",
       "11                                                    0   \n",
       "770                                                   0   \n",
       "\n",
       "      Recommendation_Guarantor Not Qualified  \\\n",
       "2707                                       0   \n",
       "4983                                       0   \n",
       "4959                                       0   \n",
       "4492                                       0   \n",
       "995                                        0   \n",
       "...                                      ...   \n",
       "129                                        0   \n",
       "154                                        0   \n",
       "405                                        0   \n",
       "11                                         0   \n",
       "770                                        0   \n",
       "\n",
       "      Recommendation_Qualified Guarantor  Recommendation_REJECT  \n",
       "2707                                   0                      0  \n",
       "4983                                   0                      0  \n",
       "4959                                   0                      0  \n",
       "4492                                   0                      0  \n",
       "995                                    0                      0  \n",
       "...                                  ...                    ...  \n",
       "129                                    0                      0  \n",
       "154                                    0                      0  \n",
       "405                                    0                      0  \n",
       "11                                     0                      0  \n",
       "770                                    0                      0  \n",
       "\n",
       "[2906 rows x 24 columns]"
      ]
     },
     "execution_count": 22,
     "metadata": {},
     "output_type": "execute_result"
    }
   ],
   "source": [
    "df_upsampled"
   ]
  },
  {
   "cell_type": "code",
   "execution_count": 23,
   "id": "95747546-dfae-4d4d-8182-90f297515a1a",
   "metadata": {},
   "outputs": [
    {
     "ename": "NameError",
     "evalue": "name 'rf' is not defined",
     "output_type": "error",
     "traceback": [
      "\u001b[0;31m---------------------------------------------------------------------------\u001b[0m",
      "\u001b[0;31mNameError\u001b[0m                                 Traceback (most recent call last)",
      "Input \u001b[0;32mIn [23]\u001b[0m, in \u001b[0;36m<cell line: 1>\u001b[0;34m()\u001b[0m\n\u001b[0;32m----> 1\u001b[0m \u001b[43mrf\u001b[49m\u001b[38;5;241m.\u001b[39mfit(df_upsampled, y_up)\n",
      "\u001b[0;31mNameError\u001b[0m: name 'rf' is not defined"
     ]
    }
   ],
   "source": [
    "rf.fit(df_upsampled, y_up)"
   ]
  },
  {
   "cell_type": "code",
   "execution_count": null,
   "id": "7a0e5efd-0f6c-4a79-9075-19e231c9c14e",
   "metadata": {},
   "outputs": [],
   "source": [
    "val_pred = rf.predict(val_scaled)"
   ]
  },
  {
   "cell_type": "code",
   "execution_count": null,
   "id": "6bffcfba-1c58-4634-b36d-1ffd22b8b00c",
   "metadata": {},
   "outputs": [],
   "source": [
    "print(classification_report(y_val, val_pred))"
   ]
  },
  {
   "cell_type": "code",
   "execution_count": null,
   "id": "920e915b-c3f8-4b94-b342-d235e5f8904e",
   "metadata": {},
   "outputs": [],
   "source": [
    "pd.DataFrame(confusion_matrix(y_val, val_pred), index=labels, columns=labels)"
   ]
  },
  {
   "cell_type": "code",
   "execution_count": null,
   "id": "fc0b7113-e099-4510-90ba-f82c50b546db",
   "metadata": {},
   "outputs": [],
   "source": [
    "# train, y_train, y_val, y_test, train_scaled, val_scaled, test_scaled = w.model_prep(df_upsampled)"
   ]
  },
  {
   "cell_type": "code",
   "execution_count": null,
   "id": "ecc0aefe-bc05-4826-81a7-eba3e260b7c4",
   "metadata": {},
   "outputs": [],
   "source": [
    "dt = DecisionTreeClassifier(max_depth=8, random_state=91)"
   ]
  },
  {
   "cell_type": "code",
   "execution_count": null,
   "id": "a4a10ca2-c42b-47d1-bcdb-537ca246a91b",
   "metadata": {},
   "outputs": [],
   "source": [
    "dt = dt.fit(train_scaled, y_train)"
   ]
  },
  {
   "cell_type": "code",
   "execution_count": null,
   "id": "56f1c2ca-dbf7-41b0-ae61-2602543d7e50",
   "metadata": {},
   "outputs": [],
   "source": [
    "train_pred = dt.predict(train_scaled)"
   ]
  },
  {
   "cell_type": "code",
   "execution_count": null,
   "id": "7a00f9d4-61e4-4b7b-9000-c47eb4d1f6b0",
   "metadata": {},
   "outputs": [],
   "source": [
    "print(classification_report(y_train, train_pred))"
   ]
  },
  {
   "cell_type": "code",
   "execution_count": null,
   "id": "2b9f58bf-df23-4848-ba0b-cac91c7fcca8",
   "metadata": {},
   "outputs": [],
   "source": [
    "pd.DataFrame(confusion_matrix(y_train, train_pred), index=labels, columns=labels)"
   ]
  },
  {
   "cell_type": "code",
   "execution_count": null,
   "id": "d522d0a8-99bc-4d83-b8cf-14177e8cbdca",
   "metadata": {},
   "outputs": [],
   "source": [
    "val_pred = dt.predict(val_scaled)"
   ]
  },
  {
   "cell_type": "code",
   "execution_count": null,
   "id": "79c198a6-d973-45d4-b08d-e9c5402f1e13",
   "metadata": {},
   "outputs": [],
   "source": [
    "print(classification_report(y_val, val_pred))"
   ]
  },
  {
   "cell_type": "code",
   "execution_count": null,
   "id": "c81d42ac-4cb9-4dc8-89cc-3252822cdf56",
   "metadata": {},
   "outputs": [],
   "source": [
    "pd.DataFrame(confusion_matrix(y_val, val_pred), index=labels, columns=labels)"
   ]
  },
  {
   "cell_type": "code",
   "execution_count": null,
   "id": "ec6c03b7-4cbc-4d28-b2d5-2b26e5d18670",
   "metadata": {},
   "outputs": [],
   "source": [
    "rf = RandomForestClassifier(bootstrap=True, \n",
    "                            class_weight= 'balanced', \n",
    "                            criterion='entropy',\n",
    "                            min_samples_leaf=3,\n",
    "                            n_estimators=100,\n",
    "                            max_depth=5, \n",
    "                            random_state=91)"
   ]
  },
  {
   "cell_type": "code",
   "execution_count": null,
   "id": "0b7e2ccd-b98d-4ab9-9496-ca931137126d",
   "metadata": {},
   "outputs": [],
   "source": [
    "rf.fit(df_upsampled, y_up)"
   ]
  },
  {
   "cell_type": "code",
   "execution_count": null,
   "id": "cf680658-607b-41ae-9fdf-94cc1d269705",
   "metadata": {},
   "outputs": [],
   "source": [
    "train_pred = rf.predict(train_scaled)"
   ]
  },
  {
   "cell_type": "code",
   "execution_count": null,
   "id": "13ea77c3-0cd6-4ab8-87d8-46313b2a9ec4",
   "metadata": {},
   "outputs": [],
   "source": [
    "print(classification_report(y_train, train_pred))"
   ]
  },
  {
   "cell_type": "code",
   "execution_count": null,
   "id": "d02c1ad5-1bf2-4dc7-b942-2b719a8eaeb7",
   "metadata": {},
   "outputs": [],
   "source": [
    "val_pred = rf.predict(val_scaled)"
   ]
  },
  {
   "cell_type": "code",
   "execution_count": null,
   "id": "d03c81a4-4a9c-4381-8b78-971e1987fc97",
   "metadata": {},
   "outputs": [],
   "source": [
    "print(classification_report(y_val, val_pred))"
   ]
  },
  {
   "cell_type": "code",
   "execution_count": null,
   "id": "8d3eec2c-ac5d-4d98-8897-f167dd5687f1",
   "metadata": {},
   "outputs": [],
   "source": [
    "pd.DataFrame(confusion_matrix(y_val, val_pred), index=labels, columns=labels)"
   ]
  },
  {
   "cell_type": "code",
   "execution_count": null,
   "id": "6ee3a0a2-f23b-46c5-8d35-2ccbdcc1c853",
   "metadata": {},
   "outputs": [],
   "source": []
  },
  {
   "cell_type": "code",
   "execution_count": null,
   "id": "8f94ccad-e8dc-4d1d-84fa-6a36ab0c7bde",
   "metadata": {},
   "outputs": [],
   "source": [
    "params = {'max_depth': [3, 4, 5, 6, 7, 8],\n",
    "          'min_samples_leaf': [1, 3, 5],\n",
    "         'n_estimators':[100, 250, 500],\n",
    "         'class_weight': ['balanced'],\n",
    "         'bootstrap': [True],\n",
    "         'criterion':['gini', 'entropy'],\n",
    "         'random_state': [91]}\n",
    "rfG= RandomForestClassifier()\n",
    "grid = GridSearchCV(rfG, params, cv=3, scoring = 'recall')\n",
    "grid.fit(df_upsampled, y_up)"
   ]
  },
  {
   "cell_type": "code",
   "execution_count": null,
   "id": "0fa590cc-35dc-4a54-87d2-665ba9ecd8f7",
   "metadata": {},
   "outputs": [],
   "source": [
    "results = grid.cv_results_\n",
    "test_scores = results['mean_test_score']\n",
    "test_scores"
   ]
  },
  {
   "cell_type": "code",
   "execution_count": null,
   "id": "adda1608-1850-409f-bcc1-12340162e364",
   "metadata": {},
   "outputs": [],
   "source": [
    "params = results['params']"
   ]
  },
  {
   "cell_type": "code",
   "execution_count": null,
   "id": "0e0c49ce-c767-4ca0-9fdc-fc817188422d",
   "metadata": {},
   "outputs": [],
   "source": [
    "for p, s in zip(params, test_scores):\n",
    "    p['score'] = s\n",
    "\n",
    "pd.DataFrame(params).sort_values(by='score', ascending = False)"
   ]
  },
  {
   "cell_type": "code",
   "execution_count": 24,
   "id": "803920f7-b139-4061-baad-16e47dd07988",
   "metadata": {},
   "outputs": [],
   "source": [
    "data = df_upsampled\n",
    "label = y_up\n",
    "dtrain = xgb.DMatrix(data, label=label)\n",
    "dtest = xgb.DMatrix(val_scaled, label = y_val)"
   ]
  },
  {
   "cell_type": "code",
   "execution_count": 28,
   "id": "40482b53-5873-4253-9803-4a5dcb08450b",
   "metadata": {},
   "outputs": [],
   "source": [
    "param = {'max_depth': 6, 'eta': 1, 'objective': 'binary:logistic'}\n",
    "param['nthread'] = 4\n",
    "param['eval_metric'] = 'auc'"
   ]
  },
  {
   "cell_type": "code",
   "execution_count": 29,
   "id": "fe58e247-5d5d-49de-afa4-e2f2ea26b910",
   "metadata": {},
   "outputs": [],
   "source": [
    "evallist = [(dtrain,'train')]"
   ]
  },
  {
   "cell_type": "code",
   "execution_count": 30,
   "id": "2d8a2c2b-3c4f-4b6b-aa71-60c83c1ffaec",
   "metadata": {},
   "outputs": [
    {
     "name": "stdout",
     "output_type": "stream",
     "text": [
      "[0]\ttrain-auc:0.76590\n",
      "[1]\ttrain-auc:0.92239\n",
      "[2]\ttrain-auc:0.96375\n",
      "[3]\ttrain-auc:0.98027\n",
      "[4]\ttrain-auc:0.98851\n",
      "[5]\ttrain-auc:0.99470\n",
      "[6]\ttrain-auc:0.99620\n",
      "[7]\ttrain-auc:0.99792\n",
      "[8]\ttrain-auc:0.99918\n",
      "[9]\ttrain-auc:0.99960\n"
     ]
    }
   ],
   "source": [
    "num_round = 10\n",
    "bst = xgb.train(param, dtrain, num_round, evallist)"
   ]
  },
  {
   "cell_type": "code",
   "execution_count": 31,
   "id": "8bb6980c-be4c-4269-a51e-9267c9f7b90d",
   "metadata": {},
   "outputs": [
    {
     "data": {
      "text/plain": [
       "<xgboost.core.Booster at 0x17ff25610>"
      ]
     },
     "execution_count": 31,
     "metadata": {},
     "output_type": "execute_result"
    }
   ],
   "source": []
  },
  {
   "cell_type": "code",
   "execution_count": null,
   "id": "4660c0ff-ecc9-4a33-b09e-4d1c557f8741",
   "metadata": {},
   "outputs": [],
   "source": []
  },
  {
   "cell_type": "code",
   "execution_count": null,
   "id": "c21036ed-479e-4e20-9cd1-c71632e29123",
   "metadata": {},
   "outputs": [],
   "source": [
    "ypred = bst.predict(dtest)"
   ]
  },
  {
   "cell_type": "code",
   "execution_count": null,
   "id": "ca12b53a-7a3b-4a31-8074-d65afb7a3ea2",
   "metadata": {},
   "outputs": [],
   "source": [
    "boost = xgb.XGBClassifier(n_estimators=100)"
   ]
  },
  {
   "cell_type": "code",
   "execution_count": null,
   "id": "26812f84-70fe-46b4-8a66-d7725d0b43b9",
   "metadata": {},
   "outputs": [],
   "source": [
    "boost.fit(df_upsampled, y_up)"
   ]
  },
  {
   "cell_type": "code",
   "execution_count": null,
   "id": "306eaca6-cc91-4c41-9661-a3bce84a6736",
   "metadata": {},
   "outputs": [],
   "source": [
    "preds = boost.predict(val_scaled)\n",
    "acc_xgb = (preds == y_val).sum().astype(float) / len(preds)*100"
   ]
  },
  {
   "cell_type": "code",
   "execution_count": null,
   "id": "0fc03630-18d7-45d0-932b-56c92e64d6e3",
   "metadata": {},
   "outputs": [],
   "source": [
    "print(classification_report(y_val, preds))"
   ]
  },
  {
   "cell_type": "code",
   "execution_count": null,
   "id": "95a52965-f054-43d1-b83b-34993579afdd",
   "metadata": {},
   "outputs": [],
   "source": [
    "params = bootstrap=True, \n",
    "                            class_weight= 'balanced', \n",
    "                            criterion='entropy',\n",
    "                            min_samples_leaf=3,\n",
    "                            n_estimators=100,\n",
    "                            max_depth=5, \n",
    "                            random_state=91"
   ]
  },
  {
   "cell_type": "code",
   "execution_count": 97,
   "id": "4b3345a5-cde2-432a-9dc0-c5adc456387e",
   "metadata": {},
   "outputs": [],
   "source": [
    "cv = xgb.XGBClassifier(n_estimators = 100, max_depth = 7, max_leaves = 3, learning_rate = .3, \n",
    "                       min_child_weight = 1, \n",
    "                       eval_metric = 'aucpr', early_stopping_rounds = 1)"
   ]
  },
  {
   "cell_type": "code",
   "execution_count": 98,
   "id": "c2889262-e644-4893-b661-602e4a787de3",
   "metadata": {},
   "outputs": [
    {
     "name": "stdout",
     "output_type": "stream",
     "text": [
      "[0]\tvalidation_0-aucpr:0.46832\tvalidation_1-aucpr:0.08505\n",
      "[1]\tvalidation_0-aucpr:0.66163\tvalidation_1-aucpr:0.09241\n"
     ]
    }
   ],
   "source": [
    "cv = cv.fit(X = df_upsampled, y = y_up, eval_set=[(df_upsampled, y_up), (val_scaled, y_val)])"
   ]
  },
  {
   "cell_type": "code",
   "execution_count": 99,
   "id": "eaac65d7-b502-4be8-85c9-765f60283427",
   "metadata": {},
   "outputs": [],
   "source": [
    "val_preds = cv.predict(val_scaled)"
   ]
  },
  {
   "cell_type": "code",
   "execution_count": 100,
   "id": "05afdf83-20b4-4626-9401-1cf5778ec316",
   "metadata": {},
   "outputs": [
    {
     "name": "stdout",
     "output_type": "stream",
     "text": [
      "              precision    recall  f1-score   support\n",
      "\n",
      "           0       0.96      0.99      0.98      1154\n",
      "           1       0.27      0.07      0.11        46\n",
      "\n",
      "    accuracy                           0.96      1200\n",
      "   macro avg       0.62      0.53      0.54      1200\n",
      "weighted avg       0.94      0.96      0.94      1200\n",
      "\n"
     ]
    }
   ],
   "source": [
    "print(classification_report(y_val, val_preds))"
   ]
  },
  {
   "cell_type": "code",
   "execution_count": 101,
   "id": "d8cfcfa6-04d3-4cfa-8ba3-a7e4227f1f40",
   "metadata": {},
   "outputs": [],
   "source": [
    "cv_params = {'subsample': [0.8,0.9,1], 'max_delta_step': [0,1,2,4]}\n",
    "fix_params = {'learning_rate': 0.2, 'n_estimators': 100, 'objective': 'binary:logistic', 'max_depth': 5, 'min_child_weight':3}"
   ]
  },
  {
   "cell_type": "code",
   "execution_count": 104,
   "id": "b7009205-76f4-4ce6-a994-f87cafd4db57",
   "metadata": {},
   "outputs": [
    {
     "data": {
      "text/plain": [
       "{'max_delta_step': 0, 'subsample': 0.8}"
      ]
     },
     "execution_count": 104,
     "metadata": {},
     "output_type": "execute_result"
    }
   ],
   "source": [
    "csv = GridSearchCV(xgb.XGBClassifier(**fix_params), cv_params, scoring = 'roc_auc', cv = 5) \n",
    "csv.fit(df_upsampled, y_up)\n",
    "csv.best_params_\n"
   ]
  },
  {
   "cell_type": "code",
   "execution_count": 105,
   "id": "9ade9cbf-8fda-44b2-98d1-74977e2bcec1",
   "metadata": {},
   "outputs": [],
   "source": [
    "fix_params['max_delta_step'] = 0"
   ]
  },
  {
   "cell_type": "code",
   "execution_count": 106,
   "id": "14315efb-0ff6-4a8e-82d9-79e75845963b",
   "metadata": {},
   "outputs": [],
   "source": [
    "fix_params['subsample'] = .8"
   ]
  },
  {
   "cell_type": "code",
   "execution_count": 111,
   "id": "1ee8c9a9-57b5-4989-9b1c-d8fee923cf25",
   "metadata": {},
   "outputs": [],
   "source": [
    "clf = xgb.XGBClassifier(**fix_params, early_stopping_rounds = 1)\n"
   ]
  },
  {
   "cell_type": "code",
   "execution_count": 112,
   "id": "48628659-1b80-4b65-861e-1a5c536f6f01",
   "metadata": {},
   "outputs": [
    {
     "name": "stdout",
     "output_type": "stream",
     "text": [
      "[0]\tvalidation_0-logloss:0.55543\tvalidation_1-logloss:0.55175\n",
      "[1]\tvalidation_0-logloss:0.46213\tvalidation_1-logloss:0.45387\n",
      "[2]\tvalidation_0-logloss:0.39477\tvalidation_1-logloss:0.38352\n",
      "[3]\tvalidation_0-logloss:0.34408\tvalidation_1-logloss:0.33125\n",
      "[4]\tvalidation_0-logloss:0.30538\tvalidation_1-logloss:0.29394\n",
      "[5]\tvalidation_0-logloss:0.27434\tvalidation_1-logloss:0.26467\n",
      "[6]\tvalidation_0-logloss:0.24993\tvalidation_1-logloss:0.24147\n",
      "[7]\tvalidation_0-logloss:0.23146\tvalidation_1-logloss:0.22318\n",
      "[8]\tvalidation_0-logloss:0.21615\tvalidation_1-logloss:0.20863\n",
      "[9]\tvalidation_0-logloss:0.20167\tvalidation_1-logloss:0.19870\n",
      "[10]\tvalidation_0-logloss:0.18997\tvalidation_1-logloss:0.18897\n",
      "[11]\tvalidation_0-logloss:0.18199\tvalidation_1-logloss:0.18170\n",
      "[12]\tvalidation_0-logloss:0.17552\tvalidation_1-logloss:0.17653\n",
      "[13]\tvalidation_0-logloss:0.16721\tvalidation_1-logloss:0.17352\n",
      "[14]\tvalidation_0-logloss:0.16263\tvalidation_1-logloss:0.16985\n",
      "[15]\tvalidation_0-logloss:0.15833\tvalidation_1-logloss:0.16701\n",
      "[16]\tvalidation_0-logloss:0.15272\tvalidation_1-logloss:0.16560\n",
      "[17]\tvalidation_0-logloss:0.14784\tvalidation_1-logloss:0.16384\n",
      "[18]\tvalidation_0-logloss:0.14441\tvalidation_1-logloss:0.16217\n",
      "[19]\tvalidation_0-logloss:0.14147\tvalidation_1-logloss:0.16138\n"
     ]
    }
   ],
   "source": [
    "clf = clf.fit(X = df_upsampled, y = y_up, eval_set=[(df_upsampled, y_up), (val_scaled, y_val)])"
   ]
  },
  {
   "cell_type": "code",
   "execution_count": 113,
   "id": "6c1f45e7-f6c2-44bc-98cd-8d4722a9563c",
   "metadata": {},
   "outputs": [],
   "source": [
    "val_pred = clf.predict(val_scaled)"
   ]
  },
  {
   "cell_type": "code",
   "execution_count": 117,
   "id": "be5d9aac-fa8f-4bf3-9dc7-2fe70085c40b",
   "metadata": {},
   "outputs": [
    {
     "name": "stdout",
     "output_type": "stream",
     "text": [
      "              precision    recall  f1-score   support\n",
      "\n",
      "           0       0.96      1.00      0.98      1154\n",
      "           1       0.00      0.00      0.00        46\n",
      "\n",
      "    accuracy                           0.96      1200\n",
      "   macro avg       0.48      0.50      0.49      1200\n",
      "weighted avg       0.92      0.96      0.94      1200\n",
      "\n"
     ]
    }
   ],
   "source": [
    "print(classification_report(y_val, val_pred))"
   ]
  },
  {
   "cell_type": "code",
   "execution_count": null,
   "id": "79305fca-f250-41c6-99df-19c14c333d00",
   "metadata": {},
   "outputs": [],
   "source": []
  }
 ],
 "metadata": {
  "kernelspec": {
   "display_name": "Python 3 (ipykernel)",
   "language": "python",
   "name": "python3"
  },
  "language_info": {
   "codemirror_mode": {
    "name": "ipython",
    "version": 3
   },
   "file_extension": ".py",
   "mimetype": "text/x-python",
   "name": "python",
   "nbconvert_exporter": "python",
   "pygments_lexer": "ipython3",
   "version": "3.9.13"
  }
 },
 "nbformat": 4,
 "nbformat_minor": 5
}
