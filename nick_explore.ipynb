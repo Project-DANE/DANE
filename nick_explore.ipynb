{
 "cells": [
  {
   "cell_type": "code",
   "execution_count": 12,
   "id": "d7e7c069",
   "metadata": {},
   "outputs": [],
   "source": [
    "import pandas as pd\n",
    "import numpy as np \n",
    "\n",
    "import matplotlib.pyplot as plt\n",
    "import seaborn as sns\n",
    "\n",
    "import wrangle as w\n",
    "import explore as e\n",
    "\n",
    "from scipy import stats\n",
    "from scipy.stats import pearsonr\n",
    "from sklearn.preprocessing import StandardScaler\n",
    "\n",
    "import warnings\n",
    "warnings.filterwarnings('ignore')"
   ]
  },
  {
   "cell_type": "code",
   "execution_count": 13,
   "id": "862f6bad",
   "metadata": {},
   "outputs": [],
   "source": [
    "df = w.get_cws_data()"
   ]
  },
  {
   "cell_type": "code",
   "execution_count": 14,
   "id": "9e3e6a8f",
   "metadata": {},
   "outputs": [
    {
     "data": {
      "text/html": [
       "<div>\n",
       "<style scoped>\n",
       "    .dataframe tbody tr th:only-of-type {\n",
       "        vertical-align: middle;\n",
       "    }\n",
       "\n",
       "    .dataframe tbody tr th {\n",
       "        vertical-align: top;\n",
       "    }\n",
       "\n",
       "    .dataframe thead th {\n",
       "        text-align: right;\n",
       "    }\n",
       "</style>\n",
       "<table border=\"1\" class=\"dataframe\">\n",
       "  <thead>\n",
       "    <tr style=\"text-align: right;\">\n",
       "      <th></th>\n",
       "      <th>id</th>\n",
       "      <th>total_charges</th>\n",
       "      <th>amount_paid</th>\n",
       "      <th>open</th>\n",
       "      <th>charge_code</th>\n",
       "      <th>description</th>\n",
       "      <th>prop_id</th>\n",
       "      <th>charge_name</th>\n",
       "      <th>sStatus</th>\n",
       "      <th>rent</th>\n",
       "      <th>term</th>\n",
       "      <th>monthly_inc</th>\n",
       "      <th>GuarantorRequired</th>\n",
       "      <th>total_inc</th>\n",
       "      <th>Recommendation</th>\n",
       "      <th>age</th>\n",
       "      <th>risk_score</th>\n",
       "      <th>reason</th>\n",
       "      <th>bad_resident</th>\n",
       "    </tr>\n",
       "  </thead>\n",
       "  <tbody>\n",
       "    <tr>\n",
       "      <th>0</th>\n",
       "      <td>3946</td>\n",
       "      <td>75.00</td>\n",
       "      <td>75.00</td>\n",
       "      <td>0</td>\n",
       "      <td>131</td>\n",
       "      <td>Uncllctbl key, remote fees</td>\n",
       "      <td>136</td>\n",
       "      <td>Uncllctbl key, remote fees</td>\n",
       "      <td>Current</td>\n",
       "      <td>1311</td>\n",
       "      <td>15</td>\n",
       "      <td>52500</td>\n",
       "      <td>False</td>\n",
       "      <td>666000</td>\n",
       "      <td>Accept</td>\n",
       "      <td>33</td>\n",
       "      <td>745</td>\n",
       "      <td>Insufficient period of Residence History</td>\n",
       "      <td>1</td>\n",
       "    </tr>\n",
       "    <tr>\n",
       "      <th>1</th>\n",
       "      <td>3962</td>\n",
       "      <td>13.66</td>\n",
       "      <td>13.66</td>\n",
       "      <td>0</td>\n",
       "      <td>112</td>\n",
       "      <td>Water 8/1/2021-9/1/2021</td>\n",
       "      <td>136</td>\n",
       "      <td>Utility-water charges</td>\n",
       "      <td>Current</td>\n",
       "      <td>1661</td>\n",
       "      <td>12</td>\n",
       "      <td>65000</td>\n",
       "      <td>False</td>\n",
       "      <td>889992</td>\n",
       "      <td>Accept with Conditions (Extra Deposit)</td>\n",
       "      <td>27</td>\n",
       "      <td>758</td>\n",
       "      <td>No Credit Experience</td>\n",
       "      <td>0</td>\n",
       "    </tr>\n",
       "    <tr>\n",
       "      <th>2</th>\n",
       "      <td>4050</td>\n",
       "      <td>46.17</td>\n",
       "      <td>46.17</td>\n",
       "      <td>0</td>\n",
       "      <td>155</td>\n",
       "      <td>Damage charges - Clean</td>\n",
       "      <td>136</td>\n",
       "      <td>Damage charges</td>\n",
       "      <td>Current</td>\n",
       "      <td>1412</td>\n",
       "      <td>12</td>\n",
       "      <td>48000</td>\n",
       "      <td>False</td>\n",
       "      <td>576000</td>\n",
       "      <td>Accept with Conditions (Extra Deposit)</td>\n",
       "      <td>33</td>\n",
       "      <td>666</td>\n",
       "      <td>Insufficient period of Residence History</td>\n",
       "      <td>1</td>\n",
       "    </tr>\n",
       "    <tr>\n",
       "      <th>3</th>\n",
       "      <td>4948</td>\n",
       "      <td>9.76</td>\n",
       "      <td>9.76</td>\n",
       "      <td>0</td>\n",
       "      <td>111</td>\n",
       "      <td>Sewer Charge</td>\n",
       "      <td>140</td>\n",
       "      <td>Utility-sewer charges</td>\n",
       "      <td>Current</td>\n",
       "      <td>1377</td>\n",
       "      <td>18</td>\n",
       "      <td>72000</td>\n",
       "      <td>False</td>\n",
       "      <td>0</td>\n",
       "      <td>A-Criminal History Meets Requirements</td>\n",
       "      <td>39</td>\n",
       "      <td>0</td>\n",
       "      <td>Meets All Property Requirements</td>\n",
       "      <td>0</td>\n",
       "    </tr>\n",
       "    <tr>\n",
       "      <th>4</th>\n",
       "      <td>5001</td>\n",
       "      <td>6.85</td>\n",
       "      <td>6.85</td>\n",
       "      <td>0</td>\n",
       "      <td>113</td>\n",
       "      <td>Sewer Base Charge</td>\n",
       "      <td>140</td>\n",
       "      <td>Utility-water flat base charges</td>\n",
       "      <td>Current</td>\n",
       "      <td>2199</td>\n",
       "      <td>13</td>\n",
       "      <td>0</td>\n",
       "      <td>True</td>\n",
       "      <td>54996</td>\n",
       "      <td>Accept with Conditions (Guarantor)</td>\n",
       "      <td>23</td>\n",
       "      <td>752</td>\n",
       "      <td>NaN</td>\n",
       "      <td>0</td>\n",
       "    </tr>\n",
       "    <tr>\n",
       "      <th>...</th>\n",
       "      <td>...</td>\n",
       "      <td>...</td>\n",
       "      <td>...</td>\n",
       "      <td>...</td>\n",
       "      <td>...</td>\n",
       "      <td>...</td>\n",
       "      <td>...</td>\n",
       "      <td>...</td>\n",
       "      <td>...</td>\n",
       "      <td>...</td>\n",
       "      <td>...</td>\n",
       "      <td>...</td>\n",
       "      <td>...</td>\n",
       "      <td>...</td>\n",
       "      <td>...</td>\n",
       "      <td>...</td>\n",
       "      <td>...</td>\n",
       "      <td>...</td>\n",
       "      <td>...</td>\n",
       "    </tr>\n",
       "    <tr>\n",
       "      <th>4994</th>\n",
       "      <td>74033</td>\n",
       "      <td>1439.37</td>\n",
       "      <td>1439.37</td>\n",
       "      <td>0</td>\n",
       "      <td>74</td>\n",
       "      <td>Rent for 29 days</td>\n",
       "      <td>85</td>\n",
       "      <td>Rent</td>\n",
       "      <td>Current</td>\n",
       "      <td>1489</td>\n",
       "      <td>12</td>\n",
       "      <td>0</td>\n",
       "      <td>True</td>\n",
       "      <td>0</td>\n",
       "      <td>Accept with Conditions (Guarantor)</td>\n",
       "      <td>24</td>\n",
       "      <td>708</td>\n",
       "      <td>Insufficient Income to Support Rent</td>\n",
       "      <td>0</td>\n",
       "    </tr>\n",
       "    <tr>\n",
       "      <th>4995</th>\n",
       "      <td>74056</td>\n",
       "      <td>150.00</td>\n",
       "      <td>150.00</td>\n",
       "      <td>0</td>\n",
       "      <td>162</td>\n",
       "      <td>Deposit Waiver Fee (Amount subject to screenin...</td>\n",
       "      <td>152</td>\n",
       "      <td>Deposit waiver fee</td>\n",
       "      <td>Current</td>\n",
       "      <td>1859</td>\n",
       "      <td>13</td>\n",
       "      <td>10000</td>\n",
       "      <td>False</td>\n",
       "      <td>121776</td>\n",
       "      <td>Accept</td>\n",
       "      <td>32</td>\n",
       "      <td>786</td>\n",
       "      <td>Meets All Property Requirements</td>\n",
       "      <td>0</td>\n",
       "    </tr>\n",
       "    <tr>\n",
       "      <th>4996</th>\n",
       "      <td>74230</td>\n",
       "      <td>5.00</td>\n",
       "      <td>5.00</td>\n",
       "      <td>0</td>\n",
       "      <td>186</td>\n",
       "      <td>Convenience Fee</td>\n",
       "      <td>61</td>\n",
       "      <td>OSP resident convenience fee</td>\n",
       "      <td>Current</td>\n",
       "      <td>1439</td>\n",
       "      <td>12</td>\n",
       "      <td>4350</td>\n",
       "      <td>False</td>\n",
       "      <td>57432</td>\n",
       "      <td>Accept with Conditions (Extra Deposit)</td>\n",
       "      <td>36</td>\n",
       "      <td>691</td>\n",
       "      <td>Limited period of Residence History</td>\n",
       "      <td>0</td>\n",
       "    </tr>\n",
       "    <tr>\n",
       "      <th>4997</th>\n",
       "      <td>74231</td>\n",
       "      <td>5.00</td>\n",
       "      <td>5.00</td>\n",
       "      <td>0</td>\n",
       "      <td>186</td>\n",
       "      <td>Convenience Fee (ray farmer)</td>\n",
       "      <td>83</td>\n",
       "      <td>OSP resident convenience fee</td>\n",
       "      <td>Current</td>\n",
       "      <td>1739</td>\n",
       "      <td>12</td>\n",
       "      <td>7916</td>\n",
       "      <td>False</td>\n",
       "      <td>94992</td>\n",
       "      <td>Accept</td>\n",
       "      <td>47</td>\n",
       "      <td>770</td>\n",
       "      <td>Meets All Property Requirements</td>\n",
       "      <td>0</td>\n",
       "    </tr>\n",
       "    <tr>\n",
       "      <th>4998</th>\n",
       "      <td>74273</td>\n",
       "      <td>3.33</td>\n",
       "      <td>3.33</td>\n",
       "      <td>0</td>\n",
       "      <td>180</td>\n",
       "      <td>Administration Processing Fee for 25 days</td>\n",
       "      <td>112</td>\n",
       "      <td>Administration processing fee</td>\n",
       "      <td>Current</td>\n",
       "      <td>2489</td>\n",
       "      <td>15</td>\n",
       "      <td>4800</td>\n",
       "      <td>False</td>\n",
       "      <td>153816</td>\n",
       "      <td>Accept with Conditions (Max Deposit)</td>\n",
       "      <td>37</td>\n",
       "      <td>595</td>\n",
       "      <td>High level of Charge-offs</td>\n",
       "      <td>0</td>\n",
       "    </tr>\n",
       "  </tbody>\n",
       "</table>\n",
       "<p>4999 rows × 19 columns</p>\n",
       "</div>"
      ],
      "text/plain": [
       "         id  total_charges  amount_paid  open  charge_code  \\\n",
       "0      3946          75.00        75.00     0          131   \n",
       "1      3962          13.66        13.66     0          112   \n",
       "2      4050          46.17        46.17     0          155   \n",
       "3      4948           9.76         9.76     0          111   \n",
       "4      5001           6.85         6.85     0          113   \n",
       "...     ...            ...          ...   ...          ...   \n",
       "4994  74033        1439.37      1439.37     0           74   \n",
       "4995  74056         150.00       150.00     0          162   \n",
       "4996  74230           5.00         5.00     0          186   \n",
       "4997  74231           5.00         5.00     0          186   \n",
       "4998  74273           3.33         3.33     0          180   \n",
       "\n",
       "                                            description  prop_id  \\\n",
       "0                            Uncllctbl key, remote fees      136   \n",
       "1                               Water 8/1/2021-9/1/2021      136   \n",
       "2                                Damage charges - Clean      136   \n",
       "3                                          Sewer Charge      140   \n",
       "4                                     Sewer Base Charge      140   \n",
       "...                                                 ...      ...   \n",
       "4994                                   Rent for 29 days       85   \n",
       "4995  Deposit Waiver Fee (Amount subject to screenin...      152   \n",
       "4996                                    Convenience Fee       61   \n",
       "4997                       Convenience Fee (ray farmer)       83   \n",
       "4998          Administration Processing Fee for 25 days      112   \n",
       "\n",
       "                          charge_name  sStatus  rent  term  monthly_inc  \\\n",
       "0          Uncllctbl key, remote fees  Current  1311    15        52500   \n",
       "1               Utility-water charges  Current  1661    12        65000   \n",
       "2                      Damage charges  Current  1412    12        48000   \n",
       "3               Utility-sewer charges  Current  1377    18        72000   \n",
       "4     Utility-water flat base charges  Current  2199    13            0   \n",
       "...                               ...      ...   ...   ...          ...   \n",
       "4994                             Rent  Current  1489    12            0   \n",
       "4995               Deposit waiver fee  Current  1859    13        10000   \n",
       "4996     OSP resident convenience fee  Current  1439    12         4350   \n",
       "4997     OSP resident convenience fee  Current  1739    12         7916   \n",
       "4998    Administration processing fee  Current  2489    15         4800   \n",
       "\n",
       "      GuarantorRequired  total_inc                          Recommendation  \\\n",
       "0                 False     666000                                  Accept   \n",
       "1                 False     889992  Accept with Conditions (Extra Deposit)   \n",
       "2                 False     576000  Accept with Conditions (Extra Deposit)   \n",
       "3                 False          0   A-Criminal History Meets Requirements   \n",
       "4                  True      54996      Accept with Conditions (Guarantor)   \n",
       "...                 ...        ...                                     ...   \n",
       "4994               True          0      Accept with Conditions (Guarantor)   \n",
       "4995              False     121776                                  Accept   \n",
       "4996              False      57432  Accept with Conditions (Extra Deposit)   \n",
       "4997              False      94992                                  Accept   \n",
       "4998              False     153816    Accept with Conditions (Max Deposit)   \n",
       "\n",
       "      age  risk_score                                    reason  bad_resident  \n",
       "0      33         745  Insufficient period of Residence History             1  \n",
       "1      27         758                      No Credit Experience             0  \n",
       "2      33         666  Insufficient period of Residence History             1  \n",
       "3      39           0           Meets All Property Requirements             0  \n",
       "4      23         752                                       NaN             0  \n",
       "...   ...         ...                                       ...           ...  \n",
       "4994   24         708       Insufficient Income to Support Rent             0  \n",
       "4995   32         786           Meets All Property Requirements             0  \n",
       "4996   36         691       Limited period of Residence History             0  \n",
       "4997   47         770           Meets All Property Requirements             0  \n",
       "4998   37         595                 High level of Charge-offs             0  \n",
       "\n",
       "[4999 rows x 19 columns]"
      ]
     },
     "execution_count": 14,
     "metadata": {},
     "output_type": "execute_result"
    }
   ],
   "source": [
    "df"
   ]
  },
  {
   "cell_type": "code",
   "execution_count": 15,
   "id": "f61596a5",
   "metadata": {},
   "outputs": [],
   "source": [
    "charge_codes = [96, 105, 106, 115, 127, 131, 137, 138,142, 148, 154,\n",
    "                155, 156, 163, 166, 169, 183, 189, 192, 229, 231, 233,\n",
    "                245, 246, 247, 248, 249,250, 251, 253, 268, 298]"
   ]
  },
  {
   "cell_type": "code",
   "execution_count": 16,
   "id": "da07225c",
   "metadata": {},
   "outputs": [],
   "source": [
    "#split data\n",
    "\n",
    "train, validate, test, X_train, y_train, X_val, y_val, X_test, y_test = w.train_vailidate_test_split(df, 'bad_resident', 'bad_resident')"
   ]
  },
  {
   "cell_type": "code",
   "execution_count": 17,
   "id": "f0a3c23f",
   "metadata": {},
   "outputs": [
    {
     "data": {
      "text/plain": [
       "((2799, 19), (1200, 19), (1000, 19))"
      ]
     },
     "execution_count": 17,
     "metadata": {},
     "output_type": "execute_result"
    }
   ],
   "source": [
    "train.shape, validate.shape, test.shape"
   ]
  },
  {
   "cell_type": "markdown",
   "id": "a8bf9c08",
   "metadata": {},
   "source": [
    "### Are certain age groups more likely to cause damage?"
   ]
  },
  {
   "cell_type": "code",
   "execution_count": 18,
   "id": "0da2b177",
   "metadata": {},
   "outputs": [
    {
     "data": {
      "text/plain": [
       "107"
      ]
     },
     "execution_count": 18,
     "metadata": {},
     "output_type": "execute_result"
    }
   ],
   "source": [
    "len(train[train.bad_resident == 1])"
   ]
  },
  {
   "cell_type": "code",
   "execution_count": 19,
   "id": "307508b3",
   "metadata": {},
   "outputs": [
    {
     "data": {
      "text/html": [
       "<div>\n",
       "<style scoped>\n",
       "    .dataframe tbody tr th:only-of-type {\n",
       "        vertical-align: middle;\n",
       "    }\n",
       "\n",
       "    .dataframe tbody tr th {\n",
       "        vertical-align: top;\n",
       "    }\n",
       "\n",
       "    .dataframe thead th {\n",
       "        text-align: right;\n",
       "    }\n",
       "</style>\n",
       "<table border=\"1\" class=\"dataframe\">\n",
       "  <thead>\n",
       "    <tr style=\"text-align: right;\">\n",
       "      <th></th>\n",
       "      <th>id</th>\n",
       "      <th>total_charges</th>\n",
       "      <th>amount_paid</th>\n",
       "      <th>open</th>\n",
       "      <th>charge_code</th>\n",
       "      <th>description</th>\n",
       "      <th>prop_id</th>\n",
       "      <th>charge_name</th>\n",
       "      <th>sStatus</th>\n",
       "      <th>rent</th>\n",
       "      <th>term</th>\n",
       "      <th>monthly_inc</th>\n",
       "      <th>GuarantorRequired</th>\n",
       "      <th>total_inc</th>\n",
       "      <th>Recommendation</th>\n",
       "      <th>age</th>\n",
       "      <th>risk_score</th>\n",
       "      <th>reason</th>\n",
       "      <th>bad_resident</th>\n",
       "    </tr>\n",
       "  </thead>\n",
       "  <tbody>\n",
       "    <tr>\n",
       "      <th>2707</th>\n",
       "      <td>63851</td>\n",
       "      <td>2.00</td>\n",
       "      <td>2.00</td>\n",
       "      <td>0</td>\n",
       "      <td>190</td>\n",
       "      <td>Pest control (02/2023)</td>\n",
       "      <td>126</td>\n",
       "      <td>Pest control</td>\n",
       "      <td>Current</td>\n",
       "      <td>1639</td>\n",
       "      <td>12</td>\n",
       "      <td>3900</td>\n",
       "      <td>False</td>\n",
       "      <td>0</td>\n",
       "      <td>A-Criminal History Meets Requirements</td>\n",
       "      <td>27</td>\n",
       "      <td>0</td>\n",
       "      <td>Meets All Property Requirements</td>\n",
       "      <td>0</td>\n",
       "    </tr>\n",
       "    <tr>\n",
       "      <th>4983</th>\n",
       "      <td>73919</td>\n",
       "      <td>1650.00</td>\n",
       "      <td>1650.00</td>\n",
       "      <td>0</td>\n",
       "      <td>21</td>\n",
       "      <td>Deposit (Amounts subject to screening results)</td>\n",
       "      <td>103</td>\n",
       "      <td>Deposit received</td>\n",
       "      <td>Current</td>\n",
       "      <td>1719</td>\n",
       "      <td>12</td>\n",
       "      <td>6600</td>\n",
       "      <td>False</td>\n",
       "      <td>75684</td>\n",
       "      <td>Accept with Conditions (Extra Deposit)</td>\n",
       "      <td>31</td>\n",
       "      <td>745</td>\n",
       "      <td>NaN</td>\n",
       "      <td>0</td>\n",
       "    </tr>\n",
       "    <tr>\n",
       "      <th>4959</th>\n",
       "      <td>73653</td>\n",
       "      <td>4.00</td>\n",
       "      <td>4.00</td>\n",
       "      <td>0</td>\n",
       "      <td>180</td>\n",
       "      <td>Next Month's Administration Processing Fee</td>\n",
       "      <td>84</td>\n",
       "      <td>Administration processing fee</td>\n",
       "      <td>Current</td>\n",
       "      <td>1661</td>\n",
       "      <td>9</td>\n",
       "      <td>8176</td>\n",
       "      <td>False</td>\n",
       "      <td>221364</td>\n",
       "      <td>Accept with Conditions (Extra Deposit)</td>\n",
       "      <td>37</td>\n",
       "      <td>687</td>\n",
       "      <td>Limited period of Employment History</td>\n",
       "      <td>0</td>\n",
       "    </tr>\n",
       "    <tr>\n",
       "      <th>4492</th>\n",
       "      <td>70961</td>\n",
       "      <td>0.33</td>\n",
       "      <td>0.33</td>\n",
       "      <td>0</td>\n",
       "      <td>190</td>\n",
       "      <td>Pest Control for 5 days</td>\n",
       "      <td>80</td>\n",
       "      <td>Pest control</td>\n",
       "      <td>Current</td>\n",
       "      <td>1579</td>\n",
       "      <td>14</td>\n",
       "      <td>5000</td>\n",
       "      <td>False</td>\n",
       "      <td>101976</td>\n",
       "      <td>Accept</td>\n",
       "      <td>29</td>\n",
       "      <td>782</td>\n",
       "      <td>Meets All Property Requirements</td>\n",
       "      <td>0</td>\n",
       "    </tr>\n",
       "    <tr>\n",
       "      <th>995</th>\n",
       "      <td>33019</td>\n",
       "      <td>1.17</td>\n",
       "      <td>1.17</td>\n",
       "      <td>0</td>\n",
       "      <td>190</td>\n",
       "      <td>Pest Control for 7 days</td>\n",
       "      <td>139</td>\n",
       "      <td>Pest control</td>\n",
       "      <td>Current</td>\n",
       "      <td>1779</td>\n",
       "      <td>13</td>\n",
       "      <td>7500</td>\n",
       "      <td>False</td>\n",
       "      <td>90000</td>\n",
       "      <td>Accept</td>\n",
       "      <td>31</td>\n",
       "      <td>724</td>\n",
       "      <td>Meets All Property Requirements</td>\n",
       "      <td>0</td>\n",
       "    </tr>\n",
       "    <tr>\n",
       "      <th>...</th>\n",
       "      <td>...</td>\n",
       "      <td>...</td>\n",
       "      <td>...</td>\n",
       "      <td>...</td>\n",
       "      <td>...</td>\n",
       "      <td>...</td>\n",
       "      <td>...</td>\n",
       "      <td>...</td>\n",
       "      <td>...</td>\n",
       "      <td>...</td>\n",
       "      <td>...</td>\n",
       "      <td>...</td>\n",
       "      <td>...</td>\n",
       "      <td>...</td>\n",
       "      <td>...</td>\n",
       "      <td>...</td>\n",
       "      <td>...</td>\n",
       "      <td>...</td>\n",
       "      <td>...</td>\n",
       "    </tr>\n",
       "    <tr>\n",
       "      <th>987</th>\n",
       "      <td>32986</td>\n",
       "      <td>17.20</td>\n",
       "      <td>0.00</td>\n",
       "      <td>-1</td>\n",
       "      <td>112</td>\n",
       "      <td>Water Charge</td>\n",
       "      <td>65</td>\n",
       "      <td>Utility-water charges</td>\n",
       "      <td>Current</td>\n",
       "      <td>1789</td>\n",
       "      <td>5</td>\n",
       "      <td>5600</td>\n",
       "      <td>False</td>\n",
       "      <td>67200</td>\n",
       "      <td>REJECT</td>\n",
       "      <td>33</td>\n",
       "      <td>564</td>\n",
       "      <td>Severe level of Charge-offs</td>\n",
       "      <td>0</td>\n",
       "    </tr>\n",
       "    <tr>\n",
       "      <th>2512</th>\n",
       "      <td>63297</td>\n",
       "      <td>50.00</td>\n",
       "      <td>50.00</td>\n",
       "      <td>0</td>\n",
       "      <td>170</td>\n",
       "      <td>Storage space charges (01/2023)</td>\n",
       "      <td>150</td>\n",
       "      <td>Storage space charges</td>\n",
       "      <td>Current</td>\n",
       "      <td>2149</td>\n",
       "      <td>12</td>\n",
       "      <td>6334</td>\n",
       "      <td>False</td>\n",
       "      <td>6000</td>\n",
       "      <td>Accept</td>\n",
       "      <td>35</td>\n",
       "      <td>740</td>\n",
       "      <td>Meets All Property Requirements</td>\n",
       "      <td>0</td>\n",
       "    </tr>\n",
       "    <tr>\n",
       "      <th>443</th>\n",
       "      <td>21611</td>\n",
       "      <td>40.00</td>\n",
       "      <td>40.00</td>\n",
       "      <td>0</td>\n",
       "      <td>157</td>\n",
       "      <td>Appliance rent (12/2022)</td>\n",
       "      <td>134</td>\n",
       "      <td>Appliance rent</td>\n",
       "      <td>Current</td>\n",
       "      <td>1849</td>\n",
       "      <td>14</td>\n",
       "      <td>5200</td>\n",
       "      <td>False</td>\n",
       "      <td>87492</td>\n",
       "      <td>Accept with Conditions (Max Deposit)</td>\n",
       "      <td>23</td>\n",
       "      <td>598</td>\n",
       "      <td>Severe level of Charge-offs</td>\n",
       "      <td>0</td>\n",
       "    </tr>\n",
       "    <tr>\n",
       "      <th>4028</th>\n",
       "      <td>68721</td>\n",
       "      <td>4.00</td>\n",
       "      <td>4.00</td>\n",
       "      <td>0</td>\n",
       "      <td>180</td>\n",
       "      <td>Administration processing fee (03/2023)</td>\n",
       "      <td>69</td>\n",
       "      <td>Administration processing fee</td>\n",
       "      <td>Current</td>\n",
       "      <td>1489</td>\n",
       "      <td>13</td>\n",
       "      <td>0</td>\n",
       "      <td>True</td>\n",
       "      <td>0</td>\n",
       "      <td>Accept with Conditions (Guarantor)</td>\n",
       "      <td>22</td>\n",
       "      <td>737</td>\n",
       "      <td>Insufficient Income to Support Rent</td>\n",
       "      <td>0</td>\n",
       "    </tr>\n",
       "    <tr>\n",
       "      <th>4980</th>\n",
       "      <td>73888</td>\n",
       "      <td>26.00</td>\n",
       "      <td>26.00</td>\n",
       "      <td>0</td>\n",
       "      <td>128</td>\n",
       "      <td>Valet Trash for 30 days</td>\n",
       "      <td>65</td>\n",
       "      <td>Trash service fee</td>\n",
       "      <td>Current</td>\n",
       "      <td>1419</td>\n",
       "      <td>15</td>\n",
       "      <td>2000</td>\n",
       "      <td>False</td>\n",
       "      <td>144000</td>\n",
       "      <td>Accept</td>\n",
       "      <td>20</td>\n",
       "      <td>648</td>\n",
       "      <td>No Credit Experience</td>\n",
       "      <td>0</td>\n",
       "    </tr>\n",
       "  </tbody>\n",
       "</table>\n",
       "<p>2799 rows × 19 columns</p>\n",
       "</div>"
      ],
      "text/plain": [
       "         id  total_charges  amount_paid  open  charge_code  \\\n",
       "2707  63851           2.00         2.00     0          190   \n",
       "4983  73919        1650.00      1650.00     0           21   \n",
       "4959  73653           4.00         4.00     0          180   \n",
       "4492  70961           0.33         0.33     0          190   \n",
       "995   33019           1.17         1.17     0          190   \n",
       "...     ...            ...          ...   ...          ...   \n",
       "987   32986          17.20         0.00    -1          112   \n",
       "2512  63297          50.00        50.00     0          170   \n",
       "443   21611          40.00        40.00     0          157   \n",
       "4028  68721           4.00         4.00     0          180   \n",
       "4980  73888          26.00        26.00     0          128   \n",
       "\n",
       "                                         description  prop_id  \\\n",
       "2707                          Pest control (02/2023)      126   \n",
       "4983  Deposit (Amounts subject to screening results)      103   \n",
       "4959      Next Month's Administration Processing Fee       84   \n",
       "4492                         Pest Control for 5 days       80   \n",
       "995                          Pest Control for 7 days      139   \n",
       "...                                              ...      ...   \n",
       "987                                     Water Charge       65   \n",
       "2512                 Storage space charges (01/2023)      150   \n",
       "443                         Appliance rent (12/2022)      134   \n",
       "4028         Administration processing fee (03/2023)       69   \n",
       "4980                         Valet Trash for 30 days       65   \n",
       "\n",
       "                        charge_name  sStatus  rent  term  monthly_inc  \\\n",
       "2707                   Pest control  Current  1639    12         3900   \n",
       "4983               Deposit received  Current  1719    12         6600   \n",
       "4959  Administration processing fee  Current  1661     9         8176   \n",
       "4492                   Pest control  Current  1579    14         5000   \n",
       "995                    Pest control  Current  1779    13         7500   \n",
       "...                             ...      ...   ...   ...          ...   \n",
       "987           Utility-water charges  Current  1789     5         5600   \n",
       "2512          Storage space charges  Current  2149    12         6334   \n",
       "443                  Appliance rent  Current  1849    14         5200   \n",
       "4028  Administration processing fee  Current  1489    13            0   \n",
       "4980              Trash service fee  Current  1419    15         2000   \n",
       "\n",
       "      GuarantorRequired  total_inc                          Recommendation  \\\n",
       "2707              False          0   A-Criminal History Meets Requirements   \n",
       "4983              False      75684  Accept with Conditions (Extra Deposit)   \n",
       "4959              False     221364  Accept with Conditions (Extra Deposit)   \n",
       "4492              False     101976                                  Accept   \n",
       "995               False      90000                                  Accept   \n",
       "...                 ...        ...                                     ...   \n",
       "987               False      67200                                  REJECT   \n",
       "2512              False       6000                                  Accept   \n",
       "443               False      87492    Accept with Conditions (Max Deposit)   \n",
       "4028               True          0      Accept with Conditions (Guarantor)   \n",
       "4980              False     144000                                  Accept   \n",
       "\n",
       "      age  risk_score                                reason  bad_resident  \n",
       "2707   27           0       Meets All Property Requirements             0  \n",
       "4983   31         745                                   NaN             0  \n",
       "4959   37         687  Limited period of Employment History             0  \n",
       "4492   29         782       Meets All Property Requirements             0  \n",
       "995    31         724       Meets All Property Requirements             0  \n",
       "...   ...         ...                                   ...           ...  \n",
       "987    33         564           Severe level of Charge-offs             0  \n",
       "2512   35         740       Meets All Property Requirements             0  \n",
       "443    23         598           Severe level of Charge-offs             0  \n",
       "4028   22         737   Insufficient Income to Support Rent             0  \n",
       "4980   20         648                  No Credit Experience             0  \n",
       "\n",
       "[2799 rows x 19 columns]"
      ]
     },
     "execution_count": 19,
     "metadata": {},
     "output_type": "execute_result"
    }
   ],
   "source": [
    "train"
   ]
  },
  {
   "cell_type": "code",
   "execution_count": 20,
   "id": "53f1ad13",
   "metadata": {},
   "outputs": [
    {
     "data": {
      "text/plain": [
       "count    2799.000000\n",
       "mean       32.730618\n",
       "std        11.151900\n",
       "min         7.000000\n",
       "25%        25.000000\n",
       "50%        29.000000\n",
       "75%        37.000000\n",
       "max        88.000000\n",
       "Name: age, dtype: float64"
      ]
     },
     "execution_count": 20,
     "metadata": {},
     "output_type": "execute_result"
    }
   ],
   "source": [
    "train.age.describe()"
   ]
  },
  {
   "cell_type": "code",
   "execution_count": 21,
   "id": "234f3204",
   "metadata": {},
   "outputs": [
    {
     "data": {
      "text/plain": [
       "<AxesSubplot:xlabel='age'>"
      ]
     },
     "execution_count": 21,
     "metadata": {},
     "output_type": "execute_result"
    },
    {
     "data": {
      "image/png": "[encoded data removed]",
      "text/plain": [
       "<Figure size 640x480 with 1 Axes>"
      ]
     },
     "metadata": {},
     "output_type": "display_data"
    }
   ],
   "source": [
    "sns.boxplot(data = train, x = 'age', orient= 'h')"
   ]
  },
  {
   "cell_type": "code",
   "execution_count": 28,
   "id": "6cd78f54",
   "metadata": {},
   "outputs": [
    {
     "data": {
      "text/plain": [
       "<AxesSubplot:xlabel='age', ylabel='Count'>"
      ]
     },
     "execution_count": 28,
     "metadata": {},
     "output_type": "execute_result"
    },
    {
     "data": {
      "image/png": "[encoded data removed]",
      "text/plain": [
       "<Figure size 640x480 with 1 Axes>"
      ]
     },
     "metadata": {},
     "output_type": "display_data"
    }
   ],
   "source": [
    "bins = [0, 18, 30, 40, 50, 60, 70, 80]\n",
    "sns.histplot(data=train, x=\"age\", bins=bins, hue=\"bad_resident\", multiple=\"stack\")"
   ]
  },
  {
   "cell_type": "code",
   "execution_count": 62,
   "id": "0b36996c",
   "metadata": {},
   "outputs": [],
   "source": [
    "def histplot_n(data, col):\n",
    "    \n",
    "    binss = [10, 15, 20, 25, 30, 35, 40 , 45, 50, 55, 60, 65, 70, 75, 80]\n",
    "    \n",
    "    sns.histplot(data= data, x= col, bins= binss, hue= \"bad_resident\", multiple=\"stack\")\n",
    "    \n",
    "    plt.title(f'{col.capitalize()} Causing The Most Damage')\n",
    "    plt.xlabel(f'{col.capitalize()}')\n",
    "    \n",
    "    plt.legend(labels= ['Bad Resident','Good resident'])\n",
    "    \n",
    "    return plt.show()\n",
    "    "
   ]
  },
  {
   "cell_type": "code",
   "execution_count": 63,
   "id": "abf3a9cf",
   "metadata": {},
   "outputs": [
    {
     "data": {
      "image/png": "[encoded data removed]",
      "text/plain": [
       "<Figure size 640x480 with 1 Axes>"
      ]
     },
     "metadata": {},
     "output_type": "display_data"
    }
   ],
   "source": [
    "histplot_n(train, 'age')"
   ]
  },
  {
   "cell_type": "code",
   "execution_count": 85,
   "id": "8043a9cb",
   "metadata": {},
   "outputs": [],
   "source": [
    "def histplot_br(col):\n",
    "    \n",
    "    binss = [18, 20, 25, 30, 35, 40 , 45, 50, 55, 60, 65, 70, 75, 80]\n",
    "    \n",
    "    bad_resid = train[(train.bad_resident == 1)]\n",
    "    \n",
    "    sns.histplot(data= bad_resid, x= col, bins=binss, color = 'seagreen') \n",
    "    \n",
    "    plt.title(f'{col.capitalize()} Causing The Most Damage')\n",
    "    plt.xlabel(f'{col.capitalize()}')\n",
    "    \n",
    "    return plt.show()"
   ]
  },
  {
   "cell_type": "code",
   "execution_count": 86,
   "id": "d875427c",
   "metadata": {},
   "outputs": [
    {
     "data": {
      "image/png": "[encoded data removed]",
      "text/plain": [
       "<Figure size 640x480 with 1 Axes>"
      ]
     },
     "metadata": {},
     "output_type": "display_data"
    }
   ],
   "source": [
    "histplot_br('age')"
   ]
  },
  {
   "cell_type": "code",
   "execution_count": 71,
   "id": "8e298299",
   "metadata": {},
   "outputs": [
    {
     "data": {
      "text/plain": [
       "<AxesSubplot:xlabel='age', ylabel='Count'>"
      ]
     },
     "execution_count": 71,
     "metadata": {},
     "output_type": "execute_result"
    },
    {
     "data": {
      "image/png": "[encoded data removed]",
      "text/plain": [
       "<Figure size 640x480 with 1 Axes>"
      ]
     },
     "metadata": {},
     "output_type": "display_data"
    }
   ],
   "source": [
    "binss = [0, 5, 10, 15, 20, 25, 30, 35, 40 , 45, 50, 55, 60, 65, 70, 75, 80]\n",
    "sns.histplot(data=bad_resid, x=\"age\", bins=binss) #, hue=\"bad_resident\", multiple=\"stack\")"
   ]
  },
  {
   "cell_type": "code",
   "execution_count": 30,
   "id": "85e1e3aa",
   "metadata": {},
   "outputs": [],
   "source": [
    "age_bin = pd.cut(train.age, bins= binss)"
   ]
  },
  {
   "cell_type": "markdown",
   "id": "a4971671",
   "metadata": {},
   "source": [
    "$H_0$: Age is not dependent on damage\n",
    "\n",
    "$H_a$: Age is dependent on damage"
   ]
  },
  {
   "cell_type": "code",
   "execution_count": 113,
   "id": "39ed7964",
   "metadata": {},
   "outputs": [],
   "source": [
    "def chi_test(train, col = False, bins = False):\n",
    "    '''get result of chi-square test'''\n",
    "    \n",
    "    if bins:\n",
    "    \n",
    "        binss = [0, 5, 10, 15, 20, 25, 30, 35, 40 , 45, 50, 55, 60, 65, 70, 75, 80]\n",
    "        age_bin = pd.cut(train.age, bins= binss)\n",
    "        \n",
    "        observed = pd.crosstab(age_bin, train.bad_resident)\n",
    "        chi2, p, degf, expected = stats.chi2_contingency(observed)\n",
    "    else:\n",
    "        \n",
    "        observed = pd.crosstab(train[col], train.bad_resident)\n",
    "        chi2, p, degf, expected = stats.chi2_contingency(observed)\n",
    "    \n",
    "    𝜶 = .05\n",
    "\n",
    "    if p < 𝜶:\n",
    "        print(\"We reject the null hypothesis.\")\n",
    "    else:\n",
    "        print(\"We fail to reject the null hypothesis.\")\n",
    "    \n",
    "    return print(f'''\n",
    "Chi2 = {chi2:.3f}\n",
    "P-value = {p:.3f}''')\n"
   ]
  },
  {
   "cell_type": "code",
   "execution_count": 114,
   "id": "dde203b3",
   "metadata": {},
   "outputs": [
    {
     "name": "stdout",
     "output_type": "stream",
     "text": [
      "We fail to reject the null hypothesis.\n",
      "\n",
      "Chi2 = 24.848\n",
      "P-value = 0.129\n"
     ]
    }
   ],
   "source": [
    "chi_test(train, col = 'term' )"
   ]
  },
  {
   "cell_type": "code",
   "execution_count": 31,
   "id": "c11d2ddb",
   "metadata": {},
   "outputs": [
    {
     "name": "stdout",
     "output_type": "stream",
     "text": [
      "chi² = 17.909\n",
      "p = 0.161\n"
     ]
    }
   ],
   "source": [
    "chi2,p = e.chi_test(age_bin, train)\n",
    "    \n",
    "print(f'chi² = {chi2:.3f}')\n",
    "print(f'p = {p:.3}')    "
   ]
  },
  {
   "cell_type": "code",
   "execution_count": 32,
   "id": "0963e185",
   "metadata": {},
   "outputs": [
    {
     "name": "stdout",
     "output_type": "stream",
     "text": [
      "We fail to reject the null hypothesis.\n"
     ]
    }
   ],
   "source": [
    "𝜶 = .05\n",
    "\n",
    "if p < 𝜶:\n",
    "    print(\"We reject the null hypothesis.\")\n",
    "else:\n",
    "    print(\"We fail to reject the null hypothesis.\")"
   ]
  },
  {
   "cell_type": "code",
   "execution_count": 33,
   "id": "a9aaecfe",
   "metadata": {},
   "outputs": [],
   "source": [
    "observed = pd.crosstab(train.bad_resident, age_bin)"
   ]
  },
  {
   "cell_type": "code",
   "execution_count": 34,
   "id": "c3c44ad5",
   "metadata": {},
   "outputs": [
    {
     "data": {
      "text/plain": [
       "(17.90873261637582, 0.16101568116307993)"
      ]
     },
     "execution_count": 34,
     "metadata": {},
     "output_type": "execute_result"
    }
   ],
   "source": [
    "chi2, p, degf, expected = stats.chi2_contingency(observed)\n",
    "chi2, p"
   ]
  },
  {
   "cell_type": "markdown",
   "id": "6603bdd3",
   "metadata": {},
   "source": [
    "### Are shorter term rentors causing more damage?"
   ]
  },
  {
   "cell_type": "code",
   "execution_count": 35,
   "id": "d29dbdb7",
   "metadata": {},
   "outputs": [
    {
     "data": {
      "text/plain": [
       "1        8\n",
       "2        5\n",
       "3       11\n",
       "4       16\n",
       "5       20\n",
       "6       73\n",
       "7       21\n",
       "8       25\n",
       "9       20\n",
       "10      22\n",
       "11      58\n",
       "12    1082\n",
       "13     555\n",
       "14     320\n",
       "15     388\n",
       "16      43\n",
       "17      21\n",
       "18     110\n",
       "25       1\n",
       "Name: term, dtype: int64"
      ]
     },
     "execution_count": 35,
     "metadata": {},
     "output_type": "execute_result"
    }
   ],
   "source": [
    "train['term'].value_counts().sort_index()"
   ]
  },
  {
   "cell_type": "code",
   "execution_count": 38,
   "id": "0c5196e5",
   "metadata": {},
   "outputs": [
    {
     "data": {
      "text/plain": [
       "<AxesSubplot:xlabel='term'>"
      ]
     },
     "execution_count": 38,
     "metadata": {},
     "output_type": "execute_result"
    },
    {
     "data": {
      "image/png": "[encoded data removed]",
      "text/plain": [
       "<Figure size 640x480 with 1 Axes>"
      ]
     },
     "metadata": {},
     "output_type": "display_data"
    }
   ],
   "source": [
    "term_len_count = train['term'].value_counts().sort_index()\n",
    "\n",
    "sns.boxplot(data = train, x = 'term', orient= 'h')"
   ]
  },
  {
   "cell_type": "code",
   "execution_count": 39,
   "id": "bbef09fa",
   "metadata": {},
   "outputs": [
    {
     "data": {
      "text/plain": [
       "count    2799.000000\n",
       "mean       12.714184\n",
       "std         2.499703\n",
       "min         1.000000\n",
       "25%        12.000000\n",
       "50%        13.000000\n",
       "75%        14.000000\n",
       "max        25.000000\n",
       "Name: term, dtype: float64"
      ]
     },
     "execution_count": 39,
     "metadata": {},
     "output_type": "execute_result"
    }
   ],
   "source": [
    "train.term.describe()"
   ]
  },
  {
   "cell_type": "code",
   "execution_count": 40,
   "id": "cda99e33",
   "metadata": {},
   "outputs": [
    {
     "data": {
      "image/png": "[encoded data removed]",
      "text/plain": [
       "<Figure size 640x480 with 1 Axes>"
      ]
     },
     "metadata": {},
     "output_type": "display_data"
    }
   ],
   "source": [
    "sns.countplot(train.term,color = 'dodgerblue', ec = 'black' )\n",
    "plt.title(\"Number of residents by term\")\n",
    "plt.show()"
   ]
  },
  {
   "cell_type": "code",
   "execution_count": 41,
   "id": "d6815642",
   "metadata": {},
   "outputs": [
    {
     "data": {
      "text/plain": [
       "<AxesSubplot:xlabel='term', ylabel='count'>"
      ]
     },
     "execution_count": 41,
     "metadata": {},
     "output_type": "execute_result"
    },
    {
     "data": {
      "image/png": "[encoded data removed]",
      "text/plain": [
       "<Figure size 640x480 with 1 Axes>"
      ]
     },
     "metadata": {},
     "output_type": "display_data"
    }
   ],
   "source": [
    "bad_resid = train[(train.bad_resident == 1)]\n",
    "\n",
    "sns.countplot(x = 'term', data = bad_resid, color = '#fb8072', ec = 'black')"
   ]
  },
  {
   "cell_type": "markdown",
   "id": "17655d0f",
   "metadata": {},
   "source": [
    "$H_0$: Term lease is not dependent on damage\n",
    "\n",
    "$H_a$: Term lease is dependent on damage"
   ]
  },
  {
   "cell_type": "code",
   "execution_count": 42,
   "id": "b3002662",
   "metadata": {},
   "outputs": [
    {
     "name": "stdout",
     "output_type": "stream",
     "text": [
      "chi² = 24.848\n",
      "p = 0.129\n"
     ]
    }
   ],
   "source": [
    "chi2, p = e.chi_test(train['term'], train)\n",
    "\n",
    "print(f'chi² = {chi2:.3f}')\n",
    "print(f'p = {p:.3}')    "
   ]
  },
  {
   "cell_type": "code",
   "execution_count": 43,
   "id": "72d57956",
   "metadata": {},
   "outputs": [
    {
     "name": "stdout",
     "output_type": "stream",
     "text": [
      "We fail to reject the null hypothesis.\n"
     ]
    }
   ],
   "source": [
    "𝜶 = .05\n",
    "\n",
    "if p < 𝜶:\n",
    "    print(\"We reject the null hypothesis.\")\n",
    "else:\n",
    "    print(\"We fail to reject the null hypothesis.\")"
   ]
  },
  {
   "cell_type": "code",
   "execution_count": 115,
   "id": "e2f8012e",
   "metadata": {},
   "outputs": [],
   "source": [
    "def countplot(data, column, color, bad = False):\n",
    "    \n",
    "    \n",
    "    if bad: \n",
    "        bad_resid = data[(data.bad_resident == 1)]\n",
    "        sns.countplot(x = column, data = bad_resid, color = color, ec = 'black')\n",
    "        plt.title(f'NUMBER OF RESIDENTS BY {column.upper()}')\n",
    "        plt.xlabel(f'{column.capitalize()}')\n",
    "        plt.ylabel('Count')\n",
    "        plt.show()\n",
    "    \n",
    "    else:\n",
    "        \n",
    "        sns.countplot(x = column, data = data, color = color, ec = 'black')\n",
    "        plt.title(f'NUMBER OF RESIDENTS BY {column.upper()}')\n",
    "        plt.xlabel(f'{column.capitalize()}')\n",
    "        plt.ylabel('Count')\n",
    "        plt.show()\n",
    "        \n",
    "        "
   ]
  },
  {
   "cell_type": "code",
   "execution_count": 116,
   "id": "2caa88c5",
   "metadata": {},
   "outputs": [
    {
     "data": {
      "image/png": "[encoded data removed]",
      "text/plain": [
       "<Figure size 640x480 with 1 Axes>"
      ]
     },
     "metadata": {},
     "output_type": "display_data"
    }
   ],
   "source": [
    "countplot(train, 'term', 'dodgerblue')"
   ]
  },
  {
   "cell_type": "code",
   "execution_count": 117,
   "id": "16f0949d",
   "metadata": {},
   "outputs": [
    {
     "data": {
      "image/png": "[encoded data removed]",
      "text/plain": [
       "<Figure size 640x480 with 1 Axes>"
      ]
     },
     "metadata": {},
     "output_type": "display_data"
    }
   ],
   "source": [
    "countplot(train, 'term', 'seagreen', bad = True)"
   ]
  },
  {
   "cell_type": "code",
   "execution_count": null,
   "id": "d2d1ca37",
   "metadata": {},
   "outputs": [],
   "source": []
  }
 ],
 "metadata": {
  "kernelspec": {
   "display_name": "Python 3 (ipykernel)",
   "language": "python",
   "name": "python3"
  },
  "language_info": {
   "codemirror_mode": {
    "name": "ipython",
    "version": 3
   },
   "file_extension": ".py",
   "mimetype": "text/x-python",
   "name": "python",
   "nbconvert_exporter": "python",
   "pygments_lexer": "ipython3",
   "version": "3.9.13"
  }
 },
 "nbformat": 4,
 "nbformat_minor": 5
}
