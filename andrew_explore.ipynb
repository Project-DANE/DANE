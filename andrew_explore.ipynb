{
 "cells": [
  {
   "cell_type": "code",
   "execution_count": 1,
   "id": "6484ebdf-df83-4978-aab7-c4d0e51fd745",
   "metadata": {},
   "outputs": [],
   "source": [
    "import wrangle as w\n",
    "import pandas as pd\n",
    "import numpy as np\n",
    "from sklearn.preprocessing import StandardScaler"
   ]
  },
  {
   "cell_type": "code",
   "execution_count": 2,
   "id": "1b3f2e6c-fb97-4dbd-b612-b48846c456a1",
   "metadata": {},
   "outputs": [],
   "source": [
    "df = w.get_cws_data()"
   ]
  },
  {
   "cell_type": "code",
   "execution_count": 6,
   "id": "02fd3caa-d898-4881-98b7-7f5fcb43531e",
   "metadata": {},
   "outputs": [
    {
     "data": {
      "text/plain": [
       "587.9906075139888"
      ]
     },
     "execution_count": 6,
     "metadata": {},
     "output_type": "execute_result"
    }
   ],
   "source": [
    "# Finding Average Risk Score for our data frame\n",
    "df.risk_score.mean()"
   ]
  },
  {
   "cell_type": "code",
   "execution_count": null,
   "id": "47fae4ce-227a-42c2-9c86-17b453e11f6a",
   "metadata": {},
   "outputs": [],
   "source": []
  }
 ],
 "metadata": {
  "kernelspec": {
   "display_name": "Python 3 (ipykernel)",
   "language": "python",
   "name": "python3"
  },
  "language_info": {
   "codemirror_mode": {
    "name": "ipython",
    "version": 3
   },
   "file_extension": ".py",
   "mimetype": "text/x-python",
   "name": "python",
   "nbconvert_exporter": "python",
   "pygments_lexer": "ipython3",
   "version": "3.9.13"
  }
 },
 "nbformat": 4,
 "nbformat_minor": 5
}
