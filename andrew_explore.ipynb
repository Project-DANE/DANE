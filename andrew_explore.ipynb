{
 "cells": [
  {
   "cell_type": "code",
   "execution_count": 1,
   "id": "6484ebdf-df83-4978-aab7-c4d0e51fd745",
   "metadata": {},
   "outputs": [],
   "source": [
    "import wrangle as w\n",
    "import pandas as pd\n",
    "import numpy as np\n",
    "from sklearn.preprocessing import StandardScaler\n",
    "from matplotlib import pyplot as plt\n",
    "import seaborn as sns\n",
    "from scipy import stats"
   ]
  },
  {
   "cell_type": "code",
   "execution_count": 2,
   "id": "1b3f2e6c-fb97-4dbd-b612-b48846c456a1",
   "metadata": {},
   "outputs": [],
   "source": [
    "df = w.get_cws_data()"
   ]
  },
  {
   "cell_type": "code",
   "execution_count": 3,
   "id": "02ea4fb2-d845-4711-93a5-c8c7c4ac4a97",
   "metadata": {},
   "outputs": [
    {
     "data": {
      "text/html": [
       "<div>\n",
       "<style scoped>\n",
       "    .dataframe tbody tr th:only-of-type {\n",
       "        vertical-align: middle;\n",
       "    }\n",
       "\n",
       "    .dataframe tbody tr th {\n",
       "        vertical-align: top;\n",
       "    }\n",
       "\n",
       "    .dataframe thead th {\n",
       "        text-align: right;\n",
       "    }\n",
       "</style>\n",
       "<table border=\"1\" class=\"dataframe\">\n",
       "  <thead>\n",
       "    <tr style=\"text-align: right;\">\n",
       "      <th></th>\n",
       "      <th>id</th>\n",
       "      <th>total_charges</th>\n",
       "      <th>amount_paid</th>\n",
       "      <th>open</th>\n",
       "      <th>charge_code</th>\n",
       "      <th>description</th>\n",
       "      <th>prop_id</th>\n",
       "      <th>charge_name</th>\n",
       "      <th>sStatus</th>\n",
       "      <th>rent</th>\n",
       "      <th>term</th>\n",
       "      <th>monthly_inc</th>\n",
       "      <th>GuarantorRequired</th>\n",
       "      <th>total_inc</th>\n",
       "      <th>Recommendation</th>\n",
       "      <th>age</th>\n",
       "      <th>risk_score</th>\n",
       "      <th>reason</th>\n",
       "      <th>bad_resident</th>\n",
       "    </tr>\n",
       "  </thead>\n",
       "  <tbody>\n",
       "    <tr>\n",
       "      <th>0</th>\n",
       "      <td>3946</td>\n",
       "      <td>75.00</td>\n",
       "      <td>75.00</td>\n",
       "      <td>0</td>\n",
       "      <td>131</td>\n",
       "      <td>Uncllctbl key, remote fees</td>\n",
       "      <td>136</td>\n",
       "      <td>Uncllctbl key, remote fees</td>\n",
       "      <td>Current</td>\n",
       "      <td>1311</td>\n",
       "      <td>15</td>\n",
       "      <td>52500</td>\n",
       "      <td>False</td>\n",
       "      <td>666000</td>\n",
       "      <td>Accept</td>\n",
       "      <td>33</td>\n",
       "      <td>745</td>\n",
       "      <td>Insufficient period of Residence History</td>\n",
       "      <td>1</td>\n",
       "    </tr>\n",
       "    <tr>\n",
       "      <th>1</th>\n",
       "      <td>3962</td>\n",
       "      <td>13.66</td>\n",
       "      <td>13.66</td>\n",
       "      <td>0</td>\n",
       "      <td>112</td>\n",
       "      <td>Water 8/1/2021-9/1/2021</td>\n",
       "      <td>136</td>\n",
       "      <td>Utility-water charges</td>\n",
       "      <td>Current</td>\n",
       "      <td>1661</td>\n",
       "      <td>12</td>\n",
       "      <td>65000</td>\n",
       "      <td>False</td>\n",
       "      <td>889992</td>\n",
       "      <td>Accept with Conditions (Extra Deposit)</td>\n",
       "      <td>27</td>\n",
       "      <td>758</td>\n",
       "      <td>No Credit Experience</td>\n",
       "      <td>0</td>\n",
       "    </tr>\n",
       "    <tr>\n",
       "      <th>2</th>\n",
       "      <td>4050</td>\n",
       "      <td>46.17</td>\n",
       "      <td>46.17</td>\n",
       "      <td>0</td>\n",
       "      <td>155</td>\n",
       "      <td>Damage charges - Clean</td>\n",
       "      <td>136</td>\n",
       "      <td>Damage charges</td>\n",
       "      <td>Current</td>\n",
       "      <td>1412</td>\n",
       "      <td>12</td>\n",
       "      <td>48000</td>\n",
       "      <td>False</td>\n",
       "      <td>576000</td>\n",
       "      <td>Accept with Conditions (Extra Deposit)</td>\n",
       "      <td>33</td>\n",
       "      <td>666</td>\n",
       "      <td>Insufficient period of Residence History</td>\n",
       "      <td>1</td>\n",
       "    </tr>\n",
       "    <tr>\n",
       "      <th>3</th>\n",
       "      <td>4948</td>\n",
       "      <td>9.76</td>\n",
       "      <td>9.76</td>\n",
       "      <td>0</td>\n",
       "      <td>111</td>\n",
       "      <td>Sewer Charge</td>\n",
       "      <td>140</td>\n",
       "      <td>Utility-sewer charges</td>\n",
       "      <td>Current</td>\n",
       "      <td>1377</td>\n",
       "      <td>18</td>\n",
       "      <td>72000</td>\n",
       "      <td>False</td>\n",
       "      <td>0</td>\n",
       "      <td>A-Criminal History Meets Requirements</td>\n",
       "      <td>39</td>\n",
       "      <td>0</td>\n",
       "      <td>Meets All Property Requirements</td>\n",
       "      <td>0</td>\n",
       "    </tr>\n",
       "    <tr>\n",
       "      <th>4</th>\n",
       "      <td>5001</td>\n",
       "      <td>6.85</td>\n",
       "      <td>6.85</td>\n",
       "      <td>0</td>\n",
       "      <td>113</td>\n",
       "      <td>Sewer Base Charge</td>\n",
       "      <td>140</td>\n",
       "      <td>Utility-water flat base charges</td>\n",
       "      <td>Current</td>\n",
       "      <td>2199</td>\n",
       "      <td>13</td>\n",
       "      <td>0</td>\n",
       "      <td>True</td>\n",
       "      <td>54996</td>\n",
       "      <td>Accept with Conditions (Guarantor)</td>\n",
       "      <td>23</td>\n",
       "      <td>752</td>\n",
       "      <td>NaN</td>\n",
       "      <td>0</td>\n",
       "    </tr>\n",
       "    <tr>\n",
       "      <th>...</th>\n",
       "      <td>...</td>\n",
       "      <td>...</td>\n",
       "      <td>...</td>\n",
       "      <td>...</td>\n",
       "      <td>...</td>\n",
       "      <td>...</td>\n",
       "      <td>...</td>\n",
       "      <td>...</td>\n",
       "      <td>...</td>\n",
       "      <td>...</td>\n",
       "      <td>...</td>\n",
       "      <td>...</td>\n",
       "      <td>...</td>\n",
       "      <td>...</td>\n",
       "      <td>...</td>\n",
       "      <td>...</td>\n",
       "      <td>...</td>\n",
       "      <td>...</td>\n",
       "      <td>...</td>\n",
       "    </tr>\n",
       "    <tr>\n",
       "      <th>4994</th>\n",
       "      <td>74033</td>\n",
       "      <td>1439.37</td>\n",
       "      <td>1439.37</td>\n",
       "      <td>0</td>\n",
       "      <td>74</td>\n",
       "      <td>Rent for 29 days</td>\n",
       "      <td>85</td>\n",
       "      <td>Rent</td>\n",
       "      <td>Current</td>\n",
       "      <td>1489</td>\n",
       "      <td>12</td>\n",
       "      <td>0</td>\n",
       "      <td>True</td>\n",
       "      <td>0</td>\n",
       "      <td>Accept with Conditions (Guarantor)</td>\n",
       "      <td>24</td>\n",
       "      <td>708</td>\n",
       "      <td>Insufficient Income to Support Rent</td>\n",
       "      <td>0</td>\n",
       "    </tr>\n",
       "    <tr>\n",
       "      <th>4995</th>\n",
       "      <td>74056</td>\n",
       "      <td>150.00</td>\n",
       "      <td>150.00</td>\n",
       "      <td>0</td>\n",
       "      <td>162</td>\n",
       "      <td>Deposit Waiver Fee (Amount subject to screenin...</td>\n",
       "      <td>152</td>\n",
       "      <td>Deposit waiver fee</td>\n",
       "      <td>Current</td>\n",
       "      <td>1859</td>\n",
       "      <td>13</td>\n",
       "      <td>10000</td>\n",
       "      <td>False</td>\n",
       "      <td>121776</td>\n",
       "      <td>Accept</td>\n",
       "      <td>32</td>\n",
       "      <td>786</td>\n",
       "      <td>Meets All Property Requirements</td>\n",
       "      <td>0</td>\n",
       "    </tr>\n",
       "    <tr>\n",
       "      <th>4996</th>\n",
       "      <td>74230</td>\n",
       "      <td>5.00</td>\n",
       "      <td>5.00</td>\n",
       "      <td>0</td>\n",
       "      <td>186</td>\n",
       "      <td>Convenience Fee</td>\n",
       "      <td>61</td>\n",
       "      <td>OSP resident convenience fee</td>\n",
       "      <td>Current</td>\n",
       "      <td>1439</td>\n",
       "      <td>12</td>\n",
       "      <td>4350</td>\n",
       "      <td>False</td>\n",
       "      <td>57432</td>\n",
       "      <td>Accept with Conditions (Extra Deposit)</td>\n",
       "      <td>36</td>\n",
       "      <td>691</td>\n",
       "      <td>Limited period of Residence History</td>\n",
       "      <td>0</td>\n",
       "    </tr>\n",
       "    <tr>\n",
       "      <th>4997</th>\n",
       "      <td>74231</td>\n",
       "      <td>5.00</td>\n",
       "      <td>5.00</td>\n",
       "      <td>0</td>\n",
       "      <td>186</td>\n",
       "      <td>Convenience Fee (ray farmer)</td>\n",
       "      <td>83</td>\n",
       "      <td>OSP resident convenience fee</td>\n",
       "      <td>Current</td>\n",
       "      <td>1739</td>\n",
       "      <td>12</td>\n",
       "      <td>7916</td>\n",
       "      <td>False</td>\n",
       "      <td>94992</td>\n",
       "      <td>Accept</td>\n",
       "      <td>47</td>\n",
       "      <td>770</td>\n",
       "      <td>Meets All Property Requirements</td>\n",
       "      <td>0</td>\n",
       "    </tr>\n",
       "    <tr>\n",
       "      <th>4998</th>\n",
       "      <td>74273</td>\n",
       "      <td>3.33</td>\n",
       "      <td>3.33</td>\n",
       "      <td>0</td>\n",
       "      <td>180</td>\n",
       "      <td>Administration Processing Fee for 25 days</td>\n",
       "      <td>112</td>\n",
       "      <td>Administration processing fee</td>\n",
       "      <td>Current</td>\n",
       "      <td>2489</td>\n",
       "      <td>15</td>\n",
       "      <td>4800</td>\n",
       "      <td>False</td>\n",
       "      <td>153816</td>\n",
       "      <td>Accept with Conditions (Max Deposit)</td>\n",
       "      <td>37</td>\n",
       "      <td>595</td>\n",
       "      <td>High level of Charge-offs</td>\n",
       "      <td>0</td>\n",
       "    </tr>\n",
       "  </tbody>\n",
       "</table>\n",
       "<p>4999 rows × 19 columns</p>\n",
       "</div>"
      ],
      "text/plain": [
       "         id  total_charges  amount_paid  open  charge_code  \\\n",
       "0      3946          75.00        75.00     0          131   \n",
       "1      3962          13.66        13.66     0          112   \n",
       "2      4050          46.17        46.17     0          155   \n",
       "3      4948           9.76         9.76     0          111   \n",
       "4      5001           6.85         6.85     0          113   \n",
       "...     ...            ...          ...   ...          ...   \n",
       "4994  74033        1439.37      1439.37     0           74   \n",
       "4995  74056         150.00       150.00     0          162   \n",
       "4996  74230           5.00         5.00     0          186   \n",
       "4997  74231           5.00         5.00     0          186   \n",
       "4998  74273           3.33         3.33     0          180   \n",
       "\n",
       "                                            description  prop_id  \\\n",
       "0                            Uncllctbl key, remote fees      136   \n",
       "1                               Water 8/1/2021-9/1/2021      136   \n",
       "2                                Damage charges - Clean      136   \n",
       "3                                          Sewer Charge      140   \n",
       "4                                     Sewer Base Charge      140   \n",
       "...                                                 ...      ...   \n",
       "4994                                   Rent for 29 days       85   \n",
       "4995  Deposit Waiver Fee (Amount subject to screenin...      152   \n",
       "4996                                    Convenience Fee       61   \n",
       "4997                       Convenience Fee (ray farmer)       83   \n",
       "4998          Administration Processing Fee for 25 days      112   \n",
       "\n",
       "                          charge_name  sStatus  rent  term  monthly_inc  \\\n",
       "0          Uncllctbl key, remote fees  Current  1311    15        52500   \n",
       "1               Utility-water charges  Current  1661    12        65000   \n",
       "2                      Damage charges  Current  1412    12        48000   \n",
       "3               Utility-sewer charges  Current  1377    18        72000   \n",
       "4     Utility-water flat base charges  Current  2199    13            0   \n",
       "...                               ...      ...   ...   ...          ...   \n",
       "4994                             Rent  Current  1489    12            0   \n",
       "4995               Deposit waiver fee  Current  1859    13        10000   \n",
       "4996     OSP resident convenience fee  Current  1439    12         4350   \n",
       "4997     OSP resident convenience fee  Current  1739    12         7916   \n",
       "4998    Administration processing fee  Current  2489    15         4800   \n",
       "\n",
       "      GuarantorRequired  total_inc                          Recommendation  \\\n",
       "0                 False     666000                                  Accept   \n",
       "1                 False     889992  Accept with Conditions (Extra Deposit)   \n",
       "2                 False     576000  Accept with Conditions (Extra Deposit)   \n",
       "3                 False          0   A-Criminal History Meets Requirements   \n",
       "4                  True      54996      Accept with Conditions (Guarantor)   \n",
       "...                 ...        ...                                     ...   \n",
       "4994               True          0      Accept with Conditions (Guarantor)   \n",
       "4995              False     121776                                  Accept   \n",
       "4996              False      57432  Accept with Conditions (Extra Deposit)   \n",
       "4997              False      94992                                  Accept   \n",
       "4998              False     153816    Accept with Conditions (Max Deposit)   \n",
       "\n",
       "      age  risk_score                                    reason  bad_resident  \n",
       "0      33         745  Insufficient period of Residence History             1  \n",
       "1      27         758                      No Credit Experience             0  \n",
       "2      33         666  Insufficient period of Residence History             1  \n",
       "3      39           0           Meets All Property Requirements             0  \n",
       "4      23         752                                       NaN             0  \n",
       "...   ...         ...                                       ...           ...  \n",
       "4994   24         708       Insufficient Income to Support Rent             0  \n",
       "4995   32         786           Meets All Property Requirements             0  \n",
       "4996   36         691       Limited period of Residence History             0  \n",
       "4997   47         770           Meets All Property Requirements             0  \n",
       "4998   37         595                 High level of Charge-offs             0  \n",
       "\n",
       "[4999 rows x 19 columns]"
      ]
     },
     "execution_count": 3,
     "metadata": {},
     "output_type": "execute_result"
    }
   ],
   "source": [
    "df"
   ]
  },
  {
   "cell_type": "code",
   "execution_count": 4,
   "id": "02fd3caa-d898-4881-98b7-7f5fcb43531e",
   "metadata": {},
   "outputs": [],
   "source": [
    "train, validate, test, X_train, y_train, X_val, y_val, X_test, y_test = w.train_vailidate_test_split(df, 'bad_resident', 'bad_resident')"
   ]
  },
  {
   "cell_type": "code",
   "execution_count": 5,
   "id": "47fae4ce-227a-42c2-9c86-17b453e11f6a",
   "metadata": {},
   "outputs": [
    {
     "data": {
      "text/plain": [
       "592.5909253304752"
      ]
     },
     "execution_count": 5,
     "metadata": {},
     "output_type": "execute_result"
    }
   ],
   "source": [
    "# Finding the average risk score for residents\n",
    "train.risk_score.mean()"
   ]
  },
  {
   "cell_type": "code",
   "execution_count": 6,
   "id": "5108555b-d32b-4817-b8df-bc4c5ebecea1",
   "metadata": {},
   "outputs": [
    {
     "data": {
      "text/plain": [
       "(array([412.,   0.,   0.,   0.,   1.,  38., 212., 590., 904., 642.]),\n",
       " array([  0. ,  83.6, 167.2, 250.8, 334.4, 418. , 501.6, 585.2, 668.8,\n",
       "        752.4, 836. ]),\n",
       " <BarContainer object of 10 artists>)"
      ]
     },
     "execution_count": 6,
     "metadata": {},
     "output_type": "execute_result"
    },
    {
     "data": {
      "image/png": "[encoded data removed]",
      "text/plain": [
       "<Figure size 640x480 with 1 Axes>"
      ]
     },
     "metadata": {},
     "output_type": "display_data"
    }
   ],
   "source": [
    "plt.hist(train.risk_score)"
   ]
  },
  {
   "cell_type": "code",
   "execution_count": 7,
   "id": "2d2a51c0-ec05-4361-b7db-48363947d1f0",
   "metadata": {},
   "outputs": [],
   "source": [
    "# Creating custom bins with 100 range and binning both total train pop and only bad train pop\n",
    "bins = [300,400,500,600,700,800,900]\n",
    "risk_bin = pd.cut(train['risk_score'], bins = bins)\n",
    "bad_risk = pd.cut(train[train.bad_resident == 1].risk_score, bins = bins)"
   ]
  },
  {
   "cell_type": "code",
   "execution_count": 8,
   "id": "ff564609-11d3-4da1-8cc9-80c5d7a0e5dc",
   "metadata": {},
   "outputs": [
    {
     "data": {
      "text/plain": [
       "<AxesSubplot:xlabel='risk_score', ylabel='count'>"
      ]
     },
     "execution_count": 8,
     "metadata": {},
     "output_type": "execute_result"
    },
    {
     "data": {
      "image/png": "[encoded data removed]",
      "text/plain": [
       "<Figure size 640x480 with 1 Axes>"
      ]
     },
     "metadata": {},
     "output_type": "display_data"
    }
   ],
   "source": [
    "# Residents by risk score and hued by who is a bad resident\n",
    "sns.countplot(x = risk_bin, hue = train.bad_resident)"
   ]
  },
  {
   "cell_type": "code",
   "execution_count": 81,
   "id": "128b0273-8b63-41df-9d45-8ef0c2897287",
   "metadata": {},
   "outputs": [],
   "source": [
    "bins = [300,400,500,600,700,800,900]\n",
    "r1 = len(train[(train.risk_score < 301) & (train.bad_resident == 1)]) / len(train.risk_score[train.risk_score < 301])\n",
    "r2 = len(train[(train.risk_score >300) & (train.risk_score < 401) & (train.bad_resident == 1)]) / len(train[(train.risk_score >300) & (train.risk_score < 401)])\n",
    "r3 = (len(train[(train.risk_score >400) & (train.risk_score < 501) & (train.bad_resident == 1)]) / \n",
    "len(train[(train.risk_score >400) & (train.risk_score < 501)]))\n",
    "r4 = (len(train[(train.risk_score >500) & (train.risk_score < 601) & (train.bad_resident == 1)]) / \n",
    "len(train[(train.risk_score >500) & (train.risk_score < 601)]))\n",
    "r5 = (len(train[(train.risk_score >600) & (train.risk_score < 701) & (train.bad_resident == 1)]) / \n",
    "len(train[(train.risk_score >600) & (train.risk_score < 701)]))\n",
    "r6= (len(train[(train.risk_score >700) & (train.risk_score < 801) & (train.bad_resident == 1)]) / \n",
    "len(train[(train.risk_score >700) & (train.risk_score < 801)]))\n",
    "r7 = (len(train[(train.risk_score >800) & (train.risk_score < 100000000) & (train.bad_resident == 1)]) / \n",
    "len(train[(train.risk_score >800) & (train.risk_score < 100000000)]))"
   ]
  },
  {
   "cell_type": "code",
   "execution_count": 83,
   "id": "532a7f3e-94bb-42a1-bd09-bf46a5136f40",
   "metadata": {},
   "outputs": [],
   "source": [
    "rs = pd.DataFrame(data = {'0-300': r1, '300-400': r2, '400-500': r3, '500-600': r4,\n",
    "                         '600-700': r5, '700-800': r6, '>800':r7}, index = [0])"
   ]
  },
  {
   "cell_type": "code",
   "execution_count": 86,
   "id": "da476ca0-16e8-44f2-8099-b86075d9de1a",
   "metadata": {},
   "outputs": [],
   "source": [
    "rs = rs.T.sort_values(0).T"
   ]
  },
  {
   "cell_type": "code",
   "execution_count": 88,
   "id": "a003d808-8a43-43ed-8493-60322928ed2b",
   "metadata": {},
   "outputs": [],
   "source": [
    "rs = rs.round(2) * 100"
   ]
  },
  {
   "cell_type": "code",
   "execution_count": 89,
   "id": "8d304fea-61c4-48d1-8de9-86df94eb9cc5",
   "metadata": {},
   "outputs": [
    {
     "data": {
      "text/plain": [
       "<AxesSubplot:>"
      ]
     },
     "execution_count": 89,
     "metadata": {},
     "output_type": "execute_result"
    },
    {
     "data": {
      "image/png": "[encoded data removed]",
      "text/plain": [
       "<Figure size 640x480 with 1 Axes>"
      ]
     },
     "metadata": {},
     "output_type": "display_data"
    }
   ],
   "source": [
    "sns.barplot(data = rs)"
   ]
  },
  {
   "cell_type": "code",
   "execution_count": 60,
   "id": "2c5701e7-7f25-4188-8e74-f72bf6f656b6",
   "metadata": {},
   "outputs": [
    {
     "data": {
      "text/plain": [
       "<AxesSubplot:xlabel='risk_score', ylabel='count'>"
      ]
     },
     "execution_count": 60,
     "metadata": {},
     "output_type": "execute_result"
    },
    {
     "data": {
      "image/png": "[encoded data removed]",
      "text/plain": [
       "<Figure size 640x480 with 1 Axes>"
      ]
     },
     "metadata": {},
     "output_type": "display_data"
    }
   ],
   "source": [
    "# Plotting only bad residents by risk score\n",
    "sns.countplot(x = bad_risk)"
   ]
  },
  {
   "cell_type": "code",
   "execution_count": 10,
   "id": "dbe06629-08c7-4cf8-877f-a87337691d78",
   "metadata": {},
   "outputs": [],
   "source": [
    "# Setting the risk scores by bad_res in prep for t test\n",
    "# Null hypothesis is risk score isnt different\n",
    "risk_yes = train[train.bad_resident == 1].risk_score\n",
    "risk_no = train[train.bad_resident == 0].risk_score"
   ]
  },
  {
   "cell_type": "code",
   "execution_count": 11,
   "id": "1bdafe39-c28c-4b16-a6f8-b12d4545d759",
   "metadata": {},
   "outputs": [
    {
     "name": "stdout",
     "output_type": "stream",
     "text": [
      "66005.06669802975 63724.151119731985\n"
     ]
    }
   ],
   "source": [
    "# Checking variance\n",
    "print(risk_no.var(), risk_yes.var())"
   ]
  },
  {
   "cell_type": "code",
   "execution_count": 12,
   "id": "d80d36a5-b7bb-40fd-90ad-93e726a4dc74",
   "metadata": {},
   "outputs": [
    {
     "data": {
      "text/plain": [
       "(-1.0806422746527118, 0.14105963860511503)"
      ]
     },
     "execution_count": 12,
     "metadata": {},
     "output_type": "execute_result"
    }
   ],
   "source": [
    "# Running ind t-test\n",
    "t, p = stats.ttest_ind(risk_yes, risk_no, equal_var=False)\n",
    "t, p / 2"
   ]
  },
  {
   "cell_type": "code",
   "execution_count": 13,
   "id": "bece25e2-5b79-495d-8a5e-0f4aa1dd9638",
   "metadata": {},
   "outputs": [
    {
     "data": {
      "text/html": [
       "<div>\n",
       "<style scoped>\n",
       "    .dataframe tbody tr th:only-of-type {\n",
       "        vertical-align: middle;\n",
       "    }\n",
       "\n",
       "    .dataframe tbody tr th {\n",
       "        vertical-align: top;\n",
       "    }\n",
       "\n",
       "    .dataframe thead th {\n",
       "        text-align: right;\n",
       "    }\n",
       "</style>\n",
       "<table border=\"1\" class=\"dataframe\">\n",
       "  <thead>\n",
       "    <tr style=\"text-align: right;\">\n",
       "      <th>risk_score</th>\n",
       "      <th>(300, 400]</th>\n",
       "      <th>(400, 500]</th>\n",
       "      <th>(500, 600]</th>\n",
       "      <th>(600, 700]</th>\n",
       "      <th>(700, 800]</th>\n",
       "      <th>(800, 900]</th>\n",
       "    </tr>\n",
       "    <tr>\n",
       "      <th>bad_resident</th>\n",
       "      <th></th>\n",
       "      <th></th>\n",
       "      <th></th>\n",
       "      <th></th>\n",
       "      <th></th>\n",
       "      <th></th>\n",
       "    </tr>\n",
       "  </thead>\n",
       "  <tbody>\n",
       "    <tr>\n",
       "      <th>0</th>\n",
       "      <td>1</td>\n",
       "      <td>30</td>\n",
       "      <td>271</td>\n",
       "      <td>758</td>\n",
       "      <td>1114</td>\n",
       "      <td>122</td>\n",
       "    </tr>\n",
       "    <tr>\n",
       "      <th>1</th>\n",
       "      <td>0</td>\n",
       "      <td>6</td>\n",
       "      <td>15</td>\n",
       "      <td>36</td>\n",
       "      <td>29</td>\n",
       "      <td>5</td>\n",
       "    </tr>\n",
       "  </tbody>\n",
       "</table>\n",
       "</div>"
      ],
      "text/plain": [
       "risk_score    (300, 400]  (400, 500]  (500, 600]  (600, 700]  (700, 800]  \\\n",
       "bad_resident                                                               \n",
       "0                      1          30         271         758        1114   \n",
       "1                      0           6          15          36          29   \n",
       "\n",
       "risk_score    (800, 900]  \n",
       "bad_resident              \n",
       "0                    122  \n",
       "1                      5  "
      ]
     },
     "execution_count": 13,
     "metadata": {},
     "output_type": "execute_result"
    }
   ],
   "source": [
    "# Creating a crosstab of risk bins and bad resident\n",
    "observed = pd.crosstab(train.bad_resident, risk_bin)\n",
    "observed"
   ]
  },
  {
   "cell_type": "code",
   "execution_count": 14,
   "id": "de52a0f5-03b9-4b62-bf6a-9c0e550bc5fe",
   "metadata": {},
   "outputs": [
    {
     "name": "stdout",
     "output_type": "stream",
     "text": [
      "0.21875 0.06 0.04 0.024117140396210164 0.017543859649122806\n"
     ]
    }
   ],
   "source": [
    "print(7/(7+25), 18/(282+18), 31/(31+744), 28/(1133+28), 2/114)"
   ]
  },
  {
   "cell_type": "code",
   "execution_count": 15,
   "id": "c9bd85cc-aee8-436e-904f-e812cb2ad8e1",
   "metadata": {},
   "outputs": [
    {
     "data": {
      "text/plain": [
       "(24.062866985556475, 0.00021115584204228419)"
      ]
     },
     "execution_count": 15,
     "metadata": {},
     "output_type": "execute_result"
    }
   ],
   "source": [
    "# running a chi2 test on the observed crosstab\n",
    "chi2, p, degf, expected = stats.chi2_contingency(observed)\n",
    "chi2, p"
   ]
  },
  {
   "cell_type": "markdown",
   "id": "86373f66-680a-425f-94f3-79d919a15ceb",
   "metadata": {},
   "source": [
    "## Risk Score is statistically siginificant to bad residents"
   ]
  },
  {
   "cell_type": "code",
   "execution_count": 16,
   "id": "346e9249-1b9e-4776-b7b1-0b01ed682c9f",
   "metadata": {},
   "outputs": [
    {
     "data": {
      "text/plain": [
       "id                                                       62552\n",
       "total_charges                                             2.13\n",
       "amount_paid                                               2.13\n",
       "open                                                         0\n",
       "charge_code                                                180\n",
       "description          Administration Processing Fee for 16 days\n",
       "prop_id                                                    112\n",
       "charge_name                      Administration processing fee\n",
       "sStatus                                                Current\n",
       "rent                                                      2489\n",
       "term                                                         6\n",
       "monthly_inc                                            1500000\n",
       "GuarantorRequired                                        False\n",
       "total_inc                                                    0\n",
       "Recommendation                            A-Meets Requirements\n",
       "age                                                         23\n",
       "risk_score                                                   0\n",
       "reason                         Meets All Property Requirements\n",
       "bad_resident                                                 0\n",
       "Name: 2376, dtype: object"
      ]
     },
     "execution_count": 16,
     "metadata": {},
     "output_type": "execute_result"
    }
   ],
   "source": [
    "train.loc[2376]"
   ]
  },
  {
   "cell_type": "code",
   "execution_count": 17,
   "id": "fbe9449a-5043-488a-934c-6525668b3da0",
   "metadata": {},
   "outputs": [
    {
     "data": {
      "text/plain": [
       "10454.414790996785"
      ]
     },
     "execution_count": 17,
     "metadata": {},
     "output_type": "execute_result"
    }
   ],
   "source": [
    "#Finding mean monthly income\n",
    "train.monthly_inc.mean()"
   ]
  },
  {
   "cell_type": "code",
   "execution_count": 18,
   "id": "2b375a8d-f0b7-488d-a845-eab41b2a9fb8",
   "metadata": {},
   "outputs": [
    {
     "data": {
      "text/plain": [
       "-153"
      ]
     },
     "execution_count": 18,
     "metadata": {},
     "output_type": "execute_result"
    }
   ],
   "source": [
    "# Finding monthly incomes greater than top 1% US earners\n",
    "len(train[train.monthly_inc <= 20000]) - len(train)"
   ]
  },
  {
   "cell_type": "code",
   "execution_count": 19,
   "id": "03b68549-3f4e-4f96-a133-7e660fc5db9f",
   "metadata": {},
   "outputs": [],
   "source": [
    "# Turning assumed yearly incomes into monthly incomes\n",
    "train.monthly_inc = np.where(train.monthly_inc >= 20000, train.monthly_inc/12, train.monthly_inc)"
   ]
  },
  {
   "cell_type": "code",
   "execution_count": 20,
   "id": "ae4a3494-591d-4aa7-87fa-7d34614f4dad",
   "metadata": {},
   "outputs": [
    {
     "data": {
      "text/plain": [
       "2376    125000.000000\n",
       "777      83333.333333\n",
       "1665     29166.000000\n",
       "1546     20833.333333\n",
       "959      19166.000000\n",
       "2482     18500.000000\n",
       "2286     18000.000000\n",
       "3609     17833.000000\n",
       "796      17637.000000\n",
       "3710     17600.000000\n",
       "4294     17500.000000\n",
       "250      17472.000000\n",
       "4786     17220.000000\n",
       "2281     17166.000000\n",
       "413      17000.000000\n",
       "3788     17000.000000\n",
       "1094     17000.000000\n",
       "1279     17000.000000\n",
       "1192     16800.000000\n",
       "3920     16667.000000\n",
       "758      16667.000000\n",
       "4574     16667.000000\n",
       "291      16667.000000\n",
       "2926     16666.000000\n",
       "4909     16500.000000\n",
       "1889     16333.000000\n",
       "3736     16250.000000\n",
       "3774     15995.000000\n",
       "877      15909.000000\n",
       "4913     15833.000000\n",
       "2857     15833.000000\n",
       "2911     15800.000000\n",
       "1143     15750.000000\n",
       "407      15667.000000\n",
       "1568     15500.000000\n",
       "2696     15000.000000\n",
       "4411     15000.000000\n",
       "4707     15000.000000\n",
       "4415     15000.000000\n",
       "627      15000.000000\n",
       "956      15000.000000\n",
       "4801     15000.000000\n",
       "4743     15000.000000\n",
       "1424     15000.000000\n",
       "4662     15000.000000\n",
       "4470     15000.000000\n",
       "205      15000.000000\n",
       "4964     15000.000000\n",
       "3013     15000.000000\n",
       "166      15000.000000\n",
       "Name: monthly_inc, dtype: float64"
      ]
     },
     "execution_count": 20,
     "metadata": {},
     "output_type": "execute_result"
    }
   ],
   "source": [
    "# Sorting new values\n",
    "train.monthly_inc.sort_values(ascending = False).head(50)"
   ]
  },
  {
   "cell_type": "code",
   "execution_count": 21,
   "id": "80b7f036-e6c6-436e-9d47-2effdc20a39c",
   "metadata": {},
   "outputs": [
    {
     "data": {
      "text/plain": [
       "id                                                       62552\n",
       "total_charges                                             2.13\n",
       "amount_paid                                               2.13\n",
       "open                                                         0\n",
       "charge_code                                                180\n",
       "description          Administration Processing Fee for 16 days\n",
       "prop_id                                                    112\n",
       "charge_name                      Administration processing fee\n",
       "sStatus                                                Current\n",
       "rent                                                      2489\n",
       "term                                                         6\n",
       "monthly_inc                                           125000.0\n",
       "GuarantorRequired                                        False\n",
       "total_inc                                                    0\n",
       "Recommendation                            A-Meets Requirements\n",
       "age                                                         23\n",
       "risk_score                                                   0\n",
       "reason                         Meets All Property Requirements\n",
       "bad_resident                                                 0\n",
       "Name: 2376, dtype: object"
      ]
     },
     "execution_count": 21,
     "metadata": {},
     "output_type": "execute_result"
    }
   ],
   "source": [
    "train.loc[2376]"
   ]
  },
  {
   "cell_type": "code",
   "execution_count": 22,
   "id": "f4a76c3e-9439-4290-a0a6-ac46c3cd6fbb",
   "metadata": {},
   "outputs": [],
   "source": [
    "# Replacing any blank total income with monthly income * 12\n",
    "train.total_inc = np.where(train.total_inc == 0, train.monthly_inc * 12, train.total_inc)"
   ]
  },
  {
   "cell_type": "code",
   "execution_count": 23,
   "id": "81295400-cc25-44c3-a9ba-a3e8a4ae54ad",
   "metadata": {},
   "outputs": [],
   "source": [
    "# Replacing any blank monthly income with total income / 12\n",
    "train.monthly_inc = np.where(train.monthly_inc == 0, train.total_inc/12, train.monthly_inc)"
   ]
  },
  {
   "cell_type": "code",
   "execution_count": 24,
   "id": "00123696-61fd-4664-9903-ca2fb24edbc7",
   "metadata": {},
   "outputs": [
    {
     "data": {
      "text/plain": [
       "114228.31332618793"
      ]
     },
     "execution_count": 24,
     "metadata": {},
     "output_type": "execute_result"
    }
   ],
   "source": [
    "# Finding the mean yearly income\n",
    "train.total_inc.mean()"
   ]
  },
  {
   "cell_type": "code",
   "execution_count": 25,
   "id": "541f4196-aa69-4ec3-abac-d92ca614ec9e",
   "metadata": {},
   "outputs": [
    {
     "data": {
      "text/plain": [
       "6084.5061926878625"
      ]
     },
     "execution_count": 25,
     "metadata": {},
     "output_type": "execute_result"
    }
   ],
   "source": [
    "# New monthly mean after adjustments\n",
    "train.monthly_inc.mean()"
   ]
  },
  {
   "cell_type": "code",
   "execution_count": 26,
   "id": "2f58dad5-3ebb-4488-a93a-a60972857a73",
   "metadata": {},
   "outputs": [
    {
     "data": {
      "text/plain": [
       "(0.0, 20000.0)"
      ]
     },
     "execution_count": 26,
     "metadata": {},
     "output_type": "execute_result"
    },
    {
     "data": {
      "image/png": "[encoded data removed]",
      "text/plain": [
       "<Figure size 640x480 with 1 Axes>"
      ]
     },
     "metadata": {},
     "output_type": "display_data"
    }
   ],
   "source": [
    "plt.hist(train.monthly_inc)\n",
    "plt.xlim([0,20000])"
   ]
  },
  {
   "cell_type": "code",
   "execution_count": 27,
   "id": "4b5a0afa-09b5-485a-8fab-5ed57be4ba50",
   "metadata": {},
   "outputs": [
    {
     "data": {
      "text/plain": [
       "(0.0, 20000.0)"
      ]
     },
     "execution_count": 27,
     "metadata": {},
     "output_type": "execute_result"
    },
    {
     "data": {
      "image/png": "[encoded data removed]",
      "text/plain": [
       "<Figure size 640x480 with 1 Axes>"
      ]
     },
     "metadata": {},
     "output_type": "display_data"
    }
   ],
   "source": [
    "#plotting monthly income\n",
    "sns.histplot(train.monthly_inc)\n",
    "plt.xlim([0, 20000])"
   ]
  },
  {
   "cell_type": "code",
   "execution_count": 28,
   "id": "74b2742a-acaf-44f9-a24f-ac8b06a0c0a3",
   "metadata": {},
   "outputs": [
    {
     "data": {
      "text/plain": [
       "(0.0, 1000000.0)"
      ]
     },
     "execution_count": 28,
     "metadata": {},
     "output_type": "execute_result"
    },
    {
     "data": {
      "image/png": "[encoded data removed]",
      "text/plain": [
       "<Figure size 640x480 with 1 Axes>"
      ]
     },
     "metadata": {},
     "output_type": "display_data"
    }
   ],
   "source": [
    "# Plotting yearly income\n",
    "sns.histplot(train.total_inc)\n",
    "plt.xlim([0, 1000000])"
   ]
  },
  {
   "cell_type": "code",
   "execution_count": 29,
   "id": "b625490a-b857-47bc-8772-21a7f95080b1",
   "metadata": {
    "tags": []
   },
   "outputs": [],
   "source": [
    "# Creating the variables for a t test\n",
    "risk_yes = train[train.bad_resident == 1].monthly_inc\n",
    "risk_no = train[train.bad_resident == 0].monthly_inc"
   ]
  },
  {
   "cell_type": "code",
   "execution_count": 30,
   "id": "85003b3b-a4af-4c7d-afbe-8e738add5462",
   "metadata": {},
   "outputs": [
    {
     "name": "stdout",
     "output_type": "stream",
     "text": [
      "806669229.4537473 18158725.28192593\n"
     ]
    }
   ],
   "source": [
    "# Checking variance\n",
    "print(risk_yes.var(), risk_no.var())"
   ]
  },
  {
   "cell_type": "code",
   "execution_count": 31,
   "id": "94a6c52d-7ac7-4e3e-ae37-4ae5851745a8",
   "metadata": {},
   "outputs": [
    {
     "data": {
      "text/plain": [
       "(0.8157190453377576, 0.20824339658791008)"
      ]
     },
     "execution_count": 31,
     "metadata": {},
     "output_type": "execute_result"
    }
   ],
   "source": [
    "# Running ind t-test\n",
    "t, p = stats.ttest_ind(risk_yes, risk_no, equal_var=False)\n",
    "t, p / 2"
   ]
  },
  {
   "cell_type": "code",
   "execution_count": 32,
   "id": "cf24453b-54e3-4389-ad46-cda1b90c6048",
   "metadata": {},
   "outputs": [],
   "source": [
    "# ttest variables\n",
    "risk_yes = train[train.bad_resident == 1].total_inc\n",
    "risk_no = train[train.bad_resident == 0].total_inc"
   ]
  },
  {
   "cell_type": "code",
   "execution_count": 33,
   "id": "d46f4811-e620-487b-99ec-b7586f378e00",
   "metadata": {},
   "outputs": [
    {
     "name": "stdout",
     "output_type": "stream",
     "text": [
      "120628546403.1007 30849709535.838337\n"
     ]
    }
   ],
   "source": [
    "# Checking variance\n",
    "print(risk_yes.var(), risk_no.var())"
   ]
  },
  {
   "cell_type": "code",
   "execution_count": 34,
   "id": "29fb2e94-088e-408f-8c36-2da2f938c783",
   "metadata": {},
   "outputs": [
    {
     "data": {
      "text/plain": [
       "(0.44083480738401, 0.330106211022125)"
      ]
     },
     "execution_count": 34,
     "metadata": {},
     "output_type": "execute_result"
    }
   ],
   "source": [
    "# Running ind t-test\n",
    "t, p = stats.ttest_ind(risk_yes, risk_no, equal_var=False)\n",
    "t, p / 2"
   ]
  },
  {
   "cell_type": "code",
   "execution_count": 35,
   "id": "b4fc6848-309e-438a-b51c-20e3f7b96373",
   "metadata": {},
   "outputs": [],
   "source": [
    "inc_bins = [0, 3000, 6000, 9000, 12000, 15000, 18000, 21000, 10000000]\n",
    "month = pd.qcut(train.monthly_inc, 4)"
   ]
  },
  {
   "cell_type": "code",
   "execution_count": 36,
   "id": "2d6db366-bfdd-436d-8c62-ab78d6a1d19f",
   "metadata": {},
   "outputs": [
    {
     "data": {
      "text/plain": [
       "<AxesSubplot:xlabel='monthly_inc', ylabel='count'>"
      ]
     },
     "execution_count": 36,
     "metadata": {},
     "output_type": "execute_result"
    },
    {
     "data": {
      "image/png": "[encoded data removed]",
      "text/plain": [
       "<Figure size 640x480 with 1 Axes>"
      ]
     },
     "metadata": {},
     "output_type": "display_data"
    }
   ],
   "source": [
    "sns.countplot(x = month, hue = train.bad_resident)"
   ]
  },
  {
   "cell_type": "code",
   "execution_count": 37,
   "id": "a0015ef4-bf48-4fca-882e-b4285a8a1c27",
   "metadata": {},
   "outputs": [
    {
     "data": {
      "text/html": [
       "<div>\n",
       "<style scoped>\n",
       "    .dataframe tbody tr th:only-of-type {\n",
       "        vertical-align: middle;\n",
       "    }\n",
       "\n",
       "    .dataframe tbody tr th {\n",
       "        vertical-align: top;\n",
       "    }\n",
       "\n",
       "    .dataframe thead th {\n",
       "        text-align: right;\n",
       "    }\n",
       "</style>\n",
       "<table border=\"1\" class=\"dataframe\">\n",
       "  <thead>\n",
       "    <tr style=\"text-align: right;\">\n",
       "      <th>monthly_inc</th>\n",
       "      <th>(-0.001, 3900.0]</th>\n",
       "      <th>(3900.0, 5250.0]</th>\n",
       "      <th>(5250.0, 7500.0]</th>\n",
       "      <th>(7500.0, 297665.0]</th>\n",
       "    </tr>\n",
       "    <tr>\n",
       "      <th>bad_resident</th>\n",
       "      <th></th>\n",
       "      <th></th>\n",
       "      <th></th>\n",
       "      <th></th>\n",
       "    </tr>\n",
       "  </thead>\n",
       "  <tbody>\n",
       "    <tr>\n",
       "      <th>0</th>\n",
       "      <td>676</td>\n",
       "      <td>668</td>\n",
       "      <td>730</td>\n",
       "      <td>618</td>\n",
       "    </tr>\n",
       "    <tr>\n",
       "      <th>1</th>\n",
       "      <td>27</td>\n",
       "      <td>29</td>\n",
       "      <td>24</td>\n",
       "      <td>27</td>\n",
       "    </tr>\n",
       "  </tbody>\n",
       "</table>\n",
       "</div>"
      ],
      "text/plain": [
       "monthly_inc   (-0.001, 3900.0]  (3900.0, 5250.0]  (5250.0, 7500.0]  \\\n",
       "bad_resident                                                         \n",
       "0                          676               668               730   \n",
       "1                           27                29                24   \n",
       "\n",
       "monthly_inc   (7500.0, 297665.0]  \n",
       "bad_resident                      \n",
       "0                            618  \n",
       "1                             27  "
      ]
     },
     "execution_count": 37,
     "metadata": {},
     "output_type": "execute_result"
    }
   ],
   "source": [
    "# Creating a crosstab of risk bins and bad resident\n",
    "observed = pd.crosstab(train.bad_resident, month)\n",
    "observed"
   ]
  },
  {
   "cell_type": "code",
   "execution_count": 38,
   "id": "a8d48f02-37da-4c67-b06d-eaec7fe44573",
   "metadata": {},
   "outputs": [
    {
     "data": {
      "text/plain": [
       "(1.287934590949885, 0.7320001019663953)"
      ]
     },
     "execution_count": 38,
     "metadata": {},
     "output_type": "execute_result"
    }
   ],
   "source": [
    "# running a chi2 test on the observed crosstab\n",
    "chi2, p, degf, expected = stats.chi2_contingency(observed)\n",
    "chi2, p"
   ]
  },
  {
   "cell_type": "code",
   "execution_count": 39,
   "id": "07767896-428d-432e-98fb-e28be28318c7",
   "metadata": {},
   "outputs": [],
   "source": [
    "# Examining high cost areas by income and risk score\n",
    "damage_area = train[train['prop_id'].isin([136,137,141,138,216,139,142,67,135,60])]"
   ]
  },
  {
   "cell_type": "code",
   "execution_count": 40,
   "id": "46b1bbeb-b5d2-4f43-a951-319b51153aee",
   "metadata": {},
   "outputs": [
    {
     "data": {
      "text/plain": [
       "594.5707831325301"
      ]
     },
     "execution_count": 40,
     "metadata": {},
     "output_type": "execute_result"
    }
   ],
   "source": [
    "damage_area.risk_score.mean()"
   ]
  },
  {
   "cell_type": "code",
   "execution_count": 41,
   "id": "bfd6af3a-dbf4-4c27-9fdf-4502a78c9466",
   "metadata": {},
   "outputs": [
    {
     "data": {
      "text/plain": [
       "5890.0272339357425"
      ]
     },
     "execution_count": 41,
     "metadata": {},
     "output_type": "execute_result"
    }
   ],
   "source": [
    "damage_area.monthly_inc.mean()"
   ]
  },
  {
   "cell_type": "code",
   "execution_count": 42,
   "id": "65c58dc2-7a76-4780-844c-e6c59cb3d8f9",
   "metadata": {},
   "outputs": [
    {
     "data": {
      "text/plain": [
       "28"
      ]
     },
     "execution_count": 42,
     "metadata": {},
     "output_type": "execute_result"
    }
   ],
   "source": [
    "train.reason.nunique()"
   ]
  },
  {
   "cell_type": "code",
   "execution_count": 43,
   "id": "7fe15fa9-bdda-4e5e-bb3b-842f1cdba4cc",
   "metadata": {},
   "outputs": [],
   "source": [
    "train_scaled, val_scaled, test_scaled = w.scale_splits(X_train, X_val, X_test, StandardScaler(), \n",
    "                                                       columns = ['age', 'rent', 'monthly_inc', \n",
    "                                                                  'term', 'total_inc', 'risk_score'])"
   ]
  },
  {
   "cell_type": "code",
   "execution_count": 44,
   "id": "c5995ad6-eb40-491d-901b-ad0f9f69ac77",
   "metadata": {},
   "outputs": [
    {
     "ename": "KeyError",
     "evalue": "2707",
     "output_type": "error",
     "traceback": [
      "\u001b[0;31m---------------------------------------------------------------------------\u001b[0m",
      "\u001b[0;31mKeyError\u001b[0m                                  Traceback (most recent call last)",
      "File \u001b[0;32m/opt/homebrew/anaconda3/lib/python3.9/site-packages/pandas/core/indexes/base.py:3629\u001b[0m, in \u001b[0;36mIndex.get_loc\u001b[0;34m(self, key, method, tolerance)\u001b[0m\n\u001b[1;32m   3628\u001b[0m \u001b[38;5;28;01mtry\u001b[39;00m:\n\u001b[0;32m-> 3629\u001b[0m     \u001b[38;5;28;01mreturn\u001b[39;00m \u001b[38;5;28;43mself\u001b[39;49m\u001b[38;5;241;43m.\u001b[39;49m\u001b[43m_engine\u001b[49m\u001b[38;5;241;43m.\u001b[39;49m\u001b[43mget_loc\u001b[49m\u001b[43m(\u001b[49m\u001b[43mcasted_key\u001b[49m\u001b[43m)\u001b[49m\n\u001b[1;32m   3630\u001b[0m \u001b[38;5;28;01mexcept\u001b[39;00m \u001b[38;5;167;01mKeyError\u001b[39;00m \u001b[38;5;28;01mas\u001b[39;00m err:\n",
      "File \u001b[0;32m/opt/homebrew/anaconda3/lib/python3.9/site-packages/pandas/_libs/index.pyx:136\u001b[0m, in \u001b[0;36mpandas._libs.index.IndexEngine.get_loc\u001b[0;34m()\u001b[0m\n",
      "File \u001b[0;32m/opt/homebrew/anaconda3/lib/python3.9/site-packages/pandas/_libs/index.pyx:163\u001b[0m, in \u001b[0;36mpandas._libs.index.IndexEngine.get_loc\u001b[0;34m()\u001b[0m\n",
      "File \u001b[0;32mpandas/_libs/hashtable_class_helper.pxi:2131\u001b[0m, in \u001b[0;36mpandas._libs.hashtable.Int64HashTable.get_item\u001b[0;34m()\u001b[0m\n",
      "File \u001b[0;32mpandas/_libs/hashtable_class_helper.pxi:2140\u001b[0m, in \u001b[0;36mpandas._libs.hashtable.Int64HashTable.get_item\u001b[0;34m()\u001b[0m\n",
      "\u001b[0;31mKeyError\u001b[0m: 2707",
      "\nThe above exception was the direct cause of the following exception:\n",
      "\u001b[0;31mKeyError\u001b[0m                                  Traceback (most recent call last)",
      "Input \u001b[0;32mIn [44]\u001b[0m, in \u001b[0;36m<cell line: 1>\u001b[0;34m()\u001b[0m\n\u001b[0;32m----> 1\u001b[0m \u001b[43mval_scaled\u001b[49m\u001b[38;5;241;43m.\u001b[39;49m\u001b[43mloc\u001b[49m\u001b[43m[\u001b[49m\u001b[38;5;241;43m2707\u001b[39;49m\u001b[43m]\u001b[49m\n",
      "File \u001b[0;32m/opt/homebrew/anaconda3/lib/python3.9/site-packages/pandas/core/indexing.py:967\u001b[0m, in \u001b[0;36m_LocationIndexer.__getitem__\u001b[0;34m(self, key)\u001b[0m\n\u001b[1;32m    964\u001b[0m axis \u001b[38;5;241m=\u001b[39m \u001b[38;5;28mself\u001b[39m\u001b[38;5;241m.\u001b[39maxis \u001b[38;5;129;01mor\u001b[39;00m \u001b[38;5;241m0\u001b[39m\n\u001b[1;32m    966\u001b[0m maybe_callable \u001b[38;5;241m=\u001b[39m com\u001b[38;5;241m.\u001b[39mapply_if_callable(key, \u001b[38;5;28mself\u001b[39m\u001b[38;5;241m.\u001b[39mobj)\n\u001b[0;32m--> 967\u001b[0m \u001b[38;5;28;01mreturn\u001b[39;00m \u001b[38;5;28;43mself\u001b[39;49m\u001b[38;5;241;43m.\u001b[39;49m\u001b[43m_getitem_axis\u001b[49m\u001b[43m(\u001b[49m\u001b[43mmaybe_callable\u001b[49m\u001b[43m,\u001b[49m\u001b[43m \u001b[49m\u001b[43maxis\u001b[49m\u001b[38;5;241;43m=\u001b[39;49m\u001b[43maxis\u001b[49m\u001b[43m)\u001b[49m\n",
      "File \u001b[0;32m/opt/homebrew/anaconda3/lib/python3.9/site-packages/pandas/core/indexing.py:1205\u001b[0m, in \u001b[0;36m_LocIndexer._getitem_axis\u001b[0;34m(self, key, axis)\u001b[0m\n\u001b[1;32m   1203\u001b[0m \u001b[38;5;66;03m# fall thru to straight lookup\u001b[39;00m\n\u001b[1;32m   1204\u001b[0m \u001b[38;5;28mself\u001b[39m\u001b[38;5;241m.\u001b[39m_validate_key(key, axis)\n\u001b[0;32m-> 1205\u001b[0m \u001b[38;5;28;01mreturn\u001b[39;00m \u001b[38;5;28;43mself\u001b[39;49m\u001b[38;5;241;43m.\u001b[39;49m\u001b[43m_get_label\u001b[49m\u001b[43m(\u001b[49m\u001b[43mkey\u001b[49m\u001b[43m,\u001b[49m\u001b[43m \u001b[49m\u001b[43maxis\u001b[49m\u001b[38;5;241;43m=\u001b[39;49m\u001b[43maxis\u001b[49m\u001b[43m)\u001b[49m\n",
      "File \u001b[0;32m/opt/homebrew/anaconda3/lib/python3.9/site-packages/pandas/core/indexing.py:1153\u001b[0m, in \u001b[0;36m_LocIndexer._get_label\u001b[0;34m(self, label, axis)\u001b[0m\n\u001b[1;32m   1151\u001b[0m \u001b[38;5;28;01mdef\u001b[39;00m \u001b[38;5;21m_get_label\u001b[39m(\u001b[38;5;28mself\u001b[39m, label, axis: \u001b[38;5;28mint\u001b[39m):\n\u001b[1;32m   1152\u001b[0m     \u001b[38;5;66;03m# GH#5667 this will fail if the label is not present in the axis.\u001b[39;00m\n\u001b[0;32m-> 1153\u001b[0m     \u001b[38;5;28;01mreturn\u001b[39;00m \u001b[38;5;28;43mself\u001b[39;49m\u001b[38;5;241;43m.\u001b[39;49m\u001b[43mobj\u001b[49m\u001b[38;5;241;43m.\u001b[39;49m\u001b[43mxs\u001b[49m\u001b[43m(\u001b[49m\u001b[43mlabel\u001b[49m\u001b[43m,\u001b[49m\u001b[43m \u001b[49m\u001b[43maxis\u001b[49m\u001b[38;5;241;43m=\u001b[39;49m\u001b[43maxis\u001b[49m\u001b[43m)\u001b[49m\n",
      "File \u001b[0;32m/opt/homebrew/anaconda3/lib/python3.9/site-packages/pandas/core/generic.py:3864\u001b[0m, in \u001b[0;36mNDFrame.xs\u001b[0;34m(self, key, axis, level, drop_level)\u001b[0m\n\u001b[1;32m   3862\u001b[0m             new_index \u001b[38;5;241m=\u001b[39m index[loc]\n\u001b[1;32m   3863\u001b[0m \u001b[38;5;28;01melse\u001b[39;00m:\n\u001b[0;32m-> 3864\u001b[0m     loc \u001b[38;5;241m=\u001b[39m \u001b[43mindex\u001b[49m\u001b[38;5;241;43m.\u001b[39;49m\u001b[43mget_loc\u001b[49m\u001b[43m(\u001b[49m\u001b[43mkey\u001b[49m\u001b[43m)\u001b[49m\n\u001b[1;32m   3866\u001b[0m     \u001b[38;5;28;01mif\u001b[39;00m \u001b[38;5;28misinstance\u001b[39m(loc, np\u001b[38;5;241m.\u001b[39mndarray):\n\u001b[1;32m   3867\u001b[0m         \u001b[38;5;28;01mif\u001b[39;00m loc\u001b[38;5;241m.\u001b[39mdtype \u001b[38;5;241m==\u001b[39m np\u001b[38;5;241m.\u001b[39mbool_:\n",
      "File \u001b[0;32m/opt/homebrew/anaconda3/lib/python3.9/site-packages/pandas/core/indexes/base.py:3631\u001b[0m, in \u001b[0;36mIndex.get_loc\u001b[0;34m(self, key, method, tolerance)\u001b[0m\n\u001b[1;32m   3629\u001b[0m     \u001b[38;5;28;01mreturn\u001b[39;00m \u001b[38;5;28mself\u001b[39m\u001b[38;5;241m.\u001b[39m_engine\u001b[38;5;241m.\u001b[39mget_loc(casted_key)\n\u001b[1;32m   3630\u001b[0m \u001b[38;5;28;01mexcept\u001b[39;00m \u001b[38;5;167;01mKeyError\u001b[39;00m \u001b[38;5;28;01mas\u001b[39;00m err:\n\u001b[0;32m-> 3631\u001b[0m     \u001b[38;5;28;01mraise\u001b[39;00m \u001b[38;5;167;01mKeyError\u001b[39;00m(key) \u001b[38;5;28;01mfrom\u001b[39;00m \u001b[38;5;21;01merr\u001b[39;00m\n\u001b[1;32m   3632\u001b[0m \u001b[38;5;28;01mexcept\u001b[39;00m \u001b[38;5;167;01mTypeError\u001b[39;00m:\n\u001b[1;32m   3633\u001b[0m     \u001b[38;5;66;03m# If we have a listlike key, _check_indexing_error will raise\u001b[39;00m\n\u001b[1;32m   3634\u001b[0m     \u001b[38;5;66;03m#  InvalidIndexError. Otherwise we fall through and re-raise\u001b[39;00m\n\u001b[1;32m   3635\u001b[0m     \u001b[38;5;66;03m#  the TypeError.\u001b[39;00m\n\u001b[1;32m   3636\u001b[0m     \u001b[38;5;28mself\u001b[39m\u001b[38;5;241m.\u001b[39m_check_indexing_error(key)\n",
      "\u001b[0;31mKeyError\u001b[0m: 2707"
     ]
    }
   ],
   "source": [
    "val_scaled.loc[2707]"
   ]
  },
  {
   "cell_type": "code",
   "execution_count": 45,
   "id": "608ed77c-45d2-47bc-82d7-c3d36c9a3f2d",
   "metadata": {},
   "outputs": [],
   "source": [
    "def states(val):\n",
    "    '''\n",
    "    This funciton takes in a column of values and uses a previously established property key to \n",
    "    convert each property id into the name of the state in which the property resides\n",
    "    '''\n",
    "    if val in range(53,116) or val in range(152,159) or val in [198,218,229,252,440,441,442,458]:\n",
    "        return 'Texas'\n",
    "    elif val in range(116,124) or val in [159, 444]:\n",
    "        return 'North Carolina'\n",
    "    elif val in range(125,131) or val in [164,183,212,213,217, 253]:\n",
    "        return 'Colorado'\n",
    "    elif val in range(142,147) or val in [216]:\n",
    "        return 'Arizona'\n",
    "    elif val == 131:\n",
    "        return 'California'\n",
    "    elif val in range(132,142) or val in [385,443,459]:\n",
    "        return 'Georgia'\n",
    "    elif val in [277,280]:\n",
    "        return 'Tennessee'\n",
    "    elif val in range(147,152) or val in [160,161,162,163]:\n",
    "        return 'Washington'\n",
    "    "
   ]
  },
  {
   "cell_type": "code",
   "execution_count": 46,
   "id": "4f8c2717-5986-43e7-a6c0-08f02d9f26d5",
   "metadata": {},
   "outputs": [],
   "source": [
    "# Converting property id\n",
    "train.prop_id = train.prop_id.apply(states)"
   ]
  },
  {
   "cell_type": "code",
   "execution_count": null,
   "id": "37174bb0-ffb3-4ff4-be7b-efb75f9299f3",
   "metadata": {},
   "outputs": [],
   "source": [
    "len(train[train.Recommendation.str.startswith('R')])"
   ]
  },
  {
   "cell_type": "code",
   "execution_count": null,
   "id": "0c000b5e-171d-42aa-a4e2-f945897e7395",
   "metadata": {},
   "outputs": [],
   "source": [
    "# Next lines with np where are all previous attempts at changing prop id to state name\n",
    "train.prop_id = np.where((train.prop_id.isin(range(53,116))) | \n",
    "                         (train.prop_id.isin(range(152,159)) | \n",
    "                          (train.prop_id.isin([198,218,229,252,440,441,442,458]))), 'Texas', train.prop_id)"
   ]
  },
  {
   "cell_type": "code",
   "execution_count": null,
   "id": "609704bc-83b3-4342-a844-a7f47413f627",
   "metadata": {},
   "outputs": [],
   "source": [
    "train.prop_id = np.where((train.prop_id.isin(range(116,124))) | \n",
    "                         train.prop_id.isin([159, 444]), 'North Carolina', train.prop_id)"
   ]
  },
  {
   "cell_type": "code",
   "execution_count": null,
   "id": "d3023b8e-ec23-45a9-85b4-a4ed2767bb34",
   "metadata": {},
   "outputs": [],
   "source": [
    "train.prop_id = np.where((train.prop_id.isin(range(125,131))) | \n",
    "                          (train.prop_id.isin([164,183,212,213,217, 253])), 'Colorado', train.prop_id)"
   ]
  },
  {
   "cell_type": "code",
   "execution_count": null,
   "id": "a96f1537-9b14-4d26-aeae-f0e0cfd5a6da",
   "metadata": {},
   "outputs": [],
   "source": [
    "train.prop_id = np.where((train.prop_id.isin(range(142,147))) | \n",
    "                          (train.prop_id.isin([216])), 'Arizona', train.prop_id)"
   ]
  },
  {
   "cell_type": "code",
   "execution_count": null,
   "id": "e0c27d9d-1990-40c0-813a-0a03641abeb9",
   "metadata": {},
   "outputs": [],
   "source": [
    "train.prop_id = np.where(train.prop_id.isin([131]), 'California', train.prop_id)"
   ]
  },
  {
   "cell_type": "code",
   "execution_count": null,
   "id": "e00e9213-5476-49fc-bd75-154ea201f4c3",
   "metadata": {},
   "outputs": [],
   "source": [
    "train.prop_id = np.where((train.prop_id.isin(range(132,142))) | \n",
    "                          (train.prop_id.isin([385,443,459])), 'Georgia', train.prop_id)"
   ]
  },
  {
   "cell_type": "code",
   "execution_count": null,
   "id": "22cb076e-cd86-42b0-90cc-0b2aaaa12f16",
   "metadata": {},
   "outputs": [],
   "source": [
    "train.prop_id = np.where((train.prop_id.isin([277,280])), 'Tennessee', train.prop_id)"
   ]
  },
  {
   "cell_type": "code",
   "execution_count": null,
   "id": "379f202a-9d90-48a7-a5a9-e3580513bad5",
   "metadata": {},
   "outputs": [],
   "source": [
    "train.prop_id = np.where((train.prop_id.isin(range(147,152))) | \n",
    "                          (train.prop_id.isin([160,161,162,163])), 'Washington', train.prop_id)"
   ]
  },
  {
   "cell_type": "code",
   "execution_count": null,
   "id": "cd1564e8-3da8-4fb1-9ef1-f8c46a344959",
   "metadata": {},
   "outputs": [],
   "source": []
  },
  {
   "cell_type": "code",
   "execution_count": null,
   "id": "1accd51c-4f97-46de-af29-2aec5bcf5084",
   "metadata": {},
   "outputs": [],
   "source": []
  },
  {
   "cell_type": "code",
   "execution_count": null,
   "id": "21cecba8-f101-4a4e-bf8e-bc12382ff995",
   "metadata": {},
   "outputs": [],
   "source": [
    "train.nunique()"
   ]
  },
  {
   "cell_type": "code",
   "execution_count": null,
   "id": "8f2d5896-a181-4887-8f7c-ff9922e80157",
   "metadata": {},
   "outputs": [],
   "source": [
    "train"
   ]
  },
  {
   "cell_type": "code",
   "execution_count": null,
   "id": "9e0e2596-8145-4d24-b2d8-d8748054467c",
   "metadata": {},
   "outputs": [],
   "source": [
    "df['bad_resident'][df.risk_score == 0].value_counts()"
   ]
  },
  {
   "cell_type": "code",
   "execution_count": null,
   "id": "dec56947-1e99-4c91-800e-5d6e62dbae9c",
   "metadata": {},
   "outputs": [],
   "source": [
    "35/767"
   ]
  },
  {
   "cell_type": "code",
   "execution_count": 47,
   "id": "3989075f-5975-47f2-aefe-581e6f0ae1e7",
   "metadata": {},
   "outputs": [],
   "source": [
    "CO = len(train[(train.prop_id == 'Colorado') & (train.bad_resident == 1)])/ len(train[train.prop_id == 'Colorado'])"
   ]
  },
  {
   "cell_type": "code",
   "execution_count": 48,
   "id": "fe2ed9c3-0606-4e78-b3d8-b7b21e1eed90",
   "metadata": {},
   "outputs": [],
   "source": [
    "TX = len(train[(train.prop_id == 'Texas') & (train.bad_resident == 1)])/ len(train[train.prop_id == 'Texas'])"
   ]
  },
  {
   "cell_type": "code",
   "execution_count": 49,
   "id": "e5d1ec99-a7d9-42ce-9fb8-8f84899c6517",
   "metadata": {},
   "outputs": [],
   "source": [
    "GA = len(train[(train.prop_id == 'Georgia') & (train.bad_resident == 1)])/ len(train[train.prop_id == 'Georgia'])"
   ]
  },
  {
   "cell_type": "code",
   "execution_count": 50,
   "id": "cfc5e817-6c02-4c50-9419-2eeaa78d1b01",
   "metadata": {},
   "outputs": [],
   "source": [
    "AZ = len(train[(train.prop_id == 'Arizona') & (train.bad_resident == 1)])/ len(train[train.prop_id == 'Arizona'])"
   ]
  },
  {
   "cell_type": "code",
   "execution_count": 51,
   "id": "6ee05628-13e9-40a4-b03b-9d0a02a89322",
   "metadata": {},
   "outputs": [],
   "source": [
    "NC = len(train[(train.prop_id == 'North Carolina') & (train.bad_resident == 1)])/ len(train[train.prop_id == 'North Carolina'])"
   ]
  },
  {
   "cell_type": "code",
   "execution_count": 52,
   "id": "0417024d-b3c4-47e6-9dcb-c5a49ae40bd1",
   "metadata": {},
   "outputs": [],
   "source": [
    "st = pd.DataFrame(data = {'Colorado': CO, 'Texas': TX, 'Georgia': GA, \n",
    "                     'Arizona': AZ, 'North Carolina': NC}, index = [0])"
   ]
  },
  {
   "cell_type": "code",
   "execution_count": 53,
   "id": "3274505f-9afe-433a-828e-7673516f6077",
   "metadata": {},
   "outputs": [],
   "source": [
    "st = st.round(2)*100\n"
   ]
  },
  {
   "cell_type": "code",
   "execution_count": 54,
   "id": "aaadcebb-7c06-4a61-ac70-8bcc20010778",
   "metadata": {},
   "outputs": [
    {
     "data": {
      "text/html": [
       "<div>\n",
       "<style scoped>\n",
       "    .dataframe tbody tr th:only-of-type {\n",
       "        vertical-align: middle;\n",
       "    }\n",
       "\n",
       "    .dataframe tbody tr th {\n",
       "        vertical-align: top;\n",
       "    }\n",
       "\n",
       "    .dataframe thead th {\n",
       "        text-align: right;\n",
       "    }\n",
       "</style>\n",
       "<table border=\"1\" class=\"dataframe\">\n",
       "  <thead>\n",
       "    <tr style=\"text-align: right;\">\n",
       "      <th></th>\n",
       "      <th>North Carolina</th>\n",
       "      <th>Texas</th>\n",
       "      <th>Colorado</th>\n",
       "      <th>Arizona</th>\n",
       "      <th>Georgia</th>\n",
       "    </tr>\n",
       "  </thead>\n",
       "  <tbody>\n",
       "    <tr>\n",
       "      <th>0</th>\n",
       "      <td>1.0</td>\n",
       "      <td>2.0</td>\n",
       "      <td>4.0</td>\n",
       "      <td>5.0</td>\n",
       "      <td>9.0</td>\n",
       "    </tr>\n",
       "  </tbody>\n",
       "</table>\n",
       "</div>"
      ],
      "text/plain": [
       "   North Carolina  Texas  Colorado  Arizona  Georgia\n",
       "0             1.0    2.0       4.0      5.0      9.0"
      ]
     },
     "execution_count": 54,
     "metadata": {},
     "output_type": "execute_result"
    }
   ],
   "source": [
    "st = st.T.sort_values(0).T\n",
    "st"
   ]
  },
  {
   "cell_type": "code",
   "execution_count": 56,
   "id": "8e1a8742-03cd-4d34-87eb-d6e1ae06eca9",
   "metadata": {},
   "outputs": [
    {
     "data": {
      "text/plain": [
       "<AxesSubplot:>"
      ]
     },
     "execution_count": 56,
     "metadata": {},
     "output_type": "execute_result"
    },
    {
     "data": {
      "image/png": "[encoded data removed]",
      "text/plain": [
       "<Figure size 640x480 with 1 Axes>"
      ]
     },
     "metadata": {},
     "output_type": "display_data"
    }
   ],
   "source": [
    "sns.barplot(data = st)"
   ]
  },
  {
   "cell_type": "code",
   "execution_count": null,
   "id": "4fbee587-e9bd-4d16-9c9e-51be653bed2d",
   "metadata": {},
   "outputs": [
    {
     "data": {
      "text/plain": [
       "2707      0\n",
       "4983    745\n",
       "4959    687\n",
       "4492    782\n",
       "995     724\n",
       "       ... \n",
       "987     564\n",
       "2512    740\n",
       "443     598\n",
       "4028    737\n",
       "4980    648\n",
       "Name: risk_score, Length: 2799, dtype: int64"
      ]
     },
     "execution_count": 57,
     "metadata": {},
     "output_type": "execute_result"
    }
   ],
   "source": [
    "train.risk_score"
   ]
  },
  {
   "cell_type": "code",
   "execution_count": 91,
   "id": "e52f02f8-4a83-4718-bd79-a67382eb05b6",
   "metadata": {},
   "outputs": [],
   "source": [
    "inc = [1000,1100,1200,1300,1400,1500,1600,1700,1800,1900,2000]\n",
    "r2 = len(train[(train.rent >= 1000) & (train.rent < 1101) & (train.bad_resident == 1)]) / len(train[(train.rent >= 1000) & (train.rent < 1101)])\n",
    "r3 = (len(train[(train.rent > 1100) & (train.rent < 1201) & (train.bad_resident == 1)]) / \n",
    "len(train[(train.rent >1100) & (train.rent < 1201)]))\n",
    "r4 = (len(train[(train.rent >1200) & (train.rent < 1301) & (train.bad_resident == 1)]) / \n",
    "len(train[(train.rent >1200) & (train.rent < 1301)]))\n",
    "r5 = (len(train[(train.rent >1300) & (train.rent < 1401) & (train.bad_resident == 1)]) / \n",
    "len(train[(train.rent >1300) & (train.rent < 1401)]))\n",
    "r6= (len(train[(train.rent >1400) & (train.rent < 1501) & (train.bad_resident == 1)]) / \n",
    "len(train[(train.rent >1400) & (train.rent < 1501)]))\n",
    "r7 = (len(train[(train.rent >1500) & (train.rent < 1601) & (train.bad_resident == 1)]) / \n",
    "len(train[(train.rent >1500) & (train.rent < 1601)]))\n",
    "r8 = (len(train[(train.rent >1600) & (train.rent < 1701) & (train.bad_resident == 1)]) / \n",
    "len(train[(train.rent >1600) & (train.rent < 1701)]))\n",
    "r9 = (len(train[(train.rent >1700) & (train.rent < 1801) & (train.bad_resident == 1)]) / \n",
    "len(train[(train.rent >1700) & (train.rent < 1801)]))\n",
    "r10 = (len(train[(train.rent >1800) & (train.rent < 1901) & (train.bad_resident == 1)]) / \n",
    "len(train[(train.rent >1800) & (train.rent < 1901)]))\n",
    "r11 = (len(train[(train.rent >1900) & (train.rent < 10000000) & (train.bad_resident == 1)]) / \n",
    "len(train[(train.rent >1900) & (train.rent < 1000000)]))"
   ]
  },
  {
   "cell_type": "code",
   "execution_count": 97,
   "id": "98bec8e0-271e-4365-bc98-5815fa2e6771",
   "metadata": {},
   "outputs": [],
   "source": [
    "rs = pd.DataFrame(data = {'<1100': r2, '<1200': r3, '<1300': r4, '<1400': r5,\n",
    "                         '<1500': r6, '<1600': r7, '<1700':r8, '<1800': r9,\n",
    "                         '<1900': r10, '>1900': r11}, index = [0])"
   ]
  },
  {
   "cell_type": "code",
   "execution_count": 98,
   "id": "eaf3e16a-9e0b-4571-9bd0-5b29e9b175c3",
   "metadata": {},
   "outputs": [],
   "source": [
    "rs = rs.T.sort_values(0).T"
   ]
  },
  {
   "cell_type": "code",
   "execution_count": 99,
   "id": "814f351b-1ad9-480f-8758-68da361283a7",
   "metadata": {},
   "outputs": [],
   "source": [
    "rs = rs.round(2) * 100"
   ]
  },
  {
   "cell_type": "code",
   "execution_count": 100,
   "id": "a7162fc3-111a-4bce-b846-f7d13bbb05d3",
   "metadata": {},
   "outputs": [
    {
     "data": {
      "text/plain": [
       "<AxesSubplot:>"
      ]
     },
     "execution_count": 100,
     "metadata": {},
     "output_type": "execute_result"
    },
    {
     "data": {
      "image/png": "[encoded data removed]",
      "text/plain": [
       "<Figure size 640x480 with 1 Axes>"
      ]
     },
     "metadata": {},
     "output_type": "display_data"
    }
   ],
   "source": [
    "sns.barplot(data = rs)"
   ]
  },
  {
   "cell_type": "code",
   "execution_count": null,
   "id": "f89d5fcf-d581-442d-ac9b-ddf7e638df07",
   "metadata": {},
   "outputs": [],
   "source": []
  },
  {
   "cell_type": "code",
   "execution_count": 104,
   "id": "0617da82-bcdc-4d2a-a8d8-cd9cd773aea1",
   "metadata": {},
   "outputs": [],
   "source": [
    "[2,4,6,11,12,13,14,15,16,17,18]\n",
    "t1 = len(train[(train.term == 2) & (train.bad_resident == 1)])/ len(train[train.term == 2])\n",
    "t2 = len(train[(train.term == 4) & (train.bad_resident == 1)])/ len(train[train.term == 4])\n",
    "t3 = len(train[(train.term == 6) & (train.bad_resident == 1)])/ len(train[train.term == 6])\n",
    "t4 = len(train[(train.term == 11) & (train.bad_resident == 1)])/ len(train[train.term == 11])\n",
    "t5 = len(train[(train.term == 12) & (train.bad_resident == 1)])/ len(train[train.term == 12])\n",
    "t6 = len(train[(train.term == 13) & (train.bad_resident == 1)])/ len(train[train.term == 13])\n",
    "t7 = len(train[(train.term == 14) & (train.bad_resident == 1)])/ len(train[train.term == 14])\n",
    "t8 = len(train[(train.term == 15) & (train.bad_resident == 1)])/ len(train[train.term == 15])\n",
    "t9 = len(train[(train.term == 16) & (train.bad_resident == 1)])/ len(train[train.term == 16])\n",
    "t10 = len(train[(train.term == 17) & (train.bad_resident == 1)])/ len(train[train.term == 17])\n",
    "t11 = len(train[(train.term == 18) & (train.bad_resident == 1)])/ len(train[train.term == 18])"
   ]
  },
  {
   "cell_type": "code",
   "execution_count": 105,
   "id": "619bc29f-1b79-49fc-b24f-55a6101c7e3e",
   "metadata": {},
   "outputs": [],
   "source": [
    "ter = pd.DataFrame(data = {'1': t1, '4': t2, '6': t3, '11':t4, '12':t5, '13':t6, '14':t7, \n",
    "                           '15':t8, '16':t9, '17':t10, '18':t11}, index = [0])"
   ]
  },
  {
   "cell_type": "code",
   "execution_count": 106,
   "id": "25e216e8-32ca-4433-b247-44c6fe05947c",
   "metadata": {},
   "outputs": [],
   "source": [
    "ter = ter.T.sort_values(0).T"
   ]
  },
  {
   "cell_type": "code",
   "execution_count": 107,
   "id": "0118c1a6-c2f1-433c-aba1-5c1236571763",
   "metadata": {},
   "outputs": [],
   "source": [
    "ter = ter.round(2) * 100"
   ]
  },
  {
   "cell_type": "code",
   "execution_count": 109,
   "id": "a62623d5-8efe-406f-ad4b-e6237155eb07",
   "metadata": {},
   "outputs": [
    {
     "data": {
      "text/plain": [
       "<AxesSubplot:>"
      ]
     },
     "execution_count": 109,
     "metadata": {},
     "output_type": "execute_result"
    },
    {
     "data": {
      "image/png": "[encoded data removed]",
      "text/plain": [
       "<Figure size 640x480 with 1 Axes>"
      ]
     },
     "metadata": {},
     "output_type": "display_data"
    }
   ],
   "source": [
    "sns.barplot(data = ter)"
   ]
  },
  {
   "cell_type": "code",
   "execution_count": null,
   "id": "0fc7fb1f-7de8-4c6f-9e3d-2e4834b66bc8",
   "metadata": {},
   "outputs": [],
   "source": []
  }
 ],
 "metadata": {
  "kernelspec": {
   "display_name": "Python 3 (ipykernel)",
   "language": "python",
   "name": "python3"
  },
  "language_info": {
   "codemirror_mode": {
    "name": "ipython",
    "version": 3
   },
   "file_extension": ".py",
   "mimetype": "text/x-python",
   "name": "python",
   "nbconvert_exporter": "python",
   "pygments_lexer": "ipython3",
   "version": "3.9.13"
  }
 },
 "nbformat": 4,
 "nbformat_minor": 5
}
