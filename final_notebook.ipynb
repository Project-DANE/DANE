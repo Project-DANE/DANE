{
 "cells": [
  {
   "cell_type": "markdown",
   "id": "570189f2",
   "metadata": {},
   "source": [
    "# <h1><center>*Predicting Application Acceptance*</center></h1>"
   ]
  },
  {
   "cell_type": "markdown",
   "id": "5a765dd5",
   "metadata": {},
   "source": [
    "# Goals:\n",
    "\n",
    " - Develop a machine learning model that prioritizes recall in identifying high-risk applicants to minimize potential damages caused by accepting them\n",
    " ___"
   ]
  },
  {
   "cell_type": "markdown",
   "id": "68bcc496",
   "metadata": {},
   "source": [
    "# Imports"
   ]
  },
  {
   "cell_type": "code",
   "execution_count": 1,
   "id": "3a6d6d13",
   "metadata": {},
   "outputs": [],
   "source": [
    "import pandas as pd\n",
    "import numpy as np\n",
    "\n",
    "import wrangle as w\n",
    "import explore as e\n",
    "#import modeling as m\n",
    "\n",
    "import seaborn as sns\n",
    "import matplotlib.pyplot as plt \n",
    "\n",
    "from scipy import stats\n",
    "from sklearn.tree import DecisionTreeClassifier\n",
    "from sklearn.ensemble import RandomForestClassifier\n",
    "from sklearn.neighbors import KNeighborsClassifier\n",
    "from sklearn.linear_model import LogisticRegression\n",
    "from sklearn.metrics import classification_report, confusion_matrix\n",
    "\n",
    "import warnings\n",
    "warnings.filterwarnings(\"ignore\")"
   ]
  },
  {
   "cell_type": "markdown",
   "id": "8e93f1b9",
   "metadata": {},
   "source": [
    "---------------------------------------------------------------------------------------------------------------"
   ]
  },
  {
   "cell_type": "markdown",
   "id": "be0fecc9",
   "metadata": {},
   "source": [
    "# Acquire"
   ]
  },
  {
   "cell_type": "markdown",
   "id": "cc575d79",
   "metadata": {},
   "source": [
    " - Data acquired through CWS Apartment SQL Server.\n",
    " - Wrote a SQL query that included 6 different tables and converted to a CSV file\n",
    " - Wrote a function in my wrangle.py file that reads CSV file to extract the data\n",
    " - It contained 739,442 rows and 25 columns before cleaning\n",
    " - Each row represents a resident of the dataset\n",
    " - Each column represents a feature of the dataset \n",
    " \n",
    " __________"
   ]
  },
  {
   "cell_type": "markdown",
   "id": "8069cc9c",
   "metadata": {},
   "source": [
    "# Prepare"
   ]
  },
  {
   "cell_type": "markdown",
   "id": "1742ae8c",
   "metadata": {},
   "source": [
    " - Removed columns that were not useful\n",
    " - Checked for nulls in the data (column dropped later in pipeline)\n",
    " - Checked that column data types were appropriate\n",
    " - Renamed columns\n",
    " - Filtered data for what we were looking for \n",
    " - Removed Outliers\n",
    " - Encoded variables that would promote useability for models\n",
    " - Created dummy variables for categorical variables\n",
    " - Added dummy variables to dataset\n",
    " - Split data into train, validate and test (approx. 56/24/20)\n",
    " \n",
    " \n",
    " _____"
   ]
  },
  {
   "cell_type": "markdown",
   "id": "37686814",
   "metadata": {},
   "source": [
    "# Data Dictionary"
   ]
  },
  {
   "cell_type": "markdown",
   "id": "e6785c84",
   "metadata": {},
   "source": [
    "\n",
    "| Target Variable |     Definition     |\n",
    "| --------------- | ------------------ |\n",
    "|      bad_resident    | 1 for resident that caused loss to company, 0 for otherwise |\n",
    "\n",
    "| Feature  | Definition |\n",
    "| ------------- | ------------- |\n",
    "| id | Tenant Identification Number |\n",
    "| total_charges | Total charges resident has incurred living at apartment   |\n",
    "| amount_paid | Amount tenant has paid towards total charges |\n",
    "| open |  0 is transaction total charge is closed -1 is transaction total charge open|\n",
    "| charge_code | Code of a charge  |\n",
    "| description | Description of a charge with date|\n",
    "| prop_id | Related to property name and location  |\n",
    "| charge_name | Name of a charge  |\n",
    "| sStatus | Status of a tenant (current or past) |\n",
    "| rent | Rent per month |\n",
    "| term | Lease contract in months |  \n",
    "| monthly_inc | Monthly income of a tenant |\n",
    "| GuarantorRequired | If a tenant requires a guarrantor |\n",
    "| total_inc | Yearly income of a tenant |\n",
    "| Recommendation | Acceptance status of applicant |\n",
    "| age | Age of a tenant |\n",
    "| risk_score | Predetermined score of how risky an applicant is at the time of applying |\n",
    "| reason | Reason that drove decision to recommedation |\n",
    "\n",
    "_____"
   ]
  },
  {
   "cell_type": "markdown",
   "id": "b2f50063",
   "metadata": {},
   "source": [
    "# A brief look at the data"
   ]
  },
  {
   "cell_type": "code",
   "execution_count": 2,
   "id": "bfe7d2a2",
   "metadata": {},
   "outputs": [],
   "source": [
    "# acquiring and cleaning the data\n",
    "df = w.get_cws_data()\n",
    "\n",
    "# splitting data into subsets of train, validate, test with X and y splits\n",
    "train, validate, test, X_train, y_train, X_val, y_val, X_test, y_test = w.train_vailidate_test_split(df, 'bad_resident', 'bad_resident')"
   ]
  },
  {
   "cell_type": "code",
   "execution_count": 3,
   "id": "aed1c888",
   "metadata": {},
   "outputs": [
    {
     "data": {
      "text/html": [
       "<div>\n",
       "<style scoped>\n",
       "    .dataframe tbody tr th:only-of-type {\n",
       "        vertical-align: middle;\n",
       "    }\n",
       "\n",
       "    .dataframe tbody tr th {\n",
       "        vertical-align: top;\n",
       "    }\n",
       "\n",
       "    .dataframe thead th {\n",
       "        text-align: right;\n",
       "    }\n",
       "</style>\n",
       "<table border=\"1\" class=\"dataframe\">\n",
       "  <thead>\n",
       "    <tr style=\"text-align: right;\">\n",
       "      <th></th>\n",
       "      <th>id</th>\n",
       "      <th>total_charges</th>\n",
       "      <th>amount_paid</th>\n",
       "      <th>open</th>\n",
       "      <th>charge_code</th>\n",
       "      <th>description</th>\n",
       "      <th>prop_id</th>\n",
       "      <th>charge_name</th>\n",
       "      <th>sStatus</th>\n",
       "      <th>rent</th>\n",
       "      <th>term</th>\n",
       "      <th>monthly_inc</th>\n",
       "      <th>GuarantorRequired</th>\n",
       "      <th>total_inc</th>\n",
       "      <th>Recommendation</th>\n",
       "      <th>age</th>\n",
       "      <th>risk_score</th>\n",
       "      <th>reason</th>\n",
       "      <th>bad_resident</th>\n",
       "    </tr>\n",
       "  </thead>\n",
       "  <tbody>\n",
       "    <tr>\n",
       "      <th>2707</th>\n",
       "      <td>63851</td>\n",
       "      <td>2.00</td>\n",
       "      <td>2.00</td>\n",
       "      <td>0</td>\n",
       "      <td>190</td>\n",
       "      <td>Pest control (02/2023)</td>\n",
       "      <td>126</td>\n",
       "      <td>Pest control</td>\n",
       "      <td>Current</td>\n",
       "      <td>1639</td>\n",
       "      <td>12</td>\n",
       "      <td>3900</td>\n",
       "      <td>False</td>\n",
       "      <td>0</td>\n",
       "      <td>A-Criminal History Meets Requirements</td>\n",
       "      <td>27</td>\n",
       "      <td>0</td>\n",
       "      <td>Meets All Property Requirements</td>\n",
       "      <td>0</td>\n",
       "    </tr>\n",
       "    <tr>\n",
       "      <th>4983</th>\n",
       "      <td>73919</td>\n",
       "      <td>1650.00</td>\n",
       "      <td>1650.00</td>\n",
       "      <td>0</td>\n",
       "      <td>21</td>\n",
       "      <td>Deposit (Amounts subject to screening results)</td>\n",
       "      <td>103</td>\n",
       "      <td>Deposit received</td>\n",
       "      <td>Current</td>\n",
       "      <td>1719</td>\n",
       "      <td>12</td>\n",
       "      <td>6600</td>\n",
       "      <td>False</td>\n",
       "      <td>75684</td>\n",
       "      <td>Accept with Conditions (Extra Deposit)</td>\n",
       "      <td>31</td>\n",
       "      <td>745</td>\n",
       "      <td>NaN</td>\n",
       "      <td>0</td>\n",
       "    </tr>\n",
       "    <tr>\n",
       "      <th>4959</th>\n",
       "      <td>73653</td>\n",
       "      <td>4.00</td>\n",
       "      <td>4.00</td>\n",
       "      <td>0</td>\n",
       "      <td>180</td>\n",
       "      <td>Next Month's Administration Processing Fee</td>\n",
       "      <td>84</td>\n",
       "      <td>Administration processing fee</td>\n",
       "      <td>Current</td>\n",
       "      <td>1661</td>\n",
       "      <td>9</td>\n",
       "      <td>8176</td>\n",
       "      <td>False</td>\n",
       "      <td>221364</td>\n",
       "      <td>Accept with Conditions (Extra Deposit)</td>\n",
       "      <td>37</td>\n",
       "      <td>687</td>\n",
       "      <td>Limited period of Employment History</td>\n",
       "      <td>0</td>\n",
       "    </tr>\n",
       "    <tr>\n",
       "      <th>4492</th>\n",
       "      <td>70961</td>\n",
       "      <td>0.33</td>\n",
       "      <td>0.33</td>\n",
       "      <td>0</td>\n",
       "      <td>190</td>\n",
       "      <td>Pest Control for 5 days</td>\n",
       "      <td>80</td>\n",
       "      <td>Pest control</td>\n",
       "      <td>Current</td>\n",
       "      <td>1579</td>\n",
       "      <td>14</td>\n",
       "      <td>5000</td>\n",
       "      <td>False</td>\n",
       "      <td>101976</td>\n",
       "      <td>Accept</td>\n",
       "      <td>29</td>\n",
       "      <td>782</td>\n",
       "      <td>Meets All Property Requirements</td>\n",
       "      <td>0</td>\n",
       "    </tr>\n",
       "    <tr>\n",
       "      <th>995</th>\n",
       "      <td>33019</td>\n",
       "      <td>1.17</td>\n",
       "      <td>1.17</td>\n",
       "      <td>0</td>\n",
       "      <td>190</td>\n",
       "      <td>Pest Control for 7 days</td>\n",
       "      <td>139</td>\n",
       "      <td>Pest control</td>\n",
       "      <td>Current</td>\n",
       "      <td>1779</td>\n",
       "      <td>13</td>\n",
       "      <td>7500</td>\n",
       "      <td>False</td>\n",
       "      <td>90000</td>\n",
       "      <td>Accept</td>\n",
       "      <td>31</td>\n",
       "      <td>724</td>\n",
       "      <td>Meets All Property Requirements</td>\n",
       "      <td>0</td>\n",
       "    </tr>\n",
       "  </tbody>\n",
       "</table>\n",
       "</div>"
      ],
      "text/plain": [
       "         id  total_charges  amount_paid  open  charge_code  \\\n",
       "2707  63851           2.00         2.00     0          190   \n",
       "4983  73919        1650.00      1650.00     0           21   \n",
       "4959  73653           4.00         4.00     0          180   \n",
       "4492  70961           0.33         0.33     0          190   \n",
       "995   33019           1.17         1.17     0          190   \n",
       "\n",
       "                                         description  prop_id  \\\n",
       "2707                          Pest control (02/2023)      126   \n",
       "4983  Deposit (Amounts subject to screening results)      103   \n",
       "4959      Next Month's Administration Processing Fee       84   \n",
       "4492                         Pest Control for 5 days       80   \n",
       "995                          Pest Control for 7 days      139   \n",
       "\n",
       "                        charge_name  sStatus  rent  term  monthly_inc  \\\n",
       "2707                   Pest control  Current  1639    12         3900   \n",
       "4983               Deposit received  Current  1719    12         6600   \n",
       "4959  Administration processing fee  Current  1661     9         8176   \n",
       "4492                   Pest control  Current  1579    14         5000   \n",
       "995                    Pest control  Current  1779    13         7500   \n",
       "\n",
       "      GuarantorRequired  total_inc                          Recommendation  \\\n",
       "2707              False          0   A-Criminal History Meets Requirements   \n",
       "4983              False      75684  Accept with Conditions (Extra Deposit)   \n",
       "4959              False     221364  Accept with Conditions (Extra Deposit)   \n",
       "4492              False     101976                                  Accept   \n",
       "995               False      90000                                  Accept   \n",
       "\n",
       "      age  risk_score                                reason  bad_resident  \n",
       "2707   27           0       Meets All Property Requirements             0  \n",
       "4983   31         745                                   NaN             0  \n",
       "4959   37         687  Limited period of Employment History             0  \n",
       "4492   29         782       Meets All Property Requirements             0  \n",
       "995    31         724       Meets All Property Requirements             0  "
      ]
     },
     "execution_count": 3,
     "metadata": {},
     "output_type": "execute_result"
    }
   ],
   "source": [
    "#displaying all columns and getting first 5 rows\n",
    "train.head()"
   ]
  },
  {
   "cell_type": "markdown",
   "id": "fe5908d1",
   "metadata": {},
   "source": [
    "# A summary of the data"
   ]
  },
  {
   "cell_type": "code",
   "execution_count": 4,
   "id": "f1ef0888",
   "metadata": {},
   "outputs": [
    {
     "name": "stdout",
     "output_type": "stream",
     "text": [
      "<class 'pandas.core.frame.DataFrame'>\n",
      "Int64Index: 2799 entries, 2707 to 4980\n",
      "Data columns (total 19 columns):\n",
      " #   Column             Non-Null Count  Dtype  \n",
      "---  ------             --------------  -----  \n",
      " 0   id                 2799 non-null   int64  \n",
      " 1   total_charges      2799 non-null   float64\n",
      " 2   amount_paid        2799 non-null   float64\n",
      " 3   open               2799 non-null   int64  \n",
      " 4   charge_code        2799 non-null   int64  \n",
      " 5   description        2799 non-null   object \n",
      " 6   prop_id            2799 non-null   int64  \n",
      " 7   charge_name        2799 non-null   object \n",
      " 8   sStatus            2799 non-null   object \n",
      " 9   rent               2799 non-null   int64  \n",
      " 10  term               2799 non-null   int64  \n",
      " 11  monthly_inc        2799 non-null   int64  \n",
      " 12  GuarantorRequired  2799 non-null   bool   \n",
      " 13  total_inc          2799 non-null   int64  \n",
      " 14  Recommendation     2799 non-null   object \n",
      " 15  age                2799 non-null   int64  \n",
      " 16  risk_score         2799 non-null   int64  \n",
      " 17  reason             2715 non-null   object \n",
      " 18  bad_resident       2799 non-null   int64  \n",
      "dtypes: bool(1), float64(2), int64(11), object(5)\n",
      "memory usage: 418.2+ KB\n"
     ]
    }
   ],
   "source": [
    "# a look at our column names, data types, and null counts\n",
    "train.info()"
   ]
  },
  {
   "cell_type": "markdown",
   "id": "671b5baa",
   "metadata": {},
   "source": [
    "# Explore"
   ]
  },
  {
   "cell_type": "markdown",
   "id": "0761a5cb",
   "metadata": {},
   "source": [
    "### *1. What is the average risk score?*"
   ]
  },
  {
   "cell_type": "code",
   "execution_count": null,
   "id": "669ece2d",
   "metadata": {},
   "outputs": [],
   "source": []
  },
  {
   "cell_type": "code",
   "execution_count": null,
   "id": "a48e3e64",
   "metadata": {},
   "outputs": [],
   "source": []
  },
  {
   "cell_type": "markdown",
   "id": "ce94a580",
   "metadata": {},
   "source": [
    "**Takeaways**\n",
    "\n",
    "- TBD\n",
    "\n",
    "____"
   ]
  },
  {
   "cell_type": "markdown",
   "id": "3b8809d6",
   "metadata": {},
   "source": [
    "### *2. Is risk score an indicator of a damage?*"
   ]
  },
  {
   "cell_type": "code",
   "execution_count": null,
   "id": "a5cca7fa",
   "metadata": {},
   "outputs": [],
   "source": []
  },
  {
   "cell_type": "code",
   "execution_count": null,
   "id": "94c43bb8",
   "metadata": {},
   "outputs": [],
   "source": []
  },
  {
   "cell_type": "markdown",
   "id": "4b5a4b34",
   "metadata": {},
   "source": [
    "**Takeaways**\n",
    "\n",
    "- TBD\n",
    "\n",
    "____"
   ]
  },
  {
   "cell_type": "markdown",
   "id": "d26224e3",
   "metadata": {},
   "source": [
    "### *3. Is monthly/yearly income an indicator of a damage?*"
   ]
  },
  {
   "cell_type": "code",
   "execution_count": null,
   "id": "6bddeaac",
   "metadata": {},
   "outputs": [],
   "source": []
  },
  {
   "cell_type": "code",
   "execution_count": null,
   "id": "bc4804e4",
   "metadata": {},
   "outputs": [],
   "source": []
  },
  {
   "cell_type": "markdown",
   "id": "17284862",
   "metadata": {},
   "source": [
    "**Takeaways**\n",
    "\n",
    "- TBD\n",
    "\n",
    "____"
   ]
  },
  {
   "cell_type": "markdown",
   "id": "03a50730",
   "metadata": {},
   "source": [
    "### *4. Is requirement of a guarantor  a good driver?*"
   ]
  },
  {
   "cell_type": "code",
   "execution_count": null,
   "id": "5d83ccd6",
   "metadata": {},
   "outputs": [],
   "source": []
  },
  {
   "cell_type": "code",
   "execution_count": null,
   "id": "9da8b768",
   "metadata": {},
   "outputs": [],
   "source": []
  },
  {
   "cell_type": "markdown",
   "id": "43a01585",
   "metadata": {},
   "source": [
    "**Takeaways**\n",
    "\n",
    "- TBD\n",
    "\n",
    "____"
   ]
  },
  {
   "cell_type": "markdown",
   "id": "0b6b6440",
   "metadata": {},
   "source": [
    "### *5. Is there a relationship between rent and damages?*"
   ]
  },
  {
   "cell_type": "code",
   "execution_count": null,
   "id": "86d44ac9",
   "metadata": {},
   "outputs": [],
   "source": []
  },
  {
   "cell_type": "code",
   "execution_count": null,
   "id": "fa5178fc",
   "metadata": {},
   "outputs": [],
   "source": []
  },
  {
   "cell_type": "markdown",
   "id": "299e1253",
   "metadata": {},
   "source": [
    "**Takeaways**\n",
    "\n",
    "- TBD\n",
    "\n",
    "____"
   ]
  },
  {
   "cell_type": "markdown",
   "id": "87e1471e",
   "metadata": {},
   "source": [
    "### *6. Are certain age group more likely to cause a damage?*"
   ]
  },
  {
   "cell_type": "code",
   "execution_count": null,
   "id": "6540ecaf",
   "metadata": {},
   "outputs": [],
   "source": []
  },
  {
   "cell_type": "markdown",
   "id": "66219bb4",
   "metadata": {},
   "source": [
    "**Takeaways**\n",
    "\n",
    "- TBD\n",
    "\n",
    "**Ran a $Chi^2$ test to evaluate if there is dependecy between age and what we consider a bad resident** <br>\n",
    "\n",
    "    \n",
    "$H_0$: Age is not dependent on whether a resident will be considered as a bad resident<br>\n",
    "$H_a$: Age is dependent on whether a resident will be considered as a bad resident\n",
    "\n",
    " - Confidence interval of 95%\n",
    " - Alpha is .05\n",
    "\n",
    "**Takeaways**\n",
    "\n",
    "- TBD\n",
    "\n",
    "____"
   ]
  },
  {
   "cell_type": "code",
   "execution_count": 5,
   "id": "9d33e3e3",
   "metadata": {},
   "outputs": [
    {
     "data": {
      "text/plain": [
       "(17.908732616375822, 0.16101568116307982)"
      ]
     },
     "execution_count": 5,
     "metadata": {},
     "output_type": "execute_result"
    }
   ],
   "source": [
    "binss= [0, 5, 10, 15, 20, 25, 30, 35, 40 , 45, 50, 55, 60, 65, 70, 75, 80]\n",
    "age_bin = pd.cut(train.age, bins= binss)\n",
    "e.chi_test(age_bin, train)"
   ]
  },
  {
   "cell_type": "markdown",
   "id": "b04e7b0f",
   "metadata": {},
   "source": [
    "### *7. Are short term renters more likely to cause a damage?*"
   ]
  },
  {
   "cell_type": "code",
   "execution_count": null,
   "id": "b89c8991",
   "metadata": {},
   "outputs": [],
   "source": []
  },
  {
   "cell_type": "code",
   "execution_count": null,
   "id": "317e557d",
   "metadata": {},
   "outputs": [],
   "source": []
  },
  {
   "cell_type": "markdown",
   "id": "c9cfbe8b",
   "metadata": {},
   "source": [
    "**Takeaways**\n",
    "\n",
    "- TBD\n",
    "\n",
    "**Ran a $Chi^2$ to evaluate if damage (short term renters more likely to or not) is more prevelant among short term renters** <br>\n",
    "\n",
    "$H_0$: Term lease is not dependent on damage<br>\n",
    "$H_a$: Term lease is dependent on damage\n",
    "\n",
    " - Confidence interval of 95%\n",
    " - Alpha is .05\n",
    "\n",
    "**Takeaways**\n",
    "\n",
    "- TBD\n",
    "\n",
    "____"
   ]
  },
  {
   "cell_type": "markdown",
   "id": "266cde7c",
   "metadata": {},
   "source": [
    "### *8. Do certain property has more damage?*"
   ]
  },
  {
   "cell_type": "code",
   "execution_count": null,
   "id": "6e571cfb",
   "metadata": {},
   "outputs": [],
   "source": []
  },
  {
   "cell_type": "code",
   "execution_count": null,
   "id": "7884fd73",
   "metadata": {},
   "outputs": [],
   "source": []
  },
  {
   "cell_type": "markdown",
   "id": "4675a557",
   "metadata": {},
   "source": [
    "### *9. What is the most common damage code?*"
   ]
  },
  {
   "cell_type": "code",
   "execution_count": null,
   "id": "c3408e08",
   "metadata": {},
   "outputs": [],
   "source": []
  },
  {
   "cell_type": "code",
   "execution_count": null,
   "id": "2730aacd",
   "metadata": {},
   "outputs": [],
   "source": []
  },
  {
   "cell_type": "markdown",
   "id": "da6a4c63",
   "metadata": {},
   "source": [
    "**Takeaways**\n",
    "\n",
    "- TBD\n",
    "\n",
    "____"
   ]
  },
  {
   "cell_type": "markdown",
   "id": "d029d95d",
   "metadata": {},
   "source": [
    "### *10. Does Location Affect Bad Resident Status?*"
   ]
  },
  {
   "cell_type": "code",
   "execution_count": 6,
   "id": "d996421a",
   "metadata": {},
   "outputs": [
    {
     "ename": "AttributeError",
     "evalue": "module 'explore' has no attribute 'plot_categorical_and_continuous_vars'",
     "output_type": "error",
     "traceback": [
      "\u001b[0;31m---------------------------------------------------------------------------\u001b[0m",
      "\u001b[0;31mAttributeError\u001b[0m                            Traceback (most recent call last)",
      "Input \u001b[0;32mIn [6]\u001b[0m, in \u001b[0;36m<cell line: 2>\u001b[0;34m()\u001b[0m\n\u001b[1;32m      1\u001b[0m \u001b[38;5;66;03m# a bar plot showing us bathrooms compared to their respective home prices\u001b[39;00m\n\u001b[0;32m----> 2\u001b[0m \u001b[43me\u001b[49m\u001b[38;5;241;43m.\u001b[39;49m\u001b[43mplot_categorical_and_continuous_vars\u001b[49m(df, \u001b[38;5;124m'\u001b[39m\u001b[38;5;124mbathrooms\u001b[39m\u001b[38;5;124m'\u001b[39m, \u001b[38;5;124m'\u001b[39m\u001b[38;5;124mhome_value\u001b[39m\u001b[38;5;124m'\u001b[39m)\n",
      "\u001b[0;31mAttributeError\u001b[0m: module 'explore' has no attribute 'plot_categorical_and_continuous_vars'"
     ]
    }
   ],
   "source": [
    "# a bar plot showing us bathrooms compared to their respective home prices\n",
    "e.plot_categorical_and_continuous_vars(df, 'bathrooms', 'home_value')"
   ]
  },
  {
   "cell_type": "markdown",
   "id": "7b5cfcdd",
   "metadata": {},
   "source": [
    "**Takeaways**\n",
    "\n",
    "- TBD\n",
    "\n",
    "____"
   ]
  },
  {
   "cell_type": "markdown",
   "id": "24ac7d67",
   "metadata": {},
   "source": [
    "**Takeaways**\n",
    "\n",
    "- We reject the null hypothesis, meaning there is a relationship between transaction date and home value. Transaction date will be moved forward for modeling\n",
    "\n",
    "_____"
   ]
  },
  {
   "cell_type": "markdown",
   "id": "5755e58a",
   "metadata": {},
   "source": [
    "# Exploration Summary"
   ]
  },
  {
   "cell_type": "markdown",
   "id": "74e4e430",
   "metadata": {},
   "source": [
    "**- TBD**<br>\n",
    "**- TBD<br>**\n",
    "**- TBD**\n",
    " \n",
    " ------"
   ]
  },
  {
   "cell_type": "markdown",
   "id": "4c540f0a",
   "metadata": {},
   "source": [
    "# Modeling "
   ]
  },
  {
   "cell_type": "markdown",
   "id": "7b403389",
   "metadata": {},
   "source": [
    "- Goal is to minimize Recall, so this will be my evaluation metric\n",
    "- Ran over 200,000 models with the following algorithmns: Logistic Regression, Decision Tree, Random Forest, K-Nearest Neighbors, and XGBoost \n",
    "- Before modeling scaled data and split\n",
    "- I evaluated the models on train and validate data \n",
    "- The best performing model then was evaluated on test data subset"
   ]
  },
  {
   "cell_type": "code",
   "execution_count": null,
   "id": "f4c8651a",
   "metadata": {},
   "outputs": [],
   "source": [
    "y_train, y_val, y_test, train_scaled, val_scaled, test_scaled = w.model_prep(df)"
   ]
  },
  {
   "cell_type": "code",
   "execution_count": null,
   "id": "6b42d0fd",
   "metadata": {},
   "outputs": [],
   "source": [
    "# wrote a function to scale my train, validate, and test data subsets\n",
    "train_scaled, validate_scaled, test_scaled = m.mvp_scaled_data(train, validate, test)"
   ]
  },
  {
   "cell_type": "code",
   "execution_count": null,
   "id": "ee672404",
   "metadata": {},
   "outputs": [],
   "source": [
    "# looking at one line of data in our scaled data\n",
    "train_scaled.head(1)"
   ]
  },
  {
   "cell_type": "code",
   "execution_count": null,
   "id": "bd2a806e",
   "metadata": {},
   "outputs": [],
   "source": [
    "# calling a function I wrote in my modeling.py to split my data in to X/y train, validate, test\n",
    "X_train, y_train, X_validate,y_validate, X_test, y_test = m.splitting_subsets(train, train_scaled, validate_scaled, test_scaled)"
   ]
  },
  {
   "cell_type": "code",
   "execution_count": null,
   "id": "726913a8",
   "metadata": {},
   "outputs": [],
   "source": [
    "# a look to 1st observation of our scaled, split, train subset\n",
    "X_train.head(1)"
   ]
  },
  {
   "cell_type": "code",
   "execution_count": null,
   "id": "cf7a5292",
   "metadata": {},
   "outputs": [],
   "source": [
    "# called my function that in my modeling.py to demostrate my 3 best models and the baseline\n",
    "# this includes the train rmse, validate rmse, and their difference \n",
    "\n",
    "m.best_models(X_train, y_train, X_validate, y_validate)"
   ]
  },
  {
   "cell_type": "markdown",
   "id": "a0d25f16",
   "metadata": {},
   "source": [
    "### Modeling Summary & Evaluation "
   ]
  },
  {
   "cell_type": "markdown",
   "id": "c1bd2cdb",
   "metadata": {},
   "source": [
    "**The best performing model is the linear polynomial, so we tested the model with the test data**"
   ]
  },
  {
   "cell_type": "code",
   "execution_count": null,
   "id": "544ae716",
   "metadata": {},
   "outputs": [],
   "source": [
    "# this is the best model and ran the test data on it\n",
    "m.best_model(X_train, y_train, X_validate, y_validate, X_test, y_test)"
   ]
  },
  {
   "cell_type": "markdown",
   "id": "9c74af7b",
   "metadata": {},
   "source": [
    "------"
   ]
  },
  {
   "cell_type": "markdown",
   "id": "333725a6",
   "metadata": {},
   "source": [
    "<div class=\"alert alert-info\">\n",
    "    <header>\n",
    "    <h2>Conclusions:</h2>    \n",
    "</header>    \n",
    "<dt>\n",
    "    \n",
    "Home value predictions were used by minimizing RMSE within our models. County and transaction month have proven to be the most valuable, but there is still room for improvement.\n",
    "<br>        \n",
    "Best Model's performance:\n",
    "\n",
    "- My best model reduced the root mean squared error by 82500 dollars compared to the baseline results.\n",
    "\n",
    "- RMSE 82493.41 dollars on in-sample (train), RMSE 84100.76 dollars on out-of-sample data (validate) and RMSE of 80897.87 dollars on the test data.</dt>\n",
    "\n",
    "<header>\n",
    "    <h2>Recommendations:</h2>        \n",
    "</header>      \n",
    "<dl>\n",
    "    \n",
    "- I would recommend using counties and transaction months to build models to predict home values. \n",
    "\n",
    "- I would also recommend collecting more data about the homes. For example, crime rates in the county, average salary within neighborhoods, and school rankings.\n",
    " \n",
    "\n",
    "<header>\n",
    "    <h2> Next Steps:</h2>       \n",
    "</header> \n",
    "</dl>\n",
    "    \n",
    "- I would add more columns/features from the database to see if there are better relationships to help predict price.\n",
    "\n",
    "- Consider adding different hyperparameters to models for better results.  \n",
    "\n",
    "</div>"
   ]
  }
 ],
 "metadata": {
  "kernelspec": {
   "display_name": "Python 3 (ipykernel)",
   "language": "python",
   "name": "python3"
  },
  "language_info": {
   "codemirror_mode": {
    "name": "ipython",
    "version": 3
   },
   "file_extension": ".py",
   "mimetype": "text/x-python",
   "name": "python",
   "nbconvert_exporter": "python",
   "pygments_lexer": "ipython3",
   "version": "3.9.13"
  }
 },
 "nbformat": 4,
 "nbformat_minor": 5
}
